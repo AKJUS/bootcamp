{
 "cells": [
  {
   "cell_type": "markdown",
   "source": [
    "# Similarity Search with Milvus and OpenAI"
   ],
   "metadata": {
    "collapsed": false
   },
   "id": "878df9d74fca7d55"
  },
  {
   "cell_type": "markdown",
   "source": [
    "We'll showcase how [OpenAI's Embedding API](https://platform.openai.com/docs/guides/embeddings) can be used with our vector database to search across book titles. Many existing book search solutions (such as those used by public libraries, for example) rely on keyword matching rather than a semantic understanding of what the title is actually about. Using a trained model to represent the input data is known as semantic search, and can be expanded to a variety of different text-based use cases, including anomaly detection and document search."
   ],
   "metadata": {
    "collapsed": false
   },
   "id": "43973bc5cd0a1331"
  },
  {
   "cell_type": "markdown",
   "source": [
    "## Getting started\n",
    "We need an API key from the OpenAI website. Then we need to install some dependencies(Your PyMilvus should be higher than 2.4.2.)."
   ],
   "metadata": {
    "collapsed": false
   },
   "id": "584c8866814c37e5"
  },
  {
   "cell_type": "code",
   "execution_count": null,
   "outputs": [],
   "source": [
    "!pip install pymilvus\n",
    "!pip install openai"
   ],
   "metadata": {
    "collapsed": false
   },
   "id": "39a874f29e61f293"
  },
  {
   "cell_type": "markdown",
   "source": [
    "We'll also prepare the data that we're going to use for this example. You can grab the book titles [here](https://www.kaggle.com/datasets/jealousleopard/goodreadsbooks). Let's create a function to load book titles from our CSV."
   ],
   "metadata": {
    "collapsed": false
   },
   "id": "998c2d7b2ef17647"
  },
  {
   "cell_type": "code",
   "execution_count": null,
   "outputs": [],
   "source": [
    "import csv\n",
    "import json\n",
    "import random\n",
    "import time\n",
    "import os\n",
    "from openai import OpenAI\n",
    "from pymilvus import connections, FieldSchema, CollectionSchema, DataType, Collection, utility"
   ],
   "metadata": {
    "collapsed": false
   },
   "id": "2276f4939c0576e"
  },
  {
   "cell_type": "code",
   "execution_count": null,
   "outputs": [],
   "source": [
    "# Extract the book titles\n",
    "def csv_load(file):\n",
    "    with open(file, newline='') as f:\n",
    "        reader=csv.reader(f, delimiter=',')\n",
    "        for row in reader:\n",
    "            yield row[1]"
   ],
   "metadata": {
    "collapsed": false
   },
   "id": "a2ea554d5598cf43"
  },
  {
   "cell_type": "markdown",
   "source": [
    "With this, we're ready to move on to generating embeddings."
   ],
   "metadata": {
    "collapsed": false
   },
   "id": "a0e354812462821f"
  },
  {
   "cell_type": "markdown",
   "source": [
    "## Searching book titles with OpenAI & Milvus\n",
    "Here, we list the main parameters needed for this example. Beside each is a description of what it represents."
   ],
   "metadata": {
    "collapsed": false
   },
   "id": "998c86b7cef7b819"
  },
  {
   "cell_type": "code",
   "execution_count": null,
   "outputs": [],
   "source": [
    "FILE = './books.csv'  # Download it from https://www.kaggle.com/datasets/jealousleopard/goodreadsbooks and save it in the folder that holds your script.\n",
    "COLLECTION_NAME = 'title_db'  # Collection name\n",
    "DIMENSION = 1536  # Embeddings size\n",
    "COUNT = 100  # How many titles to embed and insert.\n",
    "MILVUS_URI = 'example.db'  # Define the URI for Milvus Lite\n",
    "MILVUS_TOKEN = ''\n",
    "OPENAI_ENGINE = 'text-embedding-3-small'  # Which engine to use, you can change it into `text-embedding-3-large` or `text-embedding-ada-002`\n",
    "os.environ[\"OPENAI_API_KEY\"] = \"<YOUR_OPENAI_API_KEY>\"  # Use your own Open AI API Key here\n",
    "openai_client = OpenAI()"
   ],
   "metadata": {
    "collapsed": false
   },
   "id": "7b4d741a70f1cc7e"
  },
  {
   "cell_type": "markdown",
   "source": [
    "### Note\n",
    "Because the embedding process for a free OpenAI account is relatively time-consuming, we use a set of data small enough to reach a balance between the script executing time and the precision of the search results. You can change the `COUNT` constant to fit your needs."
   ],
   "metadata": {
    "collapsed": false
   },
   "id": "180883400043b828"
  },
  {
   "cell_type": "code",
   "execution_count": null,
   "outputs": [],
   "source": [
    "from pymilvus import MilvusClient, DataType\n",
    "\n",
    "# Set up a Milvus client\n",
    "milvus_client = MilvusClient(\n",
    "    uri=MILVUS_URI,\n",
    "    token=MILVUS_TOKEN\n",
    ")\n",
    "milvus_client.create_collection(\n",
    "    collection_name=COLLECTION_NAME,\n",
    "    vector_field_name=\"vector\",\n",
    "    dimension=DIMENSION,\n",
    "    auto_id=False,\n",
    "    enable_dynamic_field=True,\n",
    "    metric_type=\"COSINE\"\n",
    ")"
   ],
   "metadata": {
    "collapsed": false
   },
   "id": "aac3c33b53fd2053"
  },
  {
   "cell_type": "markdown",
   "source": [
    "Once we have the collection set up, we need to start inserting our data. This process involves three steps: reading the data, embedding the titles, and inserting into Milvus."
   ],
   "metadata": {
    "collapsed": false
   },
   "id": "8edc33d0f3648a87"
  },
  {
   "cell_type": "code",
   "execution_count": null,
   "outputs": [],
   "source": [
    "# Extract embedding from text using OpenAI\n",
    "def embed(text):\n",
    "    response = openai_client.embeddings.create(\n",
    "        input=text,\n",
    "        model=OPENAI_ENGINE\n",
    "    )\n",
    "    return response.data[0].embedding\n",
    "\n",
    "# Insert each title and its embedding\n",
    "for idx, text in enumerate(random.sample(sorted(csv_load(FILE)), k=COUNT)):  # Load COUNT amount of random values from dataset\n",
    "    ins=[{\"id\": idx, \"title\": (text[:198] + '..') if len(text) > 200 else text, 'vector': embed(text)}]  # Insert the title id, the title text, and the title embedding vector\n",
    "    milvus_client.insert(COLLECTION_NAME, ins)"
   ],
   "metadata": {
    "collapsed": false
   },
   "id": "8eaf8ee7a73e3c56"
  },
  {
   "cell_type": "code",
   "execution_count": null,
   "outputs": [],
   "source": [
    "# Search the database based on input text\n",
    "def search(text):\n",
    "    results = milvus_client.search(\n",
    "        collection_name = COLLECTION_NAME,\n",
    "        data=[embed(text)],    # Embeded search value\n",
    "        output_fields=[\"title\"], # Include title field in result\n",
    "        search_params={\"metric_type\": \"COSINE\"},\n",
    "        limit=5 # Limit to five results per search\n",
    "    )\n",
    "    ret=[]\n",
    "    for hit in results[0]:\n",
    "        row=[]\n",
    "        row.extend([hit[\"id\"], hit[\"distance\"], hit[\"entity\"]['title']])  # Get the id, distance, and title for the results\n",
    "        ret.append(row)\n",
    "    return ret\n",
    "\n",
    "search_terms=['self-improvement', 'landscape']\n",
    "\n",
    "for x in search_terms:\n",
    "    print('Search term:', x)\n",
    "    for result in search(x):\n",
    "        print(result)"
   ],
   "metadata": {
    "collapsed": false
   },
   "id": "dc6f58a9ed093f6a"
  },
  {
   "cell_type": "markdown",
   "source": [
    "You should see the following as the output:"
   ],
   "metadata": {
    "collapsed": false
   },
   "id": "462c23266139a"
  },
  {
   "metadata": {},
   "cell_type": "code",
   "outputs": [],
   "execution_count": null,
   "source": [
    "# Search term: self-improvement\n",
    "# [92, 0.3417697846889496, 'Me vs. Me']\n",
    "# [68, 0.34026533365249634, 'Finding and Exploring Your Spiritual Path: An Exploration of the Pleasures and Perils of Seeking Personal Enlightenment']\n",
    "# [75, 0.3175859749317169, 'The Power of Infinite Love & Gratitude: An Evolutionary Journey to Awakening Your Spirit']\n",
    "# [18, 0.3085497319698334, 'On Beauty']\n",
    "# [41, 0.2611697316169739, 'A Sentimental Education']\n",
    "\n",
    "# Search term: landscape\n",
    "# [18, 0.2569754123687744, 'On Beauty']\n",
    "# [95, 0.2353191375732422, 'Close Range']\n",
    "# [24, 0.22978681325912476, 'This Lullaby']\n",
    "# [72, 0.20614467561244965, \"Cliffs of Despair: A Journey to Suicide's Edge\"]\n",
    "# [23, 0.20127272605895996, 'City of God']"
   ],
   "id": "3a8f5d782d0d5b14"
  }
 ],
 "metadata": {
  "kernelspec": {
   "display_name": "Python 3",
   "language": "python",
   "name": "python3"
  },
  "language_info": {
   "codemirror_mode": {
    "name": "ipython",
    "version": 2
   },
   "file_extension": ".py",
   "mimetype": "text/x-python",
   "name": "python",
   "nbconvert_exporter": "python",
   "pygments_lexer": "ipython2",
   "version": "2.7.6"
  }
 },
 "nbformat": 4,
 "nbformat_minor": 5
}

{
 "cells": [
  {
   "cell_type": "markdown",
   "metadata": {},
   "source": [
    "# Milvus Integration with OpenAI Agents: A Step-by-Step Guide\n",
    "\n",
    "This notebook shows how to create an agent that can query Milvus using natural language through Function Calling. We'll combine OpenAI's Agents framework with Milvus's powerful vector search capabilities to create a nice search experience.\n",
    "\n",
    "## Setup and Dependencies\n",
    "\n",
    "First, we need to set up our environment with the necessary libraries and initialize asyncio for Jupyter compatibility."
   ]
  },
  {
   "cell_type": "code",
   "execution_count": null,
   "metadata": {},
   "outputs": [],
   "source": [
    "! pip install openai pymilvus pydantic nest_asyncio"
   ]
  },
  {
   "cell_type": "code",
   "execution_count": 6,
   "metadata": {},
   "outputs": [],
   "source": [
    "import asyncio\n",
    "import nest_asyncio\n",
    "from dotenv import load_dotenv\n",
    "\n",
    "load_dotenv()\n",
    "\n",
    "nest_asyncio.apply()"
   ]
  },
  {
   "cell_type": "markdown",
   "metadata": {},
   "source": [
    "## Connecting to Milvus and Creating a Schema\n",
    "\n",
    "Now we'll connect to our Milvus instance and create a schema for our collection. This schema will define the structure of our data, including:\n",
    "- An ID field as the primary key\n",
    "- A text field to store our document content\n",
    "- A sparse vector field to store the BM25 embeddings\n",
    "\n",
    "### Full-Text Search in Milvus 2.5\n",
    "* Unified system for both vector and keyword search (unified APIs)\n",
    "* Built-in sparse-BM25 algorithm (similar as Elasticsearch use but vector based)\n",
    "* No need to manually generate embeddings for keyword search\n",
    "\n",
    "<img src=\"https://milvus.io/docs/v2.5.x/assets/full-text-search.png\" width=\"70%\" alt=\"img\">"
   ]
  },
  {
   "cell_type": "code",
   "execution_count": 30,
   "metadata": {},
   "outputs": [],
   "source": [
    "from pymilvus import DataType, FunctionType, MilvusClient\n",
    "\n",
    "client = MilvusClient(uri=\"http://localhost:19530\")\n",
    "\n",
    "schema = client.create_schema()\n",
    "\n",
    "# Simple schema that handles both text and vectors\n",
    "schema.add_field(\n",
    "    field_name=\"id\", datatype=DataType.INT64, is_primary=True, auto_id=True\n",
    ")\n",
    "schema.add_field(\n",
    "    field_name=\"text\", datatype=DataType.VARCHAR, max_length=1000, enable_analyzer=True\n",
    ")\n",
    "schema.add_field(field_name=\"sparse\", datatype=DataType.SPARSE_FLOAT_VECTOR)"
   ]
  },
  {
   "cell_type": "markdown",
   "metadata": {},
   "source": [
    "## Setting Up BM25 for Full-Text Search\n",
    "\n",
    "Milvus supports full-text search through BM25 functions. Here we define a function that will automatically convert our text data into sparse vector representations optimized for text search."
   ]
  },
  {
   "cell_type": "code",
   "execution_count": 32,
   "metadata": {},
   "outputs": [
    {
     "data": {
      "text/plain": [
       "{'auto_id': False, 'description': '', 'fields': [{'name': 'id', 'description': '', 'type': <DataType.INT64: 5>, 'is_primary': True, 'auto_id': True}, {'name': 'text', 'description': '', 'type': <DataType.VARCHAR: 21>, 'params': {'max_length': 1000, 'enable_analyzer': True}}, {'name': 'sparse', 'description': '', 'type': <DataType.SPARSE_FLOAT_VECTOR: 104>, 'is_function_output': True}], 'enable_dynamic_field': False, 'functions': [{'name': 'text_bm25_emb', 'description': '', 'type': <FunctionType.BM25: 1>, 'input_field_names': ['text'], 'output_field_names': ['sparse'], 'params': {}}]}"
      ]
     },
     "execution_count": 32,
     "metadata": {},
     "output_type": "execute_result"
    }
   ],
   "source": [
    "from pymilvus import Function\n",
    "\n",
    "# Milvus handles tokenization and BM25 conversion\n",
    "bm25_function = Function(\n",
    "    name=\"text_bm25_emb\",  # Function name\n",
    "    input_field_names=[\"text\"],  # Name of the VARCHAR field containing raw text data\n",
    "    output_field_names=[\n",
    "        \"sparse\"\n",
    "    ],  # Name of the SPARSE_FLOAT_VECTOR field reserved to store generated embeddings\n",
    "    function_type=FunctionType.BM25,\n",
    ")\n",
    "\n",
    "schema.add_function(bm25_function)"
   ]
  },
  {
   "cell_type": "markdown",
   "metadata": {},
   "source": [
    "## Creating the Collection and Loading Sample Data\n",
    "\n",
    "Now we'll create our collection with the schema and index parameters, then load some sample data about information retrieval and Milvus."
   ]
  },
  {
   "cell_type": "code",
   "execution_count": 33,
   "metadata": {},
   "outputs": [
    {
     "data": {
      "text/plain": [
       "{'insert_count': 100, 'ids': [456486814660619039, 456486814660619040, 456486814660619041, 456486814660619042, 456486814660619043, 456486814660619044, 456486814660619045, 456486814660619046, 456486814660619047, 456486814660619048, 456486814660619049, 456486814660619050, 456486814660619051, 456486814660619052, 456486814660619053, 456486814660619054, 456486814660619055, 456486814660619056, 456486814660619057, 456486814660619058, 456486814660619059, 456486814660619060, 456486814660619061, 456486814660619062, 456486814660619063, 456486814660619064, 456486814660619065, 456486814660619066, 456486814660619067, 456486814660619068, 456486814660619069, 456486814660619070, 456486814660619071, 456486814660619072, 456486814660619073, 456486814660619074, 456486814660619075, 456486814660619076, 456486814660619077, 456486814660619078, 456486814660619079, 456486814660619080, 456486814660619081, 456486814660619082, 456486814660619083, 456486814660619084, 456486814660619085, 456486814660619086, 456486814660619087, 456486814660619088, 456486814660619089, 456486814660619090, 456486814660619091, 456486814660619092, 456486814660619093, 456486814660619094, 456486814660619095, 456486814660619096, 456486814660619097, 456486814660619098, 456486814660619099, 456486814660619100, 456486814660619101, 456486814660619102, 456486814660619103, 456486814660619104, 456486814660619105, 456486814660619106, 456486814660619107, 456486814660619108, 456486814660619109, 456486814660619110, 456486814660619111, 456486814660619112, 456486814660619113, 456486814660619114, 456486814660619115, 456486814660619116, 456486814660619117, 456486814660619118, 456486814660619119, 456486814660619120, 456486814660619121, 456486814660619122, 456486814660619123, 456486814660619124, 456486814660619125, 456486814660619126, 456486814660619127, 456486814660619128, 456486814660619129, 456486814660619130, 456486814660619131, 456486814660619132, 456486814660619133, 456486814660619134, 456486814660619135, 456486814660619136, 456486814660619137, 456486814660619138], 'cost': 0}"
      ]
     },
     "execution_count": 33,
     "metadata": {},
     "output_type": "execute_result"
    }
   ],
   "source": [
    "index_params = client.prepare_index_params()\n",
    "\n",
    "index_params.add_index(field_name=\"sparse\", index_type=\"AUTOINDEX\", metric_type=\"BM25\")\n",
    "\n",
    "if client.has_collection('demo'):\n",
    "    client.drop_collection('demo')\n",
    "    \n",
    "client.create_collection(\n",
    "    collection_name=\"demo\", schema=schema, index_params=index_params,\n",
    ")\n",
    "\n",
    "## 3. Loading Test Data\n",
    "client.insert(\n",
    "    \"demo\",\n",
    "    [\n",
    "        {\"text\": \"Information retrieval helps users find relevant documents in large datasets.\"},\n",
    "        {\"text\": \"Search engines use information retrieval techniques to index and rank web pages.\"},\n",
    "        {\"text\": \"The core of IR is matching user queries with the most relevant content.\"},\n",
    "        {\"text\": \"Vector search is revolutionising modern information retrieval systems.\"},\n",
    "        {\"text\": \"Machine learning improves ranking algorithms in information retrieval.\"},\n",
    "        {\"text\": \"IR techniques include keyword-based search, semantic search, and vector search.\"},\n",
    "        {\"text\": \"Boolean retrieval is one of the earliest information retrieval methods.\"},\n",
    "        {\"text\": \"TF-IDF is a classic method used to score document relevance in IR.\"},\n",
    "        {\"text\": \"Modern IR systems integrate deep learning for better contextual understanding.\"},\n",
    "        {\"text\": \"Milvus is an open-source vector database designed for AI-powered search.\"},\n",
    "        {\"text\": \"Milvus enables fast and scalable similarity search on high-dimensional data.\"},\n",
    "        {\"text\": \"With Milvus, developers can build applications that support image, text, and video retrieval.\"},\n",
    "        {\"text\": \"Milvus integrates well with deep learning frameworks like PyTorch and TensorFlow.\"},\n",
    "        {\"text\": \"The core of Milvus is optimised for approximate nearest neighbour (ANN) search.\"},\n",
    "        {\"text\": \"Milvus supports hybrid search combining structured and unstructured data.\"},\n",
    "        {\"text\": \"Large-scale AI applications rely on Milvus for efficient vector retrieval.\"},\n",
    "        {\"text\": \"Milvus makes it easy to perform high-speed similarity searches.\"},\n",
    "        {\"text\": \"Cloud-native by design, Milvus scales effortlessly with demand.\"},\n",
    "        {\"text\": \"Milvus powers applications in recommendation systems, fraud detection, and genomics.\"},\n",
    "        {\"text\": \"The latest version of Milvus introduces faster indexing and lower latency.\"},\n",
    "        {\"text\": \"Milvus supports HNSW, IVF_FLAT, and other popular ANN algorithms.\"},\n",
    "        {\"text\": \"Vector embeddings from models like OpenAI’s CLIP can be indexed in Milvus.\"},\n",
    "        {\"text\": \"Milvus has built-in support for multi-tenancy in enterprise use cases.\"},\n",
    "        {\"text\": \"The Milvus community actively contributes to improving its performance.\"},\n",
    "        {\"text\": \"Milvus integrates with data pipelines like Apache Kafka for real-time updates.\"},\n",
    "        {\"text\": \"Using Milvus, companies can enhance search experiences with vector search.\"},\n",
    "        {\"text\": \"Milvus plays a crucial role in powering AI search in medical research.\"},\n",
    "        {\"text\": \"Milvus integrates with LangChain for advanced RAG pipelines.\"},\n",
    "        {\"text\": \"Open-source contributors continue to enhance Milvus’ search performance.\"},\n",
    "        {\"text\": \"Multi-modal search in Milvus enables applications beyond text and images.\"},\n",
    "        {\"text\": \"Milvus has an intuitive REST API for easy integration.\"},\n",
    "        {\"text\": \"Milvus’ FAISS and HNSW backends provide flexibility in indexing.\"},\n",
    "        {\"text\": \"The architecture of Milvus ensures fault tolerance and high availability.\"},\n",
    "        {\"text\": \"Milvus integrates seamlessly with LLM-based applications.\"},\n",
    "        {\"text\": \"Startups leverage Milvus to build next-gen AI-powered products.\"},\n",
    "        {\"text\": \"Milvus Cloud offers a managed solution for vector search at scale.\"},\n",
    "        {\"text\": \"The future of AI search is being shaped by Milvus and similar vector databases.\"}\n",
    "    ],\n",
    ")"
   ]
  },
  {
   "cell_type": "markdown",
   "metadata": {},
   "source": [
    "## Defining Output Types for Structured Results\n",
    "\n",
    "To make our search results more structured and easier to work with, we'll define Pydantic models that specify the format of our search results."
   ]
  },
  {
   "cell_type": "code",
   "execution_count": 44,
   "metadata": {},
   "outputs": [],
   "source": [
    "from pydantic import BaseModel\n",
    "from typing import List\n",
    "\n",
    "# Simplified output model for search results\n",
    "class MilvusSearchResult(BaseModel):\n",
    "    id: int\n",
    "    text: str\n",
    "\n",
    "class MilvusSearchResults(BaseModel):\n",
    "    results: List[MilvusSearchResult]\n",
    "    query: str"
   ]
  },
  {
   "cell_type": "markdown",
   "metadata": {},
   "source": [
    "## Creating a Custom Search Tool\n",
    "\n",
    "Next, we'll create a custom function tool that our agent can use to search the Milvus database. This tool will:\n",
    "1. Accept a collection name, query text, and limit parameter\n",
    "2. Execute a BM25 search against the Milvus collection\n",
    "3. Return the results in a structured format"
   ]
  },
  {
   "cell_type": "code",
   "execution_count": 48,
   "metadata": {},
   "outputs": [],
   "source": [
    "import json\n",
    "from typing import List, Dict, Any, Optional\n",
    "from pymilvus import MilvusClient\n",
    "from agents import function_tool, RunContextWrapper\n",
    "\n",
    "@function_tool\n",
    "async def search_milvus_text(\n",
    "    ctx: RunContextWrapper[Any],\n",
    "    collection_name: str,\n",
    "    query_text: str,\n",
    "    limit: int\n",
    ") -> str:\n",
    "    \"\"\"Search for text documents in a Milvus collection using full text search.\n",
    "    \n",
    "    Args:\n",
    "        collection_name: Name of the Milvus collection to search.\n",
    "        query_text: The text query to search for.\n",
    "        limit: Maximum number of results to return.\n",
    "    \"\"\"\n",
    "    try:\n",
    "        # Initialize Milvus client\n",
    "        client = MilvusClient()\n",
    "        \n",
    "        # Prepare search parameters for BM25\n",
    "        search_params = {\n",
    "            \"metric_type\": \"BM25\",\n",
    "            \"params\": {\"drop_ratio_search\": 0.2}\n",
    "        }\n",
    "        \n",
    "        # Execute search with text query\n",
    "        results = client.search(\n",
    "            collection_name=collection_name,\n",
    "            data=[query_text],\n",
    "            anns_field=\"sparse\",\n",
    "            limit=limit,\n",
    "            search_params=search_params,\n",
    "            output_fields=[\"text\"]\n",
    "        )\n",
    "        return json.dumps({\n",
    "                \"results\": results,\n",
    "                \"query\": query_text,\n",
    "                \"collection\": collection_name\n",
    "            })\n",
    "    \n",
    "    except Exception as e:\n",
    "        print(f'Exception is: {e}')\n",
    "        return f\"Error searching Milvus: {str(e)}\""
   ]
  },
  {
   "cell_type": "markdown",
   "metadata": {},
   "source": [
    "## Building the Agent\n",
    "\n",
    "Now we'll create an agent that can use our search tool. We'll give it instructions on how to handle search requests and specify that it should return results in our structured format."
   ]
  },
  {
   "cell_type": "code",
   "execution_count": 59,
   "metadata": {},
   "outputs": [],
   "source": [
    "from agents import Agent, Runner, WebSearchTool, trace\n",
    "\n",
    "async def main():\n",
    "    agent = Agent(\n",
    "        name=\"Milvus Searcher\",\n",
    "        instructions=\"\"\"\n",
    "        You are a helpful agent that can search through Milvus vector database using full text search. Return the results in a structured format.\n",
    "        \"\"\",\n",
    "        tools=[\n",
    "            WebSearchTool(user_location={\"type\": \"approximate\", \"city\": \"New York\"}),\n",
    "            search_milvus_text \n",
    "        ],\n",
    "        output_type=MilvusSearchResults\n",
    "    )\n",
    "\n",
    "    with trace(\"Milvus search example\"):\n",
    "        result = await Runner.run(\n",
    "            agent,\n",
    "            \"Find documents in the 'demo' collection that are similar to this concept: 'information retrieval'\"\n",
    "        )\n",
    "        print(result.final_output.results)"
   ]
  },
  {
   "cell_type": "code",
   "execution_count": 60,
   "metadata": {},
   "outputs": [
    {
     "name": "stdout",
     "output_type": "stream",
     "text": [
      "[MilvusSearchResult(id=456486814660619045, text='Boolean retrieval is one of the earliest information retrieval methods.'), MilvusSearchResult(id=456486814660619071, text='Zero-shot retrieval is gaining traction in open-domain information retrieval.'), MilvusSearchResult(id=456486814660619043, text='Machine learning improves ranking algorithms in information retrieval.'), MilvusSearchResult(id=456486814660619042, text='Vector search is revolutionising modern information retrieval systems.'), MilvusSearchResult(id=456486814660619048, text='Knowledge graphs enhance information retrieval by structuring relationships.')]\n"
     ]
    }
   ],
   "source": [
    "asyncio.run(main())"
   ]
  },
  {
   "cell_type": "markdown",
   "metadata": {},
   "source": [
    "## Next Steps\n",
    "\n",
    "This notebook demonstrates a basic implementation of a Milvus search with OpenAI Agents.\n",
    "\n",
    "The combination of Milvus's powerful search capabilities and OpenAI's agent framework opens up exciting possibilities for building intelligent search applications!"
   ]
  }
 ],
 "metadata": {
  "kernelspec": {
   "display_name": ".venv",
   "language": "python",
   "name": "python3"
  },
  "language_info": {
   "codemirror_mode": {
    "name": "ipython",
    "version": 3
   },
   "file_extension": ".py",
   "mimetype": "text/x-python",
   "name": "python",
   "nbconvert_exporter": "python",
   "pygments_lexer": "ipython3",
   "version": "3.12.8"
  }
 },
 "nbformat": 4,
 "nbformat_minor": 2
}

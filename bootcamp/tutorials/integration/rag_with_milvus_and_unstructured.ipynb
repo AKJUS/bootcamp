{
 "cells": [
  {
   "cell_type": "markdown",
   "metadata": {},
   "source": [
    "<a href=\"https://colab.research.google.com/github/milvus-io/bootcamp/blob/master/bootcamp/tutorials/integration/rag_with_milvus_and_unstructured.ipynb\" target=\"_parent\"><img src=\"https://colab.research.google.com/assets/colab-badge.svg\" alt=\"Open In Colab\"/></a>   <a href=\"https://github.com/milvus-io/bootcamp/blob/master/bootcamp/tutorials/integration/rag_with_milvus_and_unstructured.ipynb\" target=\"_blank\">\n",
    "    <img src=\"https://img.shields.io/badge/View%20on%20GitHub-555555?style=flat&logo=github&logoColor=white\" alt=\"GitHub Repository\"/>"
   ]
  },
  {
   "cell_type": "markdown",
   "metadata": {},
   "source": [
    "# Build a RAG with Milvus and Unstructured\n",
    "\n",
    "[Unstructured](https://docs.unstructured.io/welcome) provides a platform and tools to ingest and process unstructured documents for Retrieval Augmented Generation (RAG) and model fine-tuning. It offers both a no-code UI platform and serverless API services, allowing users to process data on Unstructured-hosted compute resources.\n",
    "\n",
    "In this tutorial, we will use Unstructured to ingest PDF documents and then use Milvus to build a RAG pipeline.\n"
   ]
  },
  {
   "cell_type": "markdown",
   "metadata": {},
   "source": [
    "## Preparation\n",
    "### Dependencies and Environment"
   ]
  },
  {
   "cell_type": "code",
   "execution_count": 1,
   "metadata": {},
   "outputs": [],
   "source": [
    "! pip install -qU \"unstructured[pdf]\" pymilvus openai"
   ]
  },
  {
   "cell_type": "markdown",
   "metadata": {},
   "source": [
    "> **Installation Options:**\n",
    "> - For processing all document formats: `pip install \"unstructured[all-docs]\"`\n",
    "> - For specific formats (e.g., PDF): `pip install \"unstructured[pdf]\"`\n",
    "> - For more installation options, see the [Unstructured documentation](https://docs.unstructured.io/open-source/installation/full-installation)"
   ]
  },
  {
   "cell_type": "markdown",
   "metadata": {},
   "source": [
    "> If you are using Google Colab, to enable dependencies just installed, you may need to **restart the runtime** (click on the \"Runtime\" menu at the top of the screen, and select \"Restart session\" from the dropdown menu)."
   ]
  },
  {
   "cell_type": "markdown",
   "metadata": {},
   "source": [
    "We will use OpenAI as the LLM in this example. You should prepare the [api key](https://platform.openai.com/docs/quickstart) `OPENAI_API_KEY` as an environment variable."
   ]
  },
  {
   "cell_type": "code",
   "execution_count": 2,
   "metadata": {},
   "outputs": [],
   "source": [
    "import os\n",
    "\n",
    "os.environ[\"OPENAI_API_KEY\"] = \"sk-***********\""
   ]
  },
  {
   "cell_type": "markdown",
   "metadata": {},
   "source": [
    "### Prepare Milvus and OpenAI clients\n",
    "You can use the Milvus client to create a Milvus collection and insert data into it."
   ]
  },
  {
   "cell_type": "code",
   "execution_count": 3,
   "metadata": {},
   "outputs": [],
   "source": [
    "from pymilvus import MilvusClient, DataType\n",
    "\n",
    "# Initialize Milvus client\n",
    "milvus_client = MilvusClient(uri=\"./milvus_demo.db\")"
   ]
  },
  {
   "cell_type": "markdown",
   "metadata": {},
   "source": [
    "> As for the argument of `MilvusClient`:\n",
    "> - Setting the `uri` as a local file, e.g.`./milvus.db`, is the most convenient method, as it automatically utilizes [Milvus Lite](https://milvus.io/docs/milvus_lite.md) to store all data in this file.\n",
    "> - If you have large scale of data, say more than a million vectors, you can set up a more performant Milvus server on [Docker or Kubernetes](https://milvus.io/docs/quickstart.md). In this setup, please use the server address and port as your uri, e.g.`http://localhost:19530`. If you enable the authentication feature on Milvus, use \"<your_username>:<your_password>\" as the token, otherwise don't set the token.\n",
    "> - If you want to use [Zilliz Cloud](https://zilliz.com/cloud), the fully managed cloud service for Milvus, adjust the `uri` and `token`, which correspond to the [Public Endpoint and Api key](https://docs.zilliz.com/docs/on-zilliz-cloud-console#free-cluster-details) in Zilliz Cloud."
   ]
  },
  {
   "cell_type": "markdown",
   "metadata": {},
   "source": [
    "Check if the collection already exists and drop it if it does."
   ]
  },
  {
   "cell_type": "code",
   "execution_count": 4,
   "metadata": {},
   "outputs": [],
   "source": [
    "collection_name = \"my_rag_collection\"\n",
    "\n",
    "if milvus_client.has_collection(collection_name):\n",
    "    milvus_client.drop_collection(collection_name)"
   ]
  },
  {
   "cell_type": "markdown",
   "metadata": {},
   "source": [
    "Prepare a OpenAI client to generate embeddings and generate responses."
   ]
  },
  {
   "cell_type": "code",
   "execution_count": 5,
   "metadata": {},
   "outputs": [],
   "source": [
    "from openai import OpenAI\n",
    "\n",
    "openai_client = OpenAI()\n",
    "\n",
    "\n",
    "def emb_text(text):\n",
    "    return (\n",
    "        openai_client.embeddings.create(input=text, model=\"text-embedding-3-small\")\n",
    "        .data[0]\n",
    "        .embedding\n",
    "    )"
   ]
  },
  {
   "cell_type": "markdown",
   "metadata": {},
   "source": [
    "Generate a test embedding and print its dimension and first few elements."
   ]
  },
  {
   "cell_type": "code",
   "execution_count": 6,
   "metadata": {},
   "outputs": [
    {
     "name": "stdout",
     "output_type": "stream",
     "text": [
      "1536\n",
      "[0.009889289736747742, -0.005578675772994757, 0.00683477520942688, -0.03805781528353691, -0.01824733428657055, -0.04121600463986397, -0.007636285852640867, 0.03225184231996536, 0.018949154764413834, 9.352207416668534e-05]\n"
     ]
    }
   ],
   "source": [
    "test_embedding = emb_text(\"This is a test\")\n",
    "embedding_dim = len(test_embedding)\n",
    "print(embedding_dim)\n",
    "print(test_embedding[:10])"
   ]
  },
  {
   "cell_type": "markdown",
   "metadata": {},
   "source": [
    "## Create Milvus Collection\n",
    "We will create a collection with the following schema:\n",
    "- `id`: the primary key, which is a unique identifier for each document.\n",
    "- `vector`: the embedding of the document.\n",
    "- `text`: the text content of the document.\n",
    "- `metadata`: the metadata of the document.\n",
    "\n",
    "Then we build an `AUTOINDEX` index on the `vector` field. And then create the collection."
   ]
  },
  {
   "cell_type": "code",
   "execution_count": 7,
   "metadata": {},
   "outputs": [],
   "source": [
    "# Create schema\n",
    "schema = milvus_client.create_schema(auto_id=False, enable_dynamic_field=False)\n",
    "# Add fields to schema\n",
    "schema.add_field(field_name=\"id\", datatype=DataType.INT64, is_primary=True)\n",
    "schema.add_field(field_name=\"vector\", datatype=DataType.FLOAT_VECTOR, dim=embedding_dim)\n",
    "schema.add_field(field_name=\"text\", datatype=DataType.VARCHAR, max_length=65535)\n",
    "schema.add_field(field_name=\"metadata\", datatype=DataType.JSON)\n",
    "index_params = MilvusClient.prepare_index_params()\n",
    "index_params.add_index(\n",
    "    field_name=\"vector\",\n",
    "    metric_type=\"COSINE\",\n",
    "    index_type=\"AUTOINDEX\",\n",
    ")\n",
    "milvus_client.create_collection(\n",
    "    collection_name=collection_name,\n",
    "    schema=schema,\n",
    "    index_params=index_params,\n",
    "    consistency_level=\"Strong\",\n",
    ")\n",
    "\n",
    "milvus_client.load_collection(collection_name=collection_name)"
   ]
  },
  {
   "cell_type": "markdown",
   "metadata": {},
   "source": [
    "## Load data from Unstructured\n",
    "Unstructured provides a flexible and powerful ingestion pipeline to process various file types, including PDF, HTML, and more.\n",
    "We will partition and chunk a local PDF file. And then load the data into Milvus."
   ]
  },
  {
   "cell_type": "code",
   "execution_count": 8,
   "metadata": {},
   "outputs": [
    {
     "name": "stderr",
     "output_type": "stream",
     "text": [
      "/Users/jinhonglin/anaconda3/envs/uns/lib/python3.11/site-packages/tqdm/auto.py:21: TqdmWarning: IProgress not found. Please update jupyter and ipywidgets. See https://ipywidgets.readthedocs.io/en/stable/user_install.html\n",
      "  from .autonotebook import tqdm as notebook_tqdm\n"
     ]
    }
   ],
   "source": [
    "from unstructured.partition.auto import partition\n",
    "\n",
    "elements = partition(\n",
    "    filename=\"./pdf_files/WhatisMilvus.pdf\",\n",
    "    strategy=\"hi_res\",\n",
    "    chunking_strategy=\"by_title\",\n",
    ")  # Replace with the path to your PDF file"
   ]
  },
  {
   "cell_type": "markdown",
   "metadata": {},
   "source": [
    "Let's examine the partitioned elements from the PDF file. Each element represents a chunk of content extracted by Unstructured's partitioning process."
   ]
  },
  {
   "cell_type": "code",
   "execution_count": 9,
   "metadata": {},
   "outputs": [
    {
     "name": "stdout",
     "output_type": "stream",
     "text": [
      "What is Milvus?\n",
      "\n",
      "Milvus is a high-performance, highly scalable vector database that runs efficiently across a wide range of environments, from a laptop to large-scale distributed systems. It is available as both open-source software and a cloud service.\n",
      "\n",
      "\n",
      "--------------------------------------------------------------------------------\n",
      "Milvus is an open-source project under LF AI & Data Foundation distributed under the Apache 2.0 license. Most contributors are experts from the high-performance computing (HPC) community, specializing in building large-scale systems and optimizing hardware-aware code. Core contributors include professionals from Zilliz, ARM, NVIDIA, AMD, Intel, Meta, IBM, Salesforce, Alibaba, and Microsoft.\n",
      "\n",
      "\n",
      "--------------------------------------------------------------------------------\n",
      "Unstructured Data, Embeddings, and Milvus\n",
      "\n",
      "Unstructured data, such as text, images, and audio, varies in format and carries rich underlying semantics, making it challenging to analyze. To manage this complexity, embeddings are used to convert unstructured data into numerical vectors that capture its essential characteristics. These vectors are then stored in a vector database, enabling fast and scalable searches and analytics.\n",
      "\n",
      "\n",
      "--------------------------------------------------------------------------------\n",
      "Milvus offers robust data modeling capabilities, enabling you to organize your unstructured or multi-modal data into structured collections. It supports a wide range of data types for different attribute modeling, including common numerical and character types, various vector types, arrays, sets, and JSON, saving you from the effort of maintaining multiple database systems.\n",
      "\n",
      "\n",
      "--------------------------------------------------------------------------------\n",
      "Milvus offers three deployment modes, covering a wide range of data scales—from local prototyping in Jupyter Notebooks to massive Kubernetes clusters managing tens of billions of vectors:\n",
      "\n",
      "Milvus Lite is a Python library that can be easily integrated into your applications. As a lightweight version of Milvus, it’s ideal for quick prototyping in Jupyter Notebooks or running on edge devices with limited resources. Learn more.\n",
      "\n",
      "\n",
      "--------------------------------------------------------------------------------\n",
      "Milvus Standalone is a single-machine server deployment, with all components bundled into a single Docker image for convenient deployment. Learn more.\n",
      "\n",
      "e@\n",
      "\n",
      "Milvus Distributed can be deployed on Kubernetes clusters, featuring a cloud-native architecture designed for billion-scale or even larger scenarios. This architecture ensures redundancy in critical components. Learn more.\n",
      "\n",
      "\n",
      "--------------------------------------------------------------------------------\n",
      "What Makes Milvus so Fast?\n",
      "\n",
      "Milvus was designed from day one to be a highly efficient vector database system. In most cases, Milvus outperforms other vector databases by 2-5x (see the VectorDBBench results). This high performance is the result of several key design decisions:\n",
      "\n",
      "Hardware-aware Optimization: To accommodate Milvus in various hardware environments, we have optimized its performance specifically for many hardware architectures and platforms, including AVX512, SIMD, GPUs, and NVMe SSD.\n",
      "\n",
      "\n",
      "--------------------------------------------------------------------------------\n",
      "Advanced Search Algorithms: Milvus supports a wide range of in-memory and on-disk indexing/search algorithms, including IVF, HNSW, DiskANN, and more, all of which have been deeply optimized. Compared to popular implementations like FAISS and HNSWLib, Milvus delivers 30%-70% better performance.\n",
      "\n",
      "\n",
      "--------------------------------------------------------------------------------\n",
      "Search Engine in C++: Over 80% of a vector database's performance is determined by its search engine. Milvus uses C++ for this critical component due to the language's high performance, low-level optimization, and efficient resource management. Most importantly, Milvus integrates numerous hardware-aware code optimizations, ranging from assembly-level vectorization to multi-thread parallelization and scheduling, to fully leverage hardware capabilities.\n",
      "\n",
      "\n",
      "--------------------------------------------------------------------------------\n",
      "Column-Oriented: Milvus is a column-oriented vector database system. The primary advantages come from the data access patterns. When performing queries, a column-oriented database reads only the specific fields involved in the query, rather than entire rows, which greatly reduces the amount of data accessed. Additionally, operations on column-based data can be easily vectorized, allowing for operations to be applied in the entire columns at once, further enhancing performance.\n",
      "\n",
      "\n",
      "--------------------------------------------------------------------------------\n",
      "What Makes Milvus so Scalable\n",
      "\n",
      "In 2022, Milvus supported billion-scale vectors, and in 2023, it scaled up to tens of billions with consistent stability, powering large-scale scenarios for over 300 major enterprises, including Salesforce, PayPal, Shopee, Airbnb, eBay, NVIDIA, IBM, AT&T, LINE, ROBLOX, Inflection, etc.\n",
      "\n",
      "Milvus's cloud-native and highly decoupled system architecture ensures that the system can continuously expand as data grows:\n",
      "\n",
      "\n",
      "--------------------------------------------------------------------------------\n",
      "Milvus itself is fully stateless so it can be easily scaled with the help of Kubernetes or public clouds. In addition, Milvus components are well decoupled, with the three most critical tasks—search, data insertion, and indexing/compaction—designed as easily parallelized processes, with complex logic separated out. This ensures that the corresponding query node, data node, and index node can scale both up and out independently, optimizing performance and cost efficiency.\n",
      "\n",
      "\n",
      "--------------------------------------------------------------------------------\n",
      "Types of Searches Supported by Milvus\n",
      "\n",
      "Milvus supports various types of search functions to meet the demands of different use cases:\n",
      "\n",
      "ANN Search: Finds the top K vectors closest to your query vector.\n",
      "\n",
      "\n",
      "--------------------------------------------------------------------------------\n",
      "eoeeeee\n",
      "\n",
      "Filtering Search: Performs ANN search under specified filtering conditions.\n",
      "\n",
      "Range Search: Finds vectors within a specified radius from your query vector.\n",
      "\n",
      "Hybrid Search: Conducts ANN search based on multiple vector fields.\n",
      "\n",
      "Keyword Search: Keyword search based on BM25.\n",
      "\n",
      "Reranking: Adjusts the order of search results based on additional criteria or a secondary algorithm, refining the initial ANN search results.\n",
      "\n",
      "Fetch: Retrieves data by their primary keys.\n",
      "\n",
      "\n",
      "--------------------------------------------------------------------------------\n",
      "Query: Retrieves data using specific expressions.\n",
      "\n",
      "Comprehensive Feature Set\n",
      "\n",
      "In addition to the key search features mentioned above, Milvus also provides a set of features implemented around ANN searches so that you can fully utilize its capabilities.\n",
      "\n",
      "API and SDK\n",
      "\n",
      "RESTful API (official)\n",
      "\n",
      "PyMilvus (Python SDK) (official)\n",
      "\n",
      "Go SDK (official)\n",
      "\n",
      "Java SDK (official)\n",
      "\n",
      "Node.js (JavaScript) SDK (official)\n",
      "\n",
      "C# (contributed by Microsoft)\n",
      "\n",
      "\n",
      "--------------------------------------------------------------------------------\n",
      "Advanced Data Types\n",
      "\n",
      "In addition to primitive data types, Milvus supports various advanced data types and their respective applicable distance metrics.\n",
      "\n",
      "Sparse Vectors\n",
      "\n",
      "Binary Vectors\n",
      "\n",
      "JSON Support\n",
      "\n",
      "Array Support\n",
      "\n",
      "Distance Metrics\n",
      "\n",
      "\n",
      "--------------------------------------------------------------------------------\n",
      "Acceleration\n",
      "\n",
      "Search Algorithms\n",
      "\n",
      "Milvus supports a set of tunable indexing and search algorithms. For details, see In-memory Index, On- disk Index, and GPU Index.\n",
      "\n",
      "Partitions and Partition Keys\n",
      "\n",
      "Partitions are sub-divisions of a Milvus collection. You can choose a scalar field as the partition key for better search performance. For details, see Manage Partitions and Use Partition Key.\n",
      "\n",
      "Tunable Consistency Model\n",
      "\n",
      "\n",
      "--------------------------------------------------------------------------------\n",
      "Consistency ensures every Milvus node or replica has the same view of data when writing or reading data at a given time. You can easily tune the consistency level when conducting ANN searches in Milvus. For details, see Consistency.\n",
      "\n",
      "High-throughput Data Import\n",
      "\n",
      "To import a large volume of data into Milvus instead of inserting them one after another, consider using our high-throughput data import tools. For details, refer to Prepare Source Data and Import Data.\n",
      "\n",
      "Multi-tenancy Support\n",
      "\n",
      "\n",
      "--------------------------------------------------------------------------------\n",
      "Milvus has implemented a lot of features oriented to multi-tenancy scenarios, including Partition Key, Clustering Key, and more. For details, see Multi-tenancy Strategies.\n",
      "\n",
      "Security and Authorization\n",
      "\n",
      "Tunable Consistency Model\n",
      "\n",
      "Consistency ensures every Milvus node or replica has the same view of data when writing or reading data at a given time. You can easily tune the consistency level when conducting ANN searches in\n",
      "\n",
      "\n",
      "--------------------------------------------------------------------------------\n",
      "Milvus. For details, see Consistency.\n",
      "\n",
      "Data Isolation and Resource Control\n",
      "\n",
      "For multi-tenancy scenarios, data isolation is the basic security requirement. Milvus implements\n",
      "\n",
      "several features to resolve your security concerns. For details, see Manage Resource Groups and Clustering Compaction.\n",
      "\n",
      "\n",
      "--------------------------------------------------------------------------------\n",
      "AI Integrations\n",
      "\n",
      "Embedding Model Integrations\n",
      "\n",
      "Embedding Models convert unstructured data to their numeric representation in high-dimensional data space so that you can store them in Milvus. Currently, PyMilvus, the Python SDK, integrates several embedding models so that you can quickly prepare your data into vector embeddings. For details, see Embedding Overview.\n",
      "\n",
      "Reranking Model Integrations\n",
      "\n",
      "\n",
      "--------------------------------------------------------------------------------\n",
      "In the realm of information retrieval and generative AI, a reranker is an essential tool that optimizes the order of results from initial searches. PyMilvus also integrates several reranking models to optimize the order of results returned from initial searches. For details, refer to Rerankers Overview.\n",
      "\n",
      "LangChain and other AI Tool Integrations\n",
      "\n",
      "\n",
      "--------------------------------------------------------------------------------\n",
      "In the GenAI era, tools, such as LangChain, gain much attentions from application developers. As a core component, Milvus usually serves as the vector stores in such tools. To learn how to integrate Milvus in your favorite AI tools, refer to our Integrations and Tutorials.\n",
      "\n",
      "\n",
      "--------------------------------------------------------------------------------\n",
      "Tools and Ecosystem\n",
      "\n",
      "Attu\n",
      "\n",
      "Attu is an all-in-one intuitive GUI that helps you manage Milvus and the data it stores. For details, refer to the Attu repository.\n",
      "\n",
      "Birdwatcher\n",
      "\n",
      "Birdwatcher is a debugging tool for Milvus. Using it to connect to etcd, you can check the state of your Milvus system or configure it on the fly. For details, refer to BirdWatcher.\n",
      "\n",
      "Promethus & Grafana integrations\n",
      "\n",
      "\n",
      "--------------------------------------------------------------------------------\n",
      "Prometheus is an open-source system monitoring and alerting toolkit for Kubernetes. Grafana is an open-source visualizing stack that can connect with all data sources. You can use Promethus & Grafana as the monitoring service provider to visually monitor the performance of Milvus distributed. For details, see Deploying Monitoring Services.\n",
      "\n",
      "Milvus Backup\n",
      "\n",
      "\n",
      "--------------------------------------------------------------------------------\n",
      "Milvus Backup is a tool that allows users to back up and restore Milvus data. It provides both CLI and API to fit itself into different application scenarios. For details, refer to Milvus Backup.\n",
      "\n",
      "Milvus Capture Data Change (CDC)\n",
      "\n",
      "\n",
      "--------------------------------------------------------------------------------\n",
      "Milvus-CDC can capture and synchronize incremental data in Milvus instances and ensures the reliability of business data by seamlessly transferring it between source and target instances, allowing for easy incremental backup and disaster recovery. For details, refer to Milvus CDC.\n",
      "\n",
      "Milvus Connectors\n",
      "\n",
      "\n",
      "--------------------------------------------------------------------------------\n",
      "Milvus has planned a set of connectors for you to seamlessly integrate Milvus with third-party tools, such as Apache Spark. Currently, you can use our Spark Connector to feed your Milvus data to Apache Spark for machine-learning processing. For details, refer to Spark-Milvus Connector.\n",
      "\n",
      "Vector Transmission Services (VTS)\n",
      "\n",
      "\n",
      "--------------------------------------------------------------------------------\n",
      "Milvus provides a set of tools for you to transfer your data between a Milvus instance and a bunch of data sources, including Zilliz clusters, Elasticsearch, Postgres (PgVector), and another Milvus instance. For details, refer to Migrations.\n",
      "\n",
      "\n",
      "--------------------------------------------------------------------------------\n"
     ]
    }
   ],
   "source": [
    "for element in elements:\n",
    "    print(element)\n",
    "    print(\"\\n\\n\" + \"-\" * 80)"
   ]
  },
  {
   "cell_type": "markdown",
   "metadata": {},
   "source": [
    "Insert data into Milvus."
   ]
  },
  {
   "cell_type": "code",
   "execution_count": 10,
   "metadata": {
    "pycharm": {
     "is_executing": true
    }
   },
   "outputs": [
    {
     "data": {
      "text/plain": [
       "{'insert_count': 29, 'ids': [0, 1, 2, 3, 4, 5, 6, 7, 8, 9, 10, 11, 12, 13, 14, 15, 16, 17, 18, 19, 20, 21, 22, 23, 24, 25, 26, 27, 28], 'cost': 0}"
      ]
     },
     "execution_count": 10,
     "metadata": {},
     "output_type": "execute_result"
    }
   ],
   "source": [
    "data = []\n",
    "for i, element in enumerate(elements):\n",
    "    data.append(\n",
    "        {\n",
    "            \"id\": i,\n",
    "            \"vector\": emb_text(element.text),\n",
    "            \"text\": element.text,\n",
    "            \"metadata\": element.metadata.to_dict(),\n",
    "        }\n",
    "    )\n",
    "milvus_client.insert(collection_name=collection_name, data=data)"
   ]
  },
  {
   "cell_type": "markdown",
   "metadata": {},
   "source": [
    "## Retrieve and Generate Response"
   ]
  },
  {
   "cell_type": "markdown",
   "metadata": {},
   "source": [
    "Define a function to retrieve relevant documents from Milvus."
   ]
  },
  {
   "cell_type": "code",
   "execution_count": 11,
   "metadata": {},
   "outputs": [],
   "source": [
    "def retrieve_documents(question, top_k=3):\n",
    "    search_res = milvus_client.search(\n",
    "        collection_name=collection_name,\n",
    "        data=[emb_text(question)],\n",
    "        limit=top_k,\n",
    "        # search_params={\"metric_type\": \"IP\", \"params\": {}},\n",
    "        output_fields=[\"text\"],\n",
    "    )\n",
    "    return [(res[\"entity\"][\"text\"], res[\"distance\"]) for res in search_res[0]]"
   ]
  },
  {
   "cell_type": "markdown",
   "metadata": {},
   "source": [
    "Define a function to generate a response using the retrieved documents in the RAG pipeline."
   ]
  },
  {
   "cell_type": "code",
   "execution_count": 12,
   "metadata": {},
   "outputs": [],
   "source": [
    "def generate_rag_response(question):\n",
    "    retrieved_docs = retrieve_documents(question)\n",
    "    context = \"\\n\".join([f\"Text: {doc[0]}\\n\" for doc in retrieved_docs])\n",
    "    system_prompt = (\n",
    "        \"You are an AI assistant. Provide answers based on the given context.\"\n",
    "    )\n",
    "    user_prompt = f\"\"\"\n",
    "    Use the following pieces of information to answer the question. If the information is not in the context, say you don't know.\n",
    "    \n",
    "    Context:\n",
    "    {context}\n",
    "    \n",
    "    Question: {question}\n",
    "    \"\"\"\n",
    "    response = openai_client.chat.completions.create(\n",
    "        model=\"gpt-4o-mini\",\n",
    "        messages=[\n",
    "            {\"role\": \"system\", \"content\": system_prompt},\n",
    "            {\"role\": \"user\", \"content\": user_prompt},\n",
    "        ],\n",
    "    )\n",
    "    return response.choices[0].message.content"
   ]
  },
  {
   "cell_type": "markdown",
   "metadata": {},
   "source": [
    "Let's test the RAG pipeline with a sample question."
   ]
  },
  {
   "cell_type": "code",
   "execution_count": 13,
   "metadata": {},
   "outputs": [
    {
     "name": "stdout",
     "output_type": "stream",
     "text": [
      "Question: What is the Advanced Search Algorithms in Milvus?\n",
      "Answer: The Advanced Search Algorithms in Milvus include a wide range of in-memory and on-disk indexing/search algorithms such as IVF, HNSW, and DiskANN. These algorithms have been deeply optimized, and Milvus delivers 30%-70% better performance compared to popular implementations like FAISS and HNSWLib.\n"
     ]
    }
   ],
   "source": [
    "question = \"What is the Advanced Search Algorithms in Milvus?\"\n",
    "answer = generate_rag_response(question)\n",
    "print(f\"Question: {question}\")\n",
    "print(f\"Answer: {answer}\")"
   ]
  }
 ],
 "metadata": {
  "kernelspec": {
   "display_name": "uns",
   "language": "python",
   "name": "python3"
  },
  "language_info": {
   "codemirror_mode": {
    "name": "ipython",
    "version": 3
   },
   "file_extension": ".py",
   "mimetype": "text/x-python",
   "name": "python",
   "nbconvert_exporter": "python",
   "pygments_lexer": "ipython3",
   "version": "3.11.11"
  }
 },
 "nbformat": 4,
 "nbformat_minor": 2
}

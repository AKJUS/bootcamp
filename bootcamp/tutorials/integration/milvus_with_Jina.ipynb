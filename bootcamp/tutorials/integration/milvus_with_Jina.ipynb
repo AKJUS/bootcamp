{
 "cells": [
  {
   "cell_type": "markdown",
   "source": [
    "# Jina"
   ],
   "metadata": {
    "collapsed": false
   },
   "id": "20180cc31eaf0495"
  },
  {
   "cell_type": "markdown",
   "source": [
    "## Who is Jina AI\n",
    "Jina AI, founded in 2020 in Berlin, is a pioneering AI company focused on revolutionizing the future of artificial intelligence through its search foundation. Specializing in multimodal AI, Jina AI aims to empower businesses and developers to harness the power of multimodal data for value creation and cost savings through its integrated suite of components, including embeddings, rerankers, prompt ops, and core infrastructure.\n",
    "Jina AI's cutting-edge embeddings boast top-tier performance, featuring an 8192 token-length model ideal for comprehensive data representation. Offering multilingual support and seamless integration with leading platforms like OpenAI, these embeddings facilitate cross-lingual applications."
   ],
   "metadata": {
    "collapsed": false
   },
   "id": "990b149ce5c688b2"
  },
  {
   "cell_type": "markdown",
   "source": [
    "## Milvus and Jina AI's Embedding\n",
    "In order to store and search these embeddings efficiently for speed and scale, specific infrastructure designed for this purpose is required. Milvus is a widely known advanced open-source vector database capable of handling large-scale vector data. Milvus enables fast and accurate vector(embedding) search according plenty of metrics. Its scalability allows for seamless handling of massive volumes of image data, ensuring high-performance search operations even as datasets grow. "
   ],
   "metadata": {
    "collapsed": false
   },
   "id": "d27fd9a9cf451a02"
  },
  {
   "cell_type": "markdown",
   "source": [
    "## Examples\n",
    "Jina embeddings have been integrated into the PyMilvus model library. Now, we will demonstrate code examples to show how to use Jina embeddings in action."
   ],
   "metadata": {
    "collapsed": false
   },
   "id": "4ff70dd614666672"
  },
  {
   "cell_type": "markdown",
   "source": [
    "## Prerequisites\n",
    "\n",
    "Before using Jina AI's embedding model, install pymilvus and pymilvus[model]."
   ],
   "metadata": {
    "collapsed": false
   },
   "id": "fbcaac49b92de6bc"
  },
  {
   "cell_type": "code",
   "source": [
    "!pip install -U pymilvus\n",
    "!pip install pymilvus[model]\n",
    "\n",
    "# for zsh\n",
    "# !pip install \"pymilvus[model]\" "
   ],
   "metadata": {
    "collapsed": false
   },
   "id": "f748781570cc911f",
   "outputs": [],
   "execution_count": null
  },
  {
   "cell_type": "markdown",
   "source": [
    "## General-Purpose Embedding\n",
    "Jina AI's core embedding model, excels in understanding detailed text, making it ideal for semantic search, content classification thus supports advanced sentiment analysis, text summarization, and personalized recommendation systems."
   ],
   "metadata": {
    "collapsed": false
   },
   "id": "c9251246e4ce2edb"
  },
  {
   "cell_type": "code",
   "source": [
    "from pymilvus.model.dense import JinaEmbeddingFunction\n",
    "\n",
    "jina_api_key = \"<YOUR_JINA_API_KEY>\"\n",
    "ef = JinaEmbeddingFunction(\"jina-embeddings-v2-base-en\", jina_api_key)\n",
    "\n",
    "query = \"what is information retrieval?\"\n",
    "doc = \"Information retrieval is the process of finding relevant information from a large collection of data or documents.\"\n",
    "\n",
    "qvecs = ef.encode_queries([query])\n",
    "dvecs = ef.encode_documents([doc])"
   ],
   "metadata": {
    "collapsed": false
   },
   "id": "541e01d196bfb8fd",
   "outputs": [],
   "execution_count": null
  },
  {
   "cell_type": "markdown",
   "source": [
    "## Bilingual Embeddings\n",
    "Jina AI's bilingual models enhance multilingual platforms, global support, and cross-lingual content discovery. Designed for German-English and Chinese-English translations, they foster understanding among diverse linguistic groups, simplifying interactions across languages."
   ],
   "metadata": {
    "collapsed": false
   },
   "id": "76bf2f06073c10c"
  },
  {
   "cell_type": "code",
   "source": [
    "from pymilvus.model.dense import JinaEmbeddingFunction\n",
    "\n",
    "jina_api_key = \"<YOUR_JINA_API_KEY>\"\n",
    "ef = JinaEmbeddingFunction(\"jina-embeddings-v2-base-de\", jina_api_key)\n",
    "\n",
    "query = \"what is information retrieval?\"\n",
    "doc = \"Information Retrieval ist der Prozess, relevante Informationen aus einer großen Sammlung von Daten oder Dokumenten zu finden.\"\n",
    "\n",
    "qvecs = ef.encode_queries([query])\n",
    "dvecs = ef.encode_documents([doc])"
   ],
   "metadata": {
    "collapsed": false
   },
   "id": "7877da246e95292b",
   "outputs": [],
   "execution_count": null
  },
  {
   "cell_type": "markdown",
   "source": [
    "## Code Embeddings\n",
    "Jina AI's code embedding model provides searching ability through code and documentation. It supports English and 30 popular programming languages that can be used for enhancing code navigation, streamlined code review and automated documentation assistance."
   ],
   "metadata": {
    "collapsed": false
   },
   "id": "5086f6f097d5de36"
  },
  {
   "cell_type": "code",
   "source": [
    "from pymilvus.model.dense import JinaEmbeddingFunction\n",
    "\n",
    "jina_api_key = \"<YOUR_JINA_API_KEY>\"\n",
    "ef = JinaEmbeddingFunction(\"jina-embeddings-v2-base-code\", jina_api_key)\n",
    "\n",
    "# Case1: Enhanced Code Navigation\n",
    "# query: text description of the functionality\n",
    "# document: relevant code snippet\n",
    "\n",
    "query = \"function to calculate average in Python.\"\n",
    "doc = '''\n",
    "def calculate_average(numbers):\n",
    "    total = sum(numbers)\n",
    "    count = len(numbers)\n",
    "    return total / count\n",
    "'''\n",
    "\n",
    "# Case2: Streamlined Code Review\n",
    "# query: text description of the programming concept\n",
    "# document: relevante code snippet or PR\n",
    "\n",
    "query = \"pull quest related to Collection\"\n",
    "doc = \"fix:[restful v2] parameters of create collection ...\"\n",
    "\n",
    "# Case3: Automatic Documentation Assistance\n",
    "# query: code snippet you need explanation\n",
    "# document: relevante document or DocsString\n",
    "\n",
    "query = \"What is Collection in Milvus\"\n",
    "doc = '''\n",
    "In Milvus, you store your vector embeddings in collections. All vector embeddings within a collection share the same dimensionality and distance metric for measuring similarity.\n",
    "Milvus collections support dynamic fields (i.e., fields not pre-defined in the schema) and automatic incrementation of primary keys.\n",
    "'''\n",
    "\n",
    "qvecs = ef.encode_queries([query])\n",
    "dvecs = ef.encode_documents([doc])"
   ],
   "metadata": {
    "collapsed": false
   },
   "id": "b54e81a1863eadbc",
   "outputs": [],
   "execution_count": null
  },
  {
   "cell_type": "markdown",
   "source": [
    "## Jina Reranker\n",
    "Jina Ai also provides rerankers to further enhance retrieval quality after searching using embeddings."
   ],
   "metadata": {
    "collapsed": false
   },
   "id": "c067c5218388d11f"
  },
  {
   "cell_type": "code",
   "source": [
    "from pymilvus.model.reranker import JinaRerankFunction\n",
    "\n",
    "jina_api_key = \"<YOUR_JINA_API_KEY>\"\n",
    "\n",
    "rf = JinaRerankFunction(\"jina-reranker-v1-base-en\", jina_api_key)\n",
    "\n",
    "query = \"What event in 1956 marked the official birth of artificial intelligence as a discipline?\"\n",
    "\n",
    "documents = [\n",
    "    \"In 1950, Alan Turing published his seminal paper, 'Computing Machinery and Intelligence,' proposing the Turing Test as a criterion of intelligence, a foundational concept in the philosophy and development of artificial intelligence.\",\n",
    "    \"The Dartmouth Conference in 1956 is considered the birthplace of artificial intelligence as a field; here, John McCarthy and others coined the term 'artificial intelligence' and laid out its basic goals.\",\n",
    "    \"In 1951, British mathematician and computer scientist Alan Turing also developed the first program designed to play chess, demonstrating an early example of AI in game strategy.\",\n",
    "    \"The invention of the Logic Theorist by Allen Newell, Herbert A. Simon, and Cliff Shaw in 1955 marked the creation of the first true AI program, which was capable of solving logic problems, akin to proving mathematical theorems.\"\n",
    "]\n",
    "\n",
    "rf(query, documents)"
   ],
   "metadata": {
    "collapsed": false
   },
   "id": "1953c1d0c63f53b",
   "outputs": [],
   "execution_count": null
  }
 ],
 "metadata": {
  "kernelspec": {
   "display_name": "Python 3",
   "language": "python",
   "name": "python3"
  },
  "language_info": {
   "codemirror_mode": {
    "name": "ipython",
    "version": 2
   },
   "file_extension": ".py",
   "mimetype": "text/x-python",
   "name": "python",
   "nbconvert_exporter": "python",
   "pygments_lexer": "ipython2",
   "version": "2.7.6"
  }
 },
 "nbformat": 4,
 "nbformat_minor": 5
}

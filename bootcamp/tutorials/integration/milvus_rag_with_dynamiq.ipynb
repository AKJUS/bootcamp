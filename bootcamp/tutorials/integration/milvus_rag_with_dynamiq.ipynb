{
 "cells": [
  {
   "cell_type": "markdown",
   "id": "a2e712bd7d3cfee8",
   "metadata": {
    "collapsed": false
   },
   "source": [
    "<a href=\"https://colab.research.google.com/github/milvus-io/bootcamp/blob/master/bootcamp/tutorials/integration/milvus_rag_with_dynamiq.ipynb\" target=\"_parent\"><img src=\"https://colab.research.google.com/assets/colab-badge.svg\" alt=\"Open In Colab\"/></a>   <a href=\"https://github.com/milvus-io/bootcamp/blob/master/bootcamp/tutorials/integration/milvus_rag_with_dynamiq.ipynb\" target=\"_blank\">\n",
    "    <img src=\"https://img.shields.io/badge/View%20on%20GitHub-555555?style=flat&logo=github&logoColor=white\" alt=\"GitHub Repository\"/>"
   ]
  },
  {
   "cell_type": "markdown",
   "id": "a7efdd76efcc0e4e",
   "metadata": {
    "collapsed": false
   },
   "source": [
    "# Getting Started with Dynamiq and Milvus\n",
    "\n",
    "\n",
    "\n",
    "[Dynamiq](https://dynamiq.ai/) is a powerful Gen AI framework that streamlines the development of AI-powered applications. With robust support for retrieval-augmented generation (RAG) and large language model (LLM) agents, Dynamiq empowers developers to create intelligent, dynamic systems with ease and efficiency.\n",
    "\n",
    "In this tutorial, we’ll explore how to seamlessly use Dynamiq with [Milvus](https://milvus.io/), a high-performance, open-source vector database purpose-built for RAG workflows. Milvus excels at efficient storage, indexing, and retrieval of vector embeddings, making it an indispensable component for AI systems that demand fast and precise contextual data access.\n",
    "\n",
    "This step-by-step guide will cover two core RAG workflows:\n",
    "\n",
    "- **Document Indexing Flow**: Learn how to process input files (e.g., PDFs), transform their content into vector embeddings, and store them in Milvus. Leveraging Milvus’s high-performance indexing capabilities ensures your data is ready for rapid retrieval.\n",
    "\n",
    "- **Document Retrieval Flow**: Discover how to query Milvus for relevant document embeddings and use them to generate insightful, context-aware responses with Dynamiq’s LLM agents, creating a seamless AI-powered user experience.\n",
    "\n",
    "By the end of this tutorial, you’ll gain a solid understanding of how Milvus and Dynamiq work together to build scalable, context-aware AI systems tailored to your needs."
   ]
  },
  {
   "cell_type": "markdown",
   "id": "53d16d1dd5f753bf",
   "metadata": {
    "collapsed": false
   },
   "source": [
    "## Preparation\n"
   ]
  },
  {
   "cell_type": "markdown",
   "id": "b03bd9af09661ed7",
   "metadata": {
    "collapsed": false
   },
   "source": [
    "### Download required libraries\n"
   ]
  },
  {
   "cell_type": "code",
   "execution_count": 1,
   "id": "82bdf922095fd55b",
   "metadata": {
    "collapsed": false,
    "ExecuteTime": {
     "end_time": "2024-11-20T03:13:32.554349Z",
     "start_time": "2024-11-20T03:13:31.412389Z"
    }
   },
   "outputs": [
    {
     "name": "stdout",
     "output_type": "stream",
     "text": [
      "Requirement already satisfied: dynamiq in /Users/jinhonglin/anaconda3/envs/myenv/lib/python3.11/site-packages (0.4.1)\r\n",
      "Requirement already satisfied: pymilvus in /Users/jinhonglin/anaconda3/envs/myenv/lib/python3.11/site-packages (2.4.9)\r\n",
      "Requirement already satisfied: RestrictedPython<7.2,>=7.1 in /Users/jinhonglin/anaconda3/envs/myenv/lib/python3.11/site-packages (from dynamiq) (7.1)\r\n",
      "Requirement already satisfied: black<24.9.0,>=24.8.0 in /Users/jinhonglin/anaconda3/envs/myenv/lib/python3.11/site-packages (from dynamiq) (24.8.0)\r\n",
      "Requirement already satisfied: boto3<1.35.0,>=1.34.34 in /Users/jinhonglin/anaconda3/envs/myenv/lib/python3.11/site-packages (from dynamiq) (1.34.162)\r\n",
      "Requirement already satisfied: chromadb-client<0.6.0,>=0.5.5.dev0 in /Users/jinhonglin/anaconda3/envs/myenv/lib/python3.11/site-packages (from dynamiq) (0.5.20)\r\n",
      "Requirement already satisfied: e2b<0.18.0,>=0.17.1 in /Users/jinhonglin/anaconda3/envs/myenv/lib/python3.11/site-packages (from dynamiq) (0.17.1)\r\n",
      "Requirement already satisfied: e2b-code-interpreter<0.1.0,>=0.0.10 in /Users/jinhonglin/anaconda3/envs/myenv/lib/python3.11/site-packages (from dynamiq) (0.0.10)\r\n",
      "Requirement already satisfied: filetype<1.3.0,>=1.2.0 in /Users/jinhonglin/anaconda3/envs/myenv/lib/python3.11/site-packages (from dynamiq) (1.2.0)\r\n",
      "Requirement already satisfied: google-cloud-aiplatform<1.48.0,>=1.47.0 in /Users/jinhonglin/anaconda3/envs/myenv/lib/python3.11/site-packages (from dynamiq) (1.47.0)\r\n",
      "Requirement already satisfied: google-generativeai<0.6.0,>=0.5.0 in /Users/jinhonglin/anaconda3/envs/myenv/lib/python3.11/site-packages (from dynamiq) (0.5.4)\r\n",
      "Requirement already satisfied: jinja2<3.2.0,>=3.1.4 in /Users/jinhonglin/anaconda3/envs/myenv/lib/python3.11/site-packages (from dynamiq) (3.1.4)\r\n",
      "Requirement already satisfied: jsonpath-ng<1.7.0,>=1.6.1 in /Users/jinhonglin/anaconda3/envs/myenv/lib/python3.11/site-packages (from dynamiq) (1.6.1)\r\n",
      "Requirement already satisfied: jsonpickle<3.1.0,>=3.0.3 in /Users/jinhonglin/anaconda3/envs/myenv/lib/python3.11/site-packages (from dynamiq) (3.0.4)\r\n",
      "Requirement already satisfied: litellm<1.47.0,>=1.46.0 in /Users/jinhonglin/anaconda3/envs/myenv/lib/python3.11/site-packages (from dynamiq) (1.46.8)\r\n",
      "Requirement already satisfied: more-itertools<10.4.0,>=10.3.0 in /Users/jinhonglin/anaconda3/envs/myenv/lib/python3.11/site-packages (from dynamiq) (10.3.0)\r\n",
      "Requirement already satisfied: omegaconf<2.4.0,>=2.3.0 in /Users/jinhonglin/anaconda3/envs/myenv/lib/python3.11/site-packages (from dynamiq) (2.3.0)\r\n",
      "Requirement already satisfied: openai<1.46.0,>=1.45.0 in /Users/jinhonglin/anaconda3/envs/myenv/lib/python3.11/site-packages (from dynamiq) (1.45.1)\r\n",
      "Requirement already satisfied: pdf2image<1.18.0,>=1.17.0 in /Users/jinhonglin/anaconda3/envs/myenv/lib/python3.11/site-packages (from dynamiq) (1.17.0)\r\n",
      "Requirement already satisfied: pinecone-client<3.3.0,>=3.2.2 in /Users/jinhonglin/anaconda3/envs/myenv/lib/python3.11/site-packages (from dynamiq) (3.2.2)\r\n",
      "Requirement already satisfied: pydantic<2.8.0,>=2.7.1 in /Users/jinhonglin/anaconda3/envs/myenv/lib/python3.11/site-packages (from dynamiq) (2.7.4)\r\n",
      "Requirement already satisfied: pypdf<4.4.0,>=4.3.1 in /Users/jinhonglin/anaconda3/envs/myenv/lib/python3.11/site-packages (from dynamiq) (4.3.1)\r\n",
      "Requirement already satisfied: python-pptx==1.0.2 in /Users/jinhonglin/anaconda3/envs/myenv/lib/python3.11/site-packages (from dynamiq) (1.0.2)\r\n",
      "Requirement already satisfied: qdrant-client<1.12.0,>=1.11.3 in /Users/jinhonglin/anaconda3/envs/myenv/lib/python3.11/site-packages (from dynamiq) (1.11.3)\r\n",
      "Requirement already satisfied: redis<5.1.0,>=5.0.0 in /Users/jinhonglin/anaconda3/envs/myenv/lib/python3.11/site-packages (from dynamiq) (5.0.8)\r\n",
      "Requirement already satisfied: requests<2.32.0,>=2.31.0 in /Users/jinhonglin/anaconda3/envs/myenv/lib/python3.11/site-packages (from dynamiq) (2.31.0)\r\n",
      "Requirement already satisfied: unstructured-client<0.19.0,>=0.18.0 in /Users/jinhonglin/anaconda3/envs/myenv/lib/python3.11/site-packages (from dynamiq) (0.18.0)\r\n",
      "Requirement already satisfied: weaviate-client<4.8.0,>=4.7.1 in /Users/jinhonglin/anaconda3/envs/myenv/lib/python3.11/site-packages (from dynamiq) (4.7.1)\r\n",
      "Requirement already satisfied: Pillow>=3.3.2 in /Users/jinhonglin/anaconda3/envs/myenv/lib/python3.11/site-packages (from python-pptx==1.0.2->dynamiq) (11.0.0)\r\n",
      "Requirement already satisfied: XlsxWriter>=0.5.7 in /Users/jinhonglin/anaconda3/envs/myenv/lib/python3.11/site-packages (from python-pptx==1.0.2->dynamiq) (3.2.0)\r\n",
      "Requirement already satisfied: lxml>=3.1.0 in /Users/jinhonglin/anaconda3/envs/myenv/lib/python3.11/site-packages (from python-pptx==1.0.2->dynamiq) (5.3.0)\r\n",
      "Requirement already satisfied: typing-extensions>=4.9.0 in /Users/jinhonglin/anaconda3/envs/myenv/lib/python3.11/site-packages (from python-pptx==1.0.2->dynamiq) (4.11.0)\r\n",
      "Requirement already satisfied: setuptools>69 in /Users/jinhonglin/anaconda3/envs/myenv/lib/python3.11/site-packages (from pymilvus) (75.1.0)\r\n",
      "Requirement already satisfied: grpcio>=1.49.1 in /Users/jinhonglin/anaconda3/envs/myenv/lib/python3.11/site-packages (from pymilvus) (1.68.0)\r\n",
      "Requirement already satisfied: protobuf>=3.20.0 in /Users/jinhonglin/anaconda3/envs/myenv/lib/python3.11/site-packages (from pymilvus) (4.25.5)\r\n",
      "Requirement already satisfied: environs<=9.5.0 in /Users/jinhonglin/anaconda3/envs/myenv/lib/python3.11/site-packages (from pymilvus) (9.5.0)\r\n",
      "Requirement already satisfied: ujson>=2.0.0 in /Users/jinhonglin/anaconda3/envs/myenv/lib/python3.11/site-packages (from pymilvus) (5.10.0)\r\n",
      "Requirement already satisfied: pandas>=1.2.4 in /Users/jinhonglin/anaconda3/envs/myenv/lib/python3.11/site-packages (from pymilvus) (2.2.3)\r\n",
      "Requirement already satisfied: milvus-lite<2.5.0,>=2.4.0 in /Users/jinhonglin/anaconda3/envs/myenv/lib/python3.11/site-packages (from pymilvus) (2.4.10)\r\n",
      "Requirement already satisfied: click>=8.0.0 in /Users/jinhonglin/anaconda3/envs/myenv/lib/python3.11/site-packages (from black<24.9.0,>=24.8.0->dynamiq) (8.1.7)\r\n",
      "Requirement already satisfied: mypy-extensions>=0.4.3 in /Users/jinhonglin/anaconda3/envs/myenv/lib/python3.11/site-packages (from black<24.9.0,>=24.8.0->dynamiq) (1.0.0)\r\n",
      "Requirement already satisfied: packaging>=22.0 in /Users/jinhonglin/anaconda3/envs/myenv/lib/python3.11/site-packages (from black<24.9.0,>=24.8.0->dynamiq) (24.1)\r\n",
      "Requirement already satisfied: pathspec>=0.9.0 in /Users/jinhonglin/anaconda3/envs/myenv/lib/python3.11/site-packages (from black<24.9.0,>=24.8.0->dynamiq) (0.12.1)\r\n",
      "Requirement already satisfied: platformdirs>=2 in /Users/jinhonglin/anaconda3/envs/myenv/lib/python3.11/site-packages (from black<24.9.0,>=24.8.0->dynamiq) (3.10.0)\r\n",
      "Requirement already satisfied: botocore<1.35.0,>=1.34.162 in /Users/jinhonglin/anaconda3/envs/myenv/lib/python3.11/site-packages (from boto3<1.35.0,>=1.34.34->dynamiq) (1.34.162)\r\n",
      "Requirement already satisfied: jmespath<2.0.0,>=0.7.1 in /Users/jinhonglin/anaconda3/envs/myenv/lib/python3.11/site-packages (from boto3<1.35.0,>=1.34.34->dynamiq) (1.0.1)\r\n",
      "Requirement already satisfied: s3transfer<0.11.0,>=0.10.0 in /Users/jinhonglin/anaconda3/envs/myenv/lib/python3.11/site-packages (from boto3<1.35.0,>=1.34.34->dynamiq) (0.10.3)\r\n",
      "Requirement already satisfied: numpy<2.0.0,>=1.22.5 in /Users/jinhonglin/anaconda3/envs/myenv/lib/python3.11/site-packages (from chromadb-client<0.6.0,>=0.5.5.dev0->dynamiq) (1.26.4)\r\n",
      "Requirement already satisfied: opentelemetry-api>=1.2.0 in /Users/jinhonglin/anaconda3/envs/myenv/lib/python3.11/site-packages (from chromadb-client<0.6.0,>=0.5.5.dev0->dynamiq) (1.27.0)\r\n",
      "Requirement already satisfied: opentelemetry-exporter-otlp-proto-grpc>=1.2.0 in /Users/jinhonglin/anaconda3/envs/myenv/lib/python3.11/site-packages (from chromadb-client<0.6.0,>=0.5.5.dev0->dynamiq) (1.27.0)\r\n",
      "Requirement already satisfied: opentelemetry-sdk>=1.2.0 in /Users/jinhonglin/anaconda3/envs/myenv/lib/python3.11/site-packages (from chromadb-client<0.6.0,>=0.5.5.dev0->dynamiq) (1.27.0)\r\n",
      "Requirement already satisfied: overrides>=7.3.1 in /Users/jinhonglin/anaconda3/envs/myenv/lib/python3.11/site-packages (from chromadb-client<0.6.0,>=0.5.5.dev0->dynamiq) (7.4.0)\r\n",
      "Requirement already satisfied: posthog>=2.4.0 in /Users/jinhonglin/anaconda3/envs/myenv/lib/python3.11/site-packages (from chromadb-client<0.6.0,>=0.5.5.dev0->dynamiq) (3.7.2)\r\n",
      "Requirement already satisfied: tenacity>=8.2.3 in /Users/jinhonglin/anaconda3/envs/myenv/lib/python3.11/site-packages (from chromadb-client<0.6.0,>=0.5.5.dev0->dynamiq) (9.0.0)\r\n",
      "Requirement already satisfied: PyYAML>=6.0.0 in /Users/jinhonglin/anaconda3/envs/myenv/lib/python3.11/site-packages (from chromadb-client<0.6.0,>=0.5.5.dev0->dynamiq) (6.0.2)\r\n",
      "Requirement already satisfied: orjson>=3.9.12 in /Users/jinhonglin/anaconda3/envs/myenv/lib/python3.11/site-packages (from chromadb-client<0.6.0,>=0.5.5.dev0->dynamiq) (3.10.11)\r\n",
      "Requirement already satisfied: httpx>=0.27.0 in /Users/jinhonglin/anaconda3/envs/myenv/lib/python3.11/site-packages (from chromadb-client<0.6.0,>=0.5.5.dev0->dynamiq) (0.27.0)\r\n",
      "Requirement already satisfied: aenum>=3.1.11 in /Users/jinhonglin/anaconda3/envs/myenv/lib/python3.11/site-packages (from e2b<0.18.0,>=0.17.1->dynamiq) (3.1.15)\r\n",
      "Requirement already satisfied: aiohttp>=3.8.4 in /Users/jinhonglin/anaconda3/envs/myenv/lib/python3.11/site-packages (from e2b<0.18.0,>=0.17.1->dynamiq) (3.11.6)\r\n",
      "Requirement already satisfied: jsonrpcclient>=4.0.3 in /Users/jinhonglin/anaconda3/envs/myenv/lib/python3.11/site-packages (from e2b<0.18.0,>=0.17.1->dynamiq) (4.0.3)\r\n",
      "Requirement already satisfied: python-dateutil>=2.8.2 in /Users/jinhonglin/anaconda3/envs/myenv/lib/python3.11/site-packages (from e2b<0.18.0,>=0.17.1->dynamiq) (2.9.0.post0)\r\n",
      "Requirement already satisfied: urllib3>=1.25.3 in /Users/jinhonglin/anaconda3/envs/myenv/lib/python3.11/site-packages (from e2b<0.18.0,>=0.17.1->dynamiq) (2.2.3)\r\n",
      "Requirement already satisfied: websockets>=11.0.3 in /Users/jinhonglin/anaconda3/envs/myenv/lib/python3.11/site-packages (from e2b<0.18.0,>=0.17.1->dynamiq) (14.1)\r\n",
      "Requirement already satisfied: websocket-client<2.0.0,>=1.7.0 in /Users/jinhonglin/anaconda3/envs/myenv/lib/python3.11/site-packages (from e2b-code-interpreter<0.1.0,>=0.0.10->dynamiq) (1.8.0)\r\n",
      "Requirement already satisfied: marshmallow>=3.0.0 in /Users/jinhonglin/anaconda3/envs/myenv/lib/python3.11/site-packages (from environs<=9.5.0->pymilvus) (3.23.1)\r\n",
      "Requirement already satisfied: python-dotenv in /Users/jinhonglin/anaconda3/envs/myenv/lib/python3.11/site-packages (from environs<=9.5.0->pymilvus) (1.0.1)\r\n",
      "Requirement already satisfied: google-api-core!=2.0.*,!=2.1.*,!=2.2.*,!=2.3.*,!=2.4.*,!=2.5.*,!=2.6.*,!=2.7.*,<3.0.0dev,>=1.34.1 in /Users/jinhonglin/anaconda3/envs/myenv/lib/python3.11/site-packages (from google-api-core[grpc]!=2.0.*,!=2.1.*,!=2.2.*,!=2.3.*,!=2.4.*,!=2.5.*,!=2.6.*,!=2.7.*,<3.0.0dev,>=1.34.1->google-cloud-aiplatform<1.48.0,>=1.47.0->dynamiq) (2.23.0)\r\n",
      "Requirement already satisfied: google-auth<3.0.0dev,>=2.14.1 in /Users/jinhonglin/anaconda3/envs/myenv/lib/python3.11/site-packages (from google-cloud-aiplatform<1.48.0,>=1.47.0->dynamiq) (2.36.0)\r\n",
      "Requirement already satisfied: proto-plus<2.0.0dev,>=1.22.0 in /Users/jinhonglin/anaconda3/envs/myenv/lib/python3.11/site-packages (from google-cloud-aiplatform<1.48.0,>=1.47.0->dynamiq) (1.25.0)\r\n",
      "Requirement already satisfied: google-cloud-storage<3.0.0dev,>=1.32.0 in /Users/jinhonglin/anaconda3/envs/myenv/lib/python3.11/site-packages (from google-cloud-aiplatform<1.48.0,>=1.47.0->dynamiq) (2.18.2)\r\n",
      "Requirement already satisfied: google-cloud-bigquery!=3.20.0,<4.0.0dev,>=1.15.0 in /Users/jinhonglin/anaconda3/envs/myenv/lib/python3.11/site-packages (from google-cloud-aiplatform<1.48.0,>=1.47.0->dynamiq) (3.27.0)\r\n",
      "Requirement already satisfied: google-cloud-resource-manager<3.0.0dev,>=1.3.3 in /Users/jinhonglin/anaconda3/envs/myenv/lib/python3.11/site-packages (from google-cloud-aiplatform<1.48.0,>=1.47.0->dynamiq) (1.13.1)\r\n",
      "Requirement already satisfied: shapely<3.0.0dev in /Users/jinhonglin/anaconda3/envs/myenv/lib/python3.11/site-packages (from google-cloud-aiplatform<1.48.0,>=1.47.0->dynamiq) (2.0.6)\r\n",
      "Requirement already satisfied: docstring-parser<1 in /Users/jinhonglin/anaconda3/envs/myenv/lib/python3.11/site-packages (from google-cloud-aiplatform<1.48.0,>=1.47.0->dynamiq) (0.16)\r\n",
      "Requirement already satisfied: google-ai-generativelanguage==0.6.4 in /Users/jinhonglin/anaconda3/envs/myenv/lib/python3.11/site-packages (from google-generativeai<0.6.0,>=0.5.0->dynamiq) (0.6.4)\r\n",
      "Requirement already satisfied: google-api-python-client in /Users/jinhonglin/anaconda3/envs/myenv/lib/python3.11/site-packages (from google-generativeai<0.6.0,>=0.5.0->dynamiq) (2.153.0)\r\n",
      "Requirement already satisfied: tqdm in /Users/jinhonglin/anaconda3/envs/myenv/lib/python3.11/site-packages (from google-generativeai<0.6.0,>=0.5.0->dynamiq) (4.67.0)\r\n",
      "Requirement already satisfied: MarkupSafe>=2.0 in /Users/jinhonglin/anaconda3/envs/myenv/lib/python3.11/site-packages (from jinja2<3.2.0,>=3.1.4->dynamiq) (2.1.3)\r\n",
      "Requirement already satisfied: ply in /Users/jinhonglin/anaconda3/envs/myenv/lib/python3.11/site-packages (from jsonpath-ng<1.7.0,>=1.6.1->dynamiq) (3.11)\r\n",
      "Requirement already satisfied: importlib-metadata>=6.8.0 in /Users/jinhonglin/anaconda3/envs/myenv/lib/python3.11/site-packages (from litellm<1.47.0,>=1.46.0->dynamiq) (8.4.0)\r\n",
      "Requirement already satisfied: jsonschema<5.0.0,>=4.22.0 in /Users/jinhonglin/anaconda3/envs/myenv/lib/python3.11/site-packages (from litellm<1.47.0,>=1.46.0->dynamiq) (4.23.0)\r\n",
      "Requirement already satisfied: tiktoken>=0.7.0 in /Users/jinhonglin/anaconda3/envs/myenv/lib/python3.11/site-packages (from litellm<1.47.0,>=1.46.0->dynamiq) (0.8.0)\r\n",
      "Requirement already satisfied: tokenizers in /Users/jinhonglin/anaconda3/envs/myenv/lib/python3.11/site-packages (from litellm<1.47.0,>=1.46.0->dynamiq) (0.20.3)\r\n",
      "Requirement already satisfied: antlr4-python3-runtime==4.9.* in /Users/jinhonglin/anaconda3/envs/myenv/lib/python3.11/site-packages (from omegaconf<2.4.0,>=2.3.0->dynamiq) (4.9.3)\r\n",
      "Requirement already satisfied: anyio<5,>=3.5.0 in /Users/jinhonglin/anaconda3/envs/myenv/lib/python3.11/site-packages (from openai<1.46.0,>=1.45.0->dynamiq) (4.6.2)\r\n",
      "Requirement already satisfied: distro<2,>=1.7.0 in /Users/jinhonglin/anaconda3/envs/myenv/lib/python3.11/site-packages (from openai<1.46.0,>=1.45.0->dynamiq) (1.9.0)\r\n",
      "Requirement already satisfied: jiter<1,>=0.4.0 in /Users/jinhonglin/anaconda3/envs/myenv/lib/python3.11/site-packages (from openai<1.46.0,>=1.45.0->dynamiq) (0.7.1)\r\n",
      "Requirement already satisfied: sniffio in /Users/jinhonglin/anaconda3/envs/myenv/lib/python3.11/site-packages (from openai<1.46.0,>=1.45.0->dynamiq) (1.3.0)\r\n",
      "Requirement already satisfied: pytz>=2020.1 in /Users/jinhonglin/anaconda3/envs/myenv/lib/python3.11/site-packages (from pandas>=1.2.4->pymilvus) (2024.1)\r\n",
      "Requirement already satisfied: tzdata>=2022.7 in /Users/jinhonglin/anaconda3/envs/myenv/lib/python3.11/site-packages (from pandas>=1.2.4->pymilvus) (2024.2)\r\n",
      "Requirement already satisfied: certifi>=2019.11.17 in /Users/jinhonglin/anaconda3/envs/myenv/lib/python3.11/site-packages (from pinecone-client<3.3.0,>=3.2.2->dynamiq) (2024.8.30)\r\n",
      "Requirement already satisfied: annotated-types>=0.4.0 in /Users/jinhonglin/anaconda3/envs/myenv/lib/python3.11/site-packages (from pydantic<2.8.0,>=2.7.1->dynamiq) (0.7.0)\r\n",
      "Requirement already satisfied: pydantic-core==2.18.4 in /Users/jinhonglin/anaconda3/envs/myenv/lib/python3.11/site-packages (from pydantic<2.8.0,>=2.7.1->dynamiq) (2.18.4)\r\n",
      "Requirement already satisfied: grpcio-tools>=1.41.0 in /Users/jinhonglin/anaconda3/envs/myenv/lib/python3.11/site-packages (from qdrant-client<1.12.0,>=1.11.3->dynamiq) (1.62.3)\r\n",
      "Requirement already satisfied: portalocker<3.0.0,>=2.7.0 in /Users/jinhonglin/anaconda3/envs/myenv/lib/python3.11/site-packages (from qdrant-client<1.12.0,>=1.11.3->dynamiq) (2.10.1)\r\n",
      "Requirement already satisfied: charset-normalizer<4,>=2 in /Users/jinhonglin/anaconda3/envs/myenv/lib/python3.11/site-packages (from requests<2.32.0,>=2.31.0->dynamiq) (3.3.2)\r\n",
      "Requirement already satisfied: idna<4,>=2.5 in /Users/jinhonglin/anaconda3/envs/myenv/lib/python3.11/site-packages (from requests<2.32.0,>=2.31.0->dynamiq) (3.7)\r\n",
      "Requirement already satisfied: dataclasses-json-speakeasy>=0.5.11 in /Users/jinhonglin/anaconda3/envs/myenv/lib/python3.11/site-packages (from unstructured-client<0.19.0,>=0.18.0->dynamiq) (0.5.11)\r\n",
      "Requirement already satisfied: jsonpath-python>=1.0.6 in /Users/jinhonglin/anaconda3/envs/myenv/lib/python3.11/site-packages (from unstructured-client<0.19.0,>=0.18.0->dynamiq) (1.0.6)\r\n",
      "Requirement already satisfied: six>=1.16.0 in /Users/jinhonglin/anaconda3/envs/myenv/lib/python3.11/site-packages (from unstructured-client<0.19.0,>=0.18.0->dynamiq) (1.16.0)\r\n",
      "Requirement already satisfied: typing-inspect>=0.9.0 in /Users/jinhonglin/anaconda3/envs/myenv/lib/python3.11/site-packages (from unstructured-client<0.19.0,>=0.18.0->dynamiq) (0.9.0)\r\n",
      "Requirement already satisfied: validators==0.33.0 in /Users/jinhonglin/anaconda3/envs/myenv/lib/python3.11/site-packages (from weaviate-client<4.8.0,>=4.7.1->dynamiq) (0.33.0)\r\n",
      "Requirement already satisfied: authlib<2.0.0,>=1.2.1 in /Users/jinhonglin/anaconda3/envs/myenv/lib/python3.11/site-packages (from weaviate-client<4.8.0,>=4.7.1->dynamiq) (1.3.2)\r\n",
      "Requirement already satisfied: grpcio-health-checking<2.0.0,>=1.57.0 in /Users/jinhonglin/anaconda3/envs/myenv/lib/python3.11/site-packages (from weaviate-client<4.8.0,>=4.7.1->dynamiq) (1.62.3)\r\n",
      "Requirement already satisfied: aiohappyeyeballs>=2.3.0 in /Users/jinhonglin/anaconda3/envs/myenv/lib/python3.11/site-packages (from aiohttp>=3.8.4->e2b<0.18.0,>=0.17.1->dynamiq) (2.4.3)\r\n",
      "Requirement already satisfied: aiosignal>=1.1.2 in /Users/jinhonglin/anaconda3/envs/myenv/lib/python3.11/site-packages (from aiohttp>=3.8.4->e2b<0.18.0,>=0.17.1->dynamiq) (1.3.1)\r\n",
      "Requirement already satisfied: attrs>=17.3.0 in /Users/jinhonglin/anaconda3/envs/myenv/lib/python3.11/site-packages (from aiohttp>=3.8.4->e2b<0.18.0,>=0.17.1->dynamiq) (24.2.0)\r\n",
      "Requirement already satisfied: frozenlist>=1.1.1 in /Users/jinhonglin/anaconda3/envs/myenv/lib/python3.11/site-packages (from aiohttp>=3.8.4->e2b<0.18.0,>=0.17.1->dynamiq) (1.5.0)\r\n",
      "Requirement already satisfied: multidict<7.0,>=4.5 in /Users/jinhonglin/anaconda3/envs/myenv/lib/python3.11/site-packages (from aiohttp>=3.8.4->e2b<0.18.0,>=0.17.1->dynamiq) (6.1.0)\r\n",
      "Requirement already satisfied: propcache>=0.2.0 in /Users/jinhonglin/anaconda3/envs/myenv/lib/python3.11/site-packages (from aiohttp>=3.8.4->e2b<0.18.0,>=0.17.1->dynamiq) (0.2.0)\r\n",
      "Requirement already satisfied: yarl<2.0,>=1.17.0 in /Users/jinhonglin/anaconda3/envs/myenv/lib/python3.11/site-packages (from aiohttp>=3.8.4->e2b<0.18.0,>=0.17.1->dynamiq) (1.17.2)\r\n",
      "Requirement already satisfied: cryptography in /Users/jinhonglin/anaconda3/envs/myenv/lib/python3.11/site-packages (from authlib<2.0.0,>=1.2.1->weaviate-client<4.8.0,>=4.7.1->dynamiq) (43.0.3)\r\n",
      "Requirement already satisfied: googleapis-common-protos<2.0.dev0,>=1.56.2 in /Users/jinhonglin/anaconda3/envs/myenv/lib/python3.11/site-packages (from google-api-core!=2.0.*,!=2.1.*,!=2.2.*,!=2.3.*,!=2.4.*,!=2.5.*,!=2.6.*,!=2.7.*,<3.0.0dev,>=1.34.1->google-api-core[grpc]!=2.0.*,!=2.1.*,!=2.2.*,!=2.3.*,!=2.4.*,!=2.5.*,!=2.6.*,!=2.7.*,<3.0.0dev,>=1.34.1->google-cloud-aiplatform<1.48.0,>=1.47.0->dynamiq) (1.66.0)\r\n",
      "Requirement already satisfied: grpcio-status<2.0.dev0,>=1.33.2 in /Users/jinhonglin/anaconda3/envs/myenv/lib/python3.11/site-packages (from google-api-core[grpc]!=2.0.*,!=2.1.*,!=2.2.*,!=2.3.*,!=2.4.*,!=2.5.*,!=2.6.*,!=2.7.*,<3.0.0dev,>=1.34.1->google-cloud-aiplatform<1.48.0,>=1.47.0->dynamiq) (1.62.3)\r\n",
      "Requirement already satisfied: cachetools<6.0,>=2.0.0 in /Users/jinhonglin/anaconda3/envs/myenv/lib/python3.11/site-packages (from google-auth<3.0.0dev,>=2.14.1->google-cloud-aiplatform<1.48.0,>=1.47.0->dynamiq) (5.5.0)\r\n",
      "Requirement already satisfied: pyasn1-modules>=0.2.1 in /Users/jinhonglin/anaconda3/envs/myenv/lib/python3.11/site-packages (from google-auth<3.0.0dev,>=2.14.1->google-cloud-aiplatform<1.48.0,>=1.47.0->dynamiq) (0.4.1)\r\n",
      "Requirement already satisfied: rsa<5,>=3.1.4 in /Users/jinhonglin/anaconda3/envs/myenv/lib/python3.11/site-packages (from google-auth<3.0.0dev,>=2.14.1->google-cloud-aiplatform<1.48.0,>=1.47.0->dynamiq) (4.9)\r\n",
      "Requirement already satisfied: google-cloud-core<3.0.0dev,>=2.4.1 in /Users/jinhonglin/anaconda3/envs/myenv/lib/python3.11/site-packages (from google-cloud-bigquery!=3.20.0,<4.0.0dev,>=1.15.0->google-cloud-aiplatform<1.48.0,>=1.47.0->dynamiq) (2.4.1)\r\n",
      "Requirement already satisfied: google-resumable-media<3.0dev,>=2.0.0 in /Users/jinhonglin/anaconda3/envs/myenv/lib/python3.11/site-packages (from google-cloud-bigquery!=3.20.0,<4.0.0dev,>=1.15.0->google-cloud-aiplatform<1.48.0,>=1.47.0->dynamiq) (2.7.2)\r\n",
      "Requirement already satisfied: grpc-google-iam-v1<1.0.0dev,>=0.12.4 in /Users/jinhonglin/anaconda3/envs/myenv/lib/python3.11/site-packages (from google-cloud-resource-manager<3.0.0dev,>=1.3.3->google-cloud-aiplatform<1.48.0,>=1.47.0->dynamiq) (0.13.1)\r\n",
      "Requirement already satisfied: google-crc32c<2.0dev,>=1.0 in /Users/jinhonglin/anaconda3/envs/myenv/lib/python3.11/site-packages (from google-cloud-storage<3.0.0dev,>=1.32.0->google-cloud-aiplatform<1.48.0,>=1.47.0->dynamiq) (1.6.0)\r\n",
      "Requirement already satisfied: httpcore==1.* in /Users/jinhonglin/anaconda3/envs/myenv/lib/python3.11/site-packages (from httpx>=0.27.0->chromadb-client<0.6.0,>=0.5.5.dev0->dynamiq) (1.0.2)\r\n",
      "Requirement already satisfied: h11<0.15,>=0.13 in /Users/jinhonglin/anaconda3/envs/myenv/lib/python3.11/site-packages (from httpcore==1.*->httpx>=0.27.0->chromadb-client<0.6.0,>=0.5.5.dev0->dynamiq) (0.14.0)\r\n",
      "Requirement already satisfied: h2<5,>=3 in /Users/jinhonglin/anaconda3/envs/myenv/lib/python3.11/site-packages (from httpx[http2]>=0.20.0->qdrant-client<1.12.0,>=1.11.3->dynamiq) (4.1.0)\r\n",
      "Requirement already satisfied: zipp>=0.5 in /Users/jinhonglin/anaconda3/envs/myenv/lib/python3.11/site-packages (from importlib-metadata>=6.8.0->litellm<1.47.0,>=1.46.0->dynamiq) (3.21.0)\r\n",
      "Requirement already satisfied: jsonschema-specifications>=2023.03.6 in /Users/jinhonglin/anaconda3/envs/myenv/lib/python3.11/site-packages (from jsonschema<5.0.0,>=4.22.0->litellm<1.47.0,>=1.46.0->dynamiq) (2023.7.1)\r\n",
      "Requirement already satisfied: referencing>=0.28.4 in /Users/jinhonglin/anaconda3/envs/myenv/lib/python3.11/site-packages (from jsonschema<5.0.0,>=4.22.0->litellm<1.47.0,>=1.46.0->dynamiq) (0.30.2)\r\n",
      "Requirement already satisfied: rpds-py>=0.7.1 in /Users/jinhonglin/anaconda3/envs/myenv/lib/python3.11/site-packages (from jsonschema<5.0.0,>=4.22.0->litellm<1.47.0,>=1.46.0->dynamiq) (0.10.6)\r\n",
      "Requirement already satisfied: deprecated>=1.2.6 in /Users/jinhonglin/anaconda3/envs/myenv/lib/python3.11/site-packages (from opentelemetry-api>=1.2.0->chromadb-client<0.6.0,>=0.5.5.dev0->dynamiq) (1.2.15)\r\n",
      "Requirement already satisfied: opentelemetry-exporter-otlp-proto-common==1.27.0 in /Users/jinhonglin/anaconda3/envs/myenv/lib/python3.11/site-packages (from opentelemetry-exporter-otlp-proto-grpc>=1.2.0->chromadb-client<0.6.0,>=0.5.5.dev0->dynamiq) (1.27.0)\r\n",
      "Requirement already satisfied: opentelemetry-proto==1.27.0 in /Users/jinhonglin/anaconda3/envs/myenv/lib/python3.11/site-packages (from opentelemetry-exporter-otlp-proto-grpc>=1.2.0->chromadb-client<0.6.0,>=0.5.5.dev0->dynamiq) (1.27.0)\r\n",
      "Requirement already satisfied: opentelemetry-semantic-conventions==0.48b0 in /Users/jinhonglin/anaconda3/envs/myenv/lib/python3.11/site-packages (from opentelemetry-sdk>=1.2.0->chromadb-client<0.6.0,>=0.5.5.dev0->dynamiq) (0.48b0)\r\n",
      "Requirement already satisfied: monotonic>=1.5 in /Users/jinhonglin/anaconda3/envs/myenv/lib/python3.11/site-packages (from posthog>=2.4.0->chromadb-client<0.6.0,>=0.5.5.dev0->dynamiq) (1.6)\r\n",
      "Requirement already satisfied: backoff>=1.10.0 in /Users/jinhonglin/anaconda3/envs/myenv/lib/python3.11/site-packages (from posthog>=2.4.0->chromadb-client<0.6.0,>=0.5.5.dev0->dynamiq) (2.2.1)\r\n",
      "Requirement already satisfied: regex>=2022.1.18 in /Users/jinhonglin/anaconda3/envs/myenv/lib/python3.11/site-packages (from tiktoken>=0.7.0->litellm<1.47.0,>=1.46.0->dynamiq) (2024.11.6)\r\n",
      "Requirement already satisfied: httplib2<1.dev0,>=0.19.0 in /Users/jinhonglin/anaconda3/envs/myenv/lib/python3.11/site-packages (from google-api-python-client->google-generativeai<0.6.0,>=0.5.0->dynamiq) (0.22.0)\r\n",
      "Requirement already satisfied: google-auth-httplib2<1.0.0,>=0.2.0 in /Users/jinhonglin/anaconda3/envs/myenv/lib/python3.11/site-packages (from google-api-python-client->google-generativeai<0.6.0,>=0.5.0->dynamiq) (0.2.0)\r\n",
      "Requirement already satisfied: uritemplate<5,>=3.0.1 in /Users/jinhonglin/anaconda3/envs/myenv/lib/python3.11/site-packages (from google-api-python-client->google-generativeai<0.6.0,>=0.5.0->dynamiq) (4.1.1)\r\n",
      "Requirement already satisfied: huggingface-hub<1.0,>=0.16.4 in /Users/jinhonglin/anaconda3/envs/myenv/lib/python3.11/site-packages (from tokenizers->litellm<1.47.0,>=1.46.0->dynamiq) (0.26.2)\r\n",
      "Requirement already satisfied: wrapt<2,>=1.10 in /Users/jinhonglin/anaconda3/envs/myenv/lib/python3.11/site-packages (from deprecated>=1.2.6->opentelemetry-api>=1.2.0->chromadb-client<0.6.0,>=0.5.5.dev0->dynamiq) (1.16.0)\r\n",
      "Requirement already satisfied: hyperframe<7,>=6.0 in /Users/jinhonglin/anaconda3/envs/myenv/lib/python3.11/site-packages (from h2<5,>=3->httpx[http2]>=0.20.0->qdrant-client<1.12.0,>=1.11.3->dynamiq) (6.0.1)\r\n",
      "Requirement already satisfied: hpack<5,>=4.0 in /Users/jinhonglin/anaconda3/envs/myenv/lib/python3.11/site-packages (from h2<5,>=3->httpx[http2]>=0.20.0->qdrant-client<1.12.0,>=1.11.3->dynamiq) (4.0.0)\r\n",
      "Requirement already satisfied: pyparsing!=3.0.0,!=3.0.1,!=3.0.2,!=3.0.3,<4,>=2.4.2 in /Users/jinhonglin/anaconda3/envs/myenv/lib/python3.11/site-packages (from httplib2<1.dev0,>=0.19.0->google-api-python-client->google-generativeai<0.6.0,>=0.5.0->dynamiq) (3.2.0)\r\n",
      "Requirement already satisfied: filelock in /Users/jinhonglin/anaconda3/envs/myenv/lib/python3.11/site-packages (from huggingface-hub<1.0,>=0.16.4->tokenizers->litellm<1.47.0,>=1.46.0->dynamiq) (3.16.1)\r\n",
      "Requirement already satisfied: fsspec>=2023.5.0 in /Users/jinhonglin/anaconda3/envs/myenv/lib/python3.11/site-packages (from huggingface-hub<1.0,>=0.16.4->tokenizers->litellm<1.47.0,>=1.46.0->dynamiq) (2024.10.0)\r\n",
      "Requirement already satisfied: pyasn1<0.7.0,>=0.4.6 in /Users/jinhonglin/anaconda3/envs/myenv/lib/python3.11/site-packages (from pyasn1-modules>=0.2.1->google-auth<3.0.0dev,>=2.14.1->google-cloud-aiplatform<1.48.0,>=1.47.0->dynamiq) (0.6.1)\r\n",
      "Requirement already satisfied: cffi>=1.12 in /Users/jinhonglin/anaconda3/envs/myenv/lib/python3.11/site-packages (from cryptography->authlib<2.0.0,>=1.2.1->weaviate-client<4.8.0,>=4.7.1->dynamiq) (1.17.1)\r\n",
      "Requirement already satisfied: pycparser in /Users/jinhonglin/anaconda3/envs/myenv/lib/python3.11/site-packages (from cffi>=1.12->cryptography->authlib<2.0.0,>=1.2.1->weaviate-client<4.8.0,>=4.7.1->dynamiq) (2.21)\r\n"
     ]
    }
   ],
   "source": [
    "! pip install dynamiq pymilvus\n"
   ]
  },
  {
   "cell_type": "markdown",
   "id": "59c95741251895fe",
   "metadata": {
    "collapsed": false
   },
   "source": [
    "> If you are using Google Colab, to enable dependencies just installed, you may need to **restart the runtime** (click on the \"Runtime\" menu at the top of the screen, and select \"Restart session\" from the dropdown menu)."
   ]
  },
  {
   "cell_type": "markdown",
   "id": "38e2801395f2273d",
   "metadata": {
    "collapsed": false
   },
   "source": [
    "### Configure the LLM agent\n",
    "\n",
    "We will use OpenAI as the LLM in this example. You should prepare the [api key](https://platform.openai.com/docs/quickstart) `OPENAI_API_KEY` as an environment variable.\n"
   ]
  },
  {
   "cell_type": "code",
   "execution_count": 2,
   "id": "2daf83743889cb73",
   "metadata": {
    "collapsed": false,
    "ExecuteTime": {
     "end_time": "2024-11-20T03:13:53.013034Z",
     "start_time": "2024-11-20T03:13:53.009842Z"
    }
   },
   "outputs": [],
   "source": [
    "import os\n",
    "\n",
    "os.environ[\"OPENAI_API_KEY\"] = \"sk-***********\""
   ]
  },
  {
   "cell_type": "markdown",
   "id": "dc932e415c8f00a7",
   "metadata": {
    "collapsed": false
   },
   "source": [
    "## RAG - Document Indexing Flow\n",
    "\n",
    "This tutorial demonstrates a Retrieval-Augmented Generation (RAG) workflow for indexing documents with Milvus as the vector database. The workflow takes input PDF files, processes them into smaller chunks, generates vector embeddings using OpenAI's embedding model, and stores the embeddings in a Milvus collection for efficient retrieval.\n",
    "\n",
    "By the end of this workflow, you will have a scalable and efficient document indexing system that supports future RAG tasks like semantic search and question answering."
   ]
  },
  {
   "cell_type": "markdown",
   "id": "34fbf9e90c227bcb",
   "metadata": {
    "collapsed": false
   },
   "source": [
    "### Import Required Libraries and Initialize Workflow"
   ]
  },
  {
   "cell_type": "code",
   "execution_count": 3,
   "id": "initial_id",
   "metadata": {
    "collapsed": true,
    "jupyter": {
     "outputs_hidden": true
    },
    "ExecuteTime": {
     "end_time": "2024-11-20T03:13:56.478488Z",
     "start_time": "2024-11-20T03:13:54.716225Z"
    }
   },
   "outputs": [],
   "source": [
    "# Importing necessary libraries for the workflow\n",
    "from io import BytesIO\n",
    "from dynamiq import Workflow\n",
    "from dynamiq.nodes import InputTransformer\n",
    "from dynamiq.connections import OpenAI as OpenAIConnection, Milvus as MilvusConnection, MilvusDeploymentType\n",
    "from dynamiq.nodes.converters import PyPDFConverter\n",
    "from dynamiq.nodes.splitters.document import DocumentSplitter\n",
    "from dynamiq.nodes.embedders import OpenAIDocumentEmbedder\n",
    "from dynamiq.nodes.writers import MilvusDocumentWriter\n",
    "\n",
    "# Initialize the workflow\n",
    "rag_wf = Workflow()\n"
   ]
  },
  {
   "cell_type": "markdown",
   "id": "808a4ba11a5c65e7",
   "metadata": {
    "collapsed": false
   },
   "source": [
    "### Define PDF Converter Node"
   ]
  },
  {
   "cell_type": "code",
   "execution_count": 4,
   "id": "c7406f09f125695c",
   "metadata": {
    "collapsed": false,
    "ExecuteTime": {
     "end_time": "2024-11-20T03:13:57.175380Z",
     "start_time": "2024-11-20T03:13:57.172991Z"
    }
   },
   "outputs": [],
   "source": [
    "converter = PyPDFConverter(document_creation_mode=\"one-doc-per-page\")\n",
    "converter_added = rag_wf.flow.add_nodes(converter)  # Add node to the DAG (Directed Acyclic Graph)\n"
   ]
  },
  {
   "cell_type": "markdown",
   "id": "13b5959b723534b8",
   "metadata": {
    "collapsed": false
   },
   "source": [
    "### Define Document Splitter Node"
   ]
  },
  {
   "cell_type": "code",
   "execution_count": 5,
   "id": "13085207a0f67a9b",
   "metadata": {
    "collapsed": false,
    "ExecuteTime": {
     "end_time": "2024-11-20T03:13:58.155849Z",
     "start_time": "2024-11-20T03:13:58.152563Z"
    }
   },
   "outputs": [],
   "source": [
    "document_splitter = DocumentSplitter(\n",
    "    split_by=\"sentence\",  # Splits documents into sentences\n",
    "    split_length=10,      \n",
    "    split_overlap=1,      \n",
    "    input_transformer=InputTransformer(\n",
    "        selector={\n",
    "            \"documents\": f\"${[converter.id]}.output.documents\", \n",
    "        },\n",
    "    ),\n",
    ").depends_on(converter)  # Set dependency on the PDF converter\n",
    "splitter_added = rag_wf.flow.add_nodes(document_splitter)  # Add to the DAG\n"
   ]
  },
  {
   "cell_type": "markdown",
   "id": "cde92302e3e22c77",
   "metadata": {
    "collapsed": false
   },
   "source": [
    "### Define Embedding Node"
   ]
  },
  {
   "cell_type": "code",
   "execution_count": 7,
   "id": "441d5a0746540497",
   "metadata": {
    "collapsed": false,
    "ExecuteTime": {
     "end_time": "2024-11-20T03:14:02.040469Z",
     "start_time": "2024-11-20T03:14:02.012285Z"
    }
   },
   "outputs": [],
   "source": [
    "embedder = OpenAIDocumentEmbedder(\n",
    "    connection=OpenAIConnection(api_key=os.environ[\"OPENAI_API_KEY\"]),  \n",
    "    input_transformer=InputTransformer(\n",
    "        selector={\n",
    "            \"documents\": f\"${[document_splitter.id]}.output.documents\",  \n",
    "        },\n",
    "    ),\n",
    ").depends_on(document_splitter)  # Set dependency on the splitter\n",
    "document_embedder_added = rag_wf.flow.add_nodes(embedder)  # Add to the DAG\n"
   ]
  },
  {
   "cell_type": "markdown",
   "id": "3c2d4ad79cfa7254",
   "metadata": {
    "collapsed": false
   },
   "source": [
    "### Define Milvus Vector Store Node"
   ]
  },
  {
   "cell_type": "code",
   "execution_count": 8,
   "id": "49d19a8f959e81f1",
   "metadata": {
    "collapsed": false,
    "ExecuteTime": {
     "end_time": "2024-11-20T03:14:05.588159Z",
     "start_time": "2024-11-20T03:14:03.387110Z"
    }
   },
   "outputs": [
    {
     "name": "stderr",
     "output_type": "stream",
     "text": [
      "2024-11-19 22:14:03 - WARNING - Environment variable 'MILVUS_API_TOKEN' not found\n",
      "2024-11-19 22:14:03 - INFO - Pass in the local path ./milvus.db, and run it using milvus-lite\n",
      "2024-11-19 22:14:04 - DEBUG - Created new connection using: 0bef2849fdb1458a85df8bb9dd27f51d\n",
      "2024-11-19 22:14:04 - INFO - Collection my_milvus_collection does not exist. Creating a new collection.\n",
      "2024-11-19 22:14:04 - DEBUG - Successfully created collection: my_milvus_collection\n",
      "2024-11-19 22:14:05 - DEBUG - Successfully created an index on collection: my_milvus_collection\n",
      "2024-11-19 22:14:05 - DEBUG - Successfully created an index on collection: my_milvus_collection\n"
     ]
    }
   ],
   "source": [
    "vector_store = (\n",
    "    MilvusDocumentWriter(\n",
    "        connection=MilvusConnection(deployment_type=MilvusDeploymentType.FILE, uri=\"./milvus.db\"),\n",
    "        index_name=\"my_milvus_collection\",  \n",
    "        dimension=1536,  \n",
    "        create_if_not_exist=True, \n",
    "        metric_type=\"COSINE\"  \n",
    "    )\n",
    "    .inputs(documents=embedder.outputs.documents)  # Connect to embedder output\n",
    "    .depends_on(embedder)  # Set dependency on the embedder\n",
    ")\n",
    "milvus_writer_added = rag_wf.flow.add_nodes(vector_store)  # Add to the DAG\n"
   ]
  },
  {
   "cell_type": "markdown",
   "id": "2e00a00b250c7f02",
   "metadata": {
    "collapsed": false
   },
   "source": [
    "> # Milvus Deployment Types\n",
    ">\n",
    "> Milvus offers two deployment types, catering to different use cases:\n",
    ">\n",
    ">\n",
    "> ## 1. **MilvusDeploymentType.FILE**\n",
    ">\n",
    "> - Ideal for **local prototyping** or **small-scale data** storage.\n",
    "> - Set the `uri` to a local file path (e.g., `./milvus.db`) to leverage [Milvus Lite](https://milvus.io/docs/milvus_lite.md), which automatically stores all data in the specified file.\n",
    "> - This is a convenient option for **quick setup** and **experimentation**.\n",
    ">\n",
    ">\n",
    "> ## 2. **MilvusDeploymentType.HOST**\n",
    ">\n",
    "> - Designed for **large-scale data** scenarios, such as managing over a million vectors.\n",
    ">\n",
    "> ### **Self-Hosted Server**\n",
    "> - Deploy a high-performance Milvus server using [Docker or Kubernetes](https://milvus.io/docs/quickstart.md).\n",
    "> - Configure the server’s address and port as the `uri` (e.g., `http://localhost:19530`).\n",
    "> - If authentication is enabled:\n",
    ">   - Provide `<your_username>:<your_password>` as the `token`.\n",
    "> - If authentication is disabled:\n",
    ">   - Leave the `token` unset.\n",
    ">\n",
    "> ### **Zilliz Cloud (Managed Service)**\n",
    "> - For a fully managed, cloud-based Milvus experience, use [Zilliz Cloud](https://zilliz.com/cloud).\n",
    "> - Set the `uri` and `token` according to the [Public Endpoint and API key](https://docs.zilliz.com/docs/on-zilliz-cloud-console#cluster-details) provided in the Zilliz Cloud console."
   ]
  },
  {
   "cell_type": "markdown",
   "id": "ad82067568805962",
   "metadata": {
    "collapsed": false
   },
   "source": [
    "### Define Input Data and Run the Workflow"
   ]
  },
  {
   "cell_type": "code",
   "execution_count": 9,
   "id": "99e53f536d7b5274",
   "metadata": {
    "collapsed": false,
    "ExecuteTime": {
     "end_time": "2024-11-20T03:14:10.638574Z",
     "start_time": "2024-11-20T03:14:09.373090Z"
    }
   },
   "outputs": [
    {
     "name": "stderr",
     "output_type": "stream",
     "text": [
      "/var/folders/09/d0hx80nj35sb5hxb5cpc1q180000gn/T/ipykernel_31319/3145804345.py:4: ResourceWarning: unclosed file <_io.BufferedReader name='./pdf_files/WhatisMilvus.pdf'>\n",
      "  BytesIO(open(path, \"rb\").read()) for path in file_paths\n",
      "ResourceWarning: Enable tracemalloc to get the object allocation traceback\n",
      "2024-11-19 22:14:09 - INFO - Workflow 87878444-6a3d-43f3-ae32-0127564a959f: execution started.\n",
      "2024-11-19 22:14:09 - INFO - Flow b30b48ec-d5d2-4e4c-8e25-d6976c8a9c17: execution started.\n",
      "2024-11-19 22:14:09 - INFO - Node PyPDF File Converter - 6eb42b1f-7637-407b-a3ac-4167bcf3b5c4: execution started.\n",
      "2024-11-19 22:14:09 - INFO - Node PyPDF File Converter - 6eb42b1f-7637-407b-a3ac-4167bcf3b5c4: execution succeeded in 58ms.\n",
      "2024-11-19 22:14:09 - INFO - Node DocumentSplitter - 5baed580-6de0-4dcd-bace-d7d947ab6c7f: execution started.\n",
      "/Users/jinhonglin/anaconda3/envs/myenv/lib/python3.11/site-packages/websockets/legacy/__init__.py:6: DeprecationWarning: websockets.legacy is deprecated; see https://websockets.readthedocs.io/en/stable/howto/upgrade.html for upgrade instructions\n",
      "  warnings.warn(  # deprecated in 14.0 - 2024-11-09\n",
      "/Users/jinhonglin/anaconda3/envs/myenv/lib/python3.11/site-packages/pydantic/fields.py:804: PydanticDeprecatedSince20: Using extra keyword arguments on `Field` is deprecated and will be removed. Use `json_schema_extra` instead. (Extra keys: 'is_accessible_to_agent'). Deprecated in Pydantic V2.0 to be removed in V3.0. See Pydantic V2 Migration Guide at https://errors.pydantic.dev/2.7/migration/\n",
      "  warn(\n",
      "2024-11-19 22:14:09 - INFO - Node DocumentSplitter - 5baed580-6de0-4dcd-bace-d7d947ab6c7f: execution succeeded in 104ms.\n",
      "2024-11-19 22:14:09 - INFO - Node OpenAIDocumentEmbedder - 91928f67-a00f-48f6-a864-f6e21672ec7e: execution started.\n",
      "2024-11-19 22:14:09 - INFO - Node OpenAIDocumentEmbedder - d30a4cdc-0fab-4aff-b2e5-6161a62cb6fd: execution started.\n",
      "2024-11-19 22:14:10 - INFO - HTTP Request: POST https://api.openai.com/v1/embeddings \"HTTP/1.1 200 OK\"\n",
      "2024-11-19 22:14:10 - INFO - Node OpenAIDocumentEmbedder - d30a4cdc-0fab-4aff-b2e5-6161a62cb6fd: execution succeeded in 724ms.\n",
      "2024-11-19 22:14:10 - INFO - Node MilvusDocumentWriter - dddab4cc-1dae-4e7e-9101-1ec353f530da: execution started.\n",
      "2024-11-19 22:14:10 - INFO - HTTP Request: POST https://api.openai.com/v1/embeddings \"HTTP/1.1 200 OK\"\n",
      "2024-11-19 22:14:10 - INFO - Node MilvusDocumentWriter - dddab4cc-1dae-4e7e-9101-1ec353f530da: execution succeeded in 66ms.\n",
      "2024-11-19 22:14:10 - INFO - Node OpenAIDocumentEmbedder - 91928f67-a00f-48f6-a864-f6e21672ec7e: execution succeeded in 961ms.\n",
      "2024-11-19 22:14:10 - INFO - Flow b30b48ec-d5d2-4e4c-8e25-d6976c8a9c17: execution succeeded in 1.3s.\n",
      "2024-11-19 22:14:10 - INFO - Workflow 87878444-6a3d-43f3-ae32-0127564a959f: execution succeeded in 1.3s.\n"
     ]
    }
   ],
   "source": [
    "file_paths = [\"./pdf_files/WhatisMilvus.pdf\"]\n",
    "input_data = {\n",
    "    \"files\": [\n",
    "        BytesIO(open(path, \"rb\").read()) for path in file_paths \n",
    "    ],\n",
    "    \"metadata\": [\n",
    "        {\"filename\": path} for path in file_paths  \n",
    "    ],\n",
    "}\n",
    "\n",
    "# Run the workflow with the prepared input data\n",
    "inserted_data = rag_wf.run(input_data=input_data)\n"
   ]
  },
  {
   "cell_type": "markdown",
   "id": "b3fa6c0cdf9906ab",
   "metadata": {
    "collapsed": false
   },
   "source": [
    "Through this workflow, we have successfully implemented a document indexing pipeline using Milvus as the vector database and OpenAI's embedding model for semantic representation. This setup enables fast and accurate vector-based retrieval, forming the foundation for RAG workflows like semantic search, document retrieval, and contextual AI-driven interactions.\n",
    "\n",
    "With Milvus's scalable storage capabilities and Dynamiq's orchestration, this solution is ready for both prototyping and large-scale production deployments. You can now extend this pipeline to include additional tasks like retrieval-based question answering or AI-driven content generation."
   ]
  },
  {
   "cell_type": "markdown",
   "id": "945e58305b89d696",
   "metadata": {
    "collapsed": false
   },
   "source": [
    "## RAG Document Retrieval Flow\n",
    "\n",
    "In this tutorial, we implement a Retrieval-Augmented Generation (RAG) document retrieval workflow. This workflow takes a user query, generates a vector embedding for it, retrieves the most relevant documents from a Milvus vector database, and uses a large language model (LLM) to generate a detailed and context-aware answer based on the retrieved documents.\n",
    "\n",
    "By following this workflow, you will create an end-to-end solution for semantic search and question answering, combining the power of vector-based document retrieval with the capabilities of OpenAI’s advanced LLMs. This approach enables efficient and intelligent responses to user queries by leveraging the stored knowledge in your document database."
   ]
  },
  {
   "cell_type": "markdown",
   "id": "1083f8e11a0b6ce7",
   "metadata": {
    "collapsed": false
   },
   "source": [
    "### Import Required Libraries and Initialize Workflow"
   ]
  },
  {
   "cell_type": "code",
   "execution_count": 10,
   "id": "baa49fec5d55f96d",
   "metadata": {
    "collapsed": false,
    "ExecuteTime": {
     "end_time": "2024-11-20T03:14:17.397269Z",
     "start_time": "2024-11-20T03:14:17.283322Z"
    }
   },
   "outputs": [],
   "source": [
    "from dynamiq import Workflow\n",
    "from dynamiq.connections import OpenAI as OpenAIConnection, Milvus as MilvusConnection, MilvusDeploymentType\n",
    "from dynamiq.nodes.embedders import OpenAITextEmbedder\n",
    "from dynamiq.nodes.retrievers import MilvusDocumentRetriever\n",
    "from dynamiq.nodes.llms import OpenAI\n",
    "from dynamiq.prompts import Message, Prompt\n",
    "\n",
    "# Initialize the workflow\n",
    "retrieval_wf = Workflow()\n"
   ]
  },
  {
   "cell_type": "markdown",
   "id": "f1cd8035d05e713f",
   "metadata": {
    "collapsed": false
   },
   "source": [
    "### Define OpenAI Connection and Text Embedder"
   ]
  },
  {
   "cell_type": "code",
   "execution_count": 11,
   "id": "ec1ca65ca47b05ed",
   "metadata": {
    "collapsed": false,
    "ExecuteTime": {
     "end_time": "2024-11-20T03:14:18.567693Z",
     "start_time": "2024-11-20T03:14:18.542199Z"
    }
   },
   "outputs": [],
   "source": [
    "# Establish OpenAI connection\n",
    "openai_connection = OpenAIConnection(api_key=os.environ[\"OPENAI_API_KEY\"])\n",
    "\n",
    "# Define the text embedder node\n",
    "embedder = OpenAITextEmbedder(\n",
    "    connection=openai_connection,\n",
    "    model=\"text-embedding-3-small\",  \n",
    ")\n",
    "\n",
    "# Add the embedder node to the workflow\n",
    "embedder_added = retrieval_wf.flow.add_nodes(embedder)\n"
   ]
  },
  {
   "cell_type": "markdown",
   "id": "86a8dcb5193d0c25",
   "metadata": {
    "collapsed": false
   },
   "source": [
    "### Define Milvus Document Retriever"
   ]
  },
  {
   "cell_type": "code",
   "execution_count": 12,
   "id": "8678b57edb214fba",
   "metadata": {
    "collapsed": false,
    "ExecuteTime": {
     "end_time": "2024-11-20T03:14:19.488137Z",
     "start_time": "2024-11-20T03:14:19.478935Z"
    }
   },
   "outputs": [
    {
     "name": "stderr",
     "output_type": "stream",
     "text": [
      "2024-11-19 22:14:19 - WARNING - Environment variable 'MILVUS_API_TOKEN' not found\n",
      "2024-11-19 22:14:19 - INFO - Pass in the local path ./milvus.db, and run it using milvus-lite\n",
      "2024-11-19 22:14:19 - DEBUG - Created new connection using: 98d1132773af4298a894ad5925845fd2\n",
      "2024-11-19 22:14:19 - INFO - Collection my_milvus_collection already exists. Skipping creation.\n"
     ]
    }
   ],
   "source": [
    "document_retriever = (\n",
    "    MilvusDocumentRetriever(\n",
    "        connection=MilvusConnection(\n",
    "            deployment_type=MilvusDeploymentType.FILE,\n",
    "            uri=\"./milvus.db\"  \n",
    "        ),\n",
    "        index_name=\"my_milvus_collection\",  \n",
    "        dimension=1536, \n",
    "        top_k=5, \n",
    "    )\n",
    "    .inputs(embedding=embedder.outputs.embedding)  # Connect to embedder output\n",
    "    .depends_on(embedder)  # Dependency on the embedder node\n",
    ")\n",
    "\n",
    "# Add the retriever node to the workflow\n",
    "milvus_retriever_added = retrieval_wf.flow.add_nodes(document_retriever)\n"
   ]
  },
  {
   "cell_type": "markdown",
   "id": "72d314d217c9879e",
   "metadata": {
    "collapsed": false
   },
   "source": [
    "###  Define the Prompt Template"
   ]
  },
  {
   "cell_type": "code",
   "execution_count": 13,
   "id": "d945959c4b8a9eb2",
   "metadata": {
    "collapsed": false,
    "ExecuteTime": {
     "end_time": "2024-11-20T03:14:20.747799Z",
     "start_time": "2024-11-20T03:14:20.743238Z"
    }
   },
   "outputs": [],
   "source": [
    "# Define the prompt template for the LLM\n",
    "prompt_template = \"\"\"\n",
    "Please answer the question based on the provided context.\n",
    "\n",
    "Question: {{ query }}\n",
    "\n",
    "Context:\n",
    "{% for document in documents %}\n",
    "- {{ document.content }}\n",
    "{% endfor %}\n",
    "\"\"\"\n",
    "\n",
    "# Create the prompt object\n",
    "prompt = Prompt(messages=[Message(content=prompt_template, role=\"user\")])\n"
   ]
  },
  {
   "cell_type": "markdown",
   "id": "a55e4885ab22e31d",
   "metadata": {
    "collapsed": false
   },
   "source": [
    "### Define the Answer Generator\n"
   ]
  },
  {
   "cell_type": "code",
   "execution_count": 14,
   "id": "7bf82309937abf31",
   "metadata": {
    "collapsed": false,
    "ExecuteTime": {
     "end_time": "2024-11-20T03:14:21.709200Z",
     "start_time": "2024-11-20T03:14:21.689787Z"
    }
   },
   "outputs": [],
   "source": [
    "answer_generator = (\n",
    "    OpenAI(\n",
    "        connection=openai_connection,\n",
    "        model=\"gpt-4o\",  \n",
    "        prompt=prompt, \n",
    "    )\n",
    "    .inputs(\n",
    "        documents=document_retriever.outputs.documents,  \n",
    "        query=embedder.outputs.query,  \n",
    "    )\n",
    "    .depends_on([document_retriever, embedder])  # Dependencies on retriever and embedder\n",
    ")\n",
    "\n",
    "# Add the answer generator node to the workflow\n",
    "answer_generator_added = retrieval_wf.flow.add_nodes(answer_generator)\n"
   ]
  },
  {
   "cell_type": "markdown",
   "id": "81495d9e624282ac",
   "metadata": {
    "collapsed": false
   },
   "source": [
    "### Run the Workflow"
   ]
  },
  {
   "cell_type": "code",
   "execution_count": 15,
   "id": "2b0de8620a3079a",
   "metadata": {
    "collapsed": false,
    "ExecuteTime": {
     "end_time": "2024-11-20T03:14:25.014389Z",
     "start_time": "2024-11-20T03:14:22.658375Z"
    }
   },
   "outputs": [
    {
     "name": "stderr",
     "output_type": "stream",
     "text": [
      "2024-11-19 22:14:22 - INFO - Workflow f4a073fb-dfb6-499c-8cac-5710a7ad6d47: execution started.\n",
      "2024-11-19 22:14:22 - INFO - Flow b30b48ec-d5d2-4e4c-8e25-d6976c8a9c17: execution started.\n",
      "2024-11-19 22:14:22 - INFO - Node OpenAITextEmbedder - 47afb0bc-cf96-429d-b58f-11b6c935fec3: execution started.\n",
      "2024-11-19 22:14:23 - INFO - HTTP Request: POST https://api.openai.com/v1/embeddings \"HTTP/1.1 200 OK\"\n",
      "2024-11-19 22:14:23 - INFO - Node OpenAITextEmbedder - 47afb0bc-cf96-429d-b58f-11b6c935fec3: execution succeeded in 474ms.\n",
      "2024-11-19 22:14:23 - INFO - Node MilvusDocumentRetriever - 51c8311b-4837-411f-ba42-21e28239a2ee: execution started.\n",
      "2024-11-19 22:14:23 - INFO - Node MilvusDocumentRetriever - 51c8311b-4837-411f-ba42-21e28239a2ee: execution succeeded in 23ms.\n",
      "2024-11-19 22:14:23 - INFO - Node LLM - ac722325-bece-453f-a2ed-135b0749ee7a: execution started.\n",
      "2024-11-19 22:14:24 - INFO - HTTP Request: POST https://api.openai.com/v1/chat/completions \"HTTP/1.1 200 OK\"\n",
      "2024-11-19 22:14:24 - INFO - Node LLM - ac722325-bece-453f-a2ed-135b0749ee7a: execution succeeded in 1.8s.\n",
      "2024-11-19 22:14:25 - INFO - Flow b30b48ec-d5d2-4e4c-8e25-d6976c8a9c17: execution succeeded in 2.4s.\n",
      "2024-11-19 22:14:25 - INFO - Workflow f4a073fb-dfb6-499c-8cac-5710a7ad6d47: execution succeeded in 2.4s.\n"
     ]
    },
    {
     "name": "stdout",
     "output_type": "stream",
     "text": [
      "The advanced search algorithms in Milvus include a variety of in-memory and on-disk indexing/search algorithms such as IVF (Inverted File), HNSW (Hierarchical Navigable Small World), and DiskANN. These algorithms have been deeply optimized to enhance performance, delivering 30%-70% better performance compared to popular implementations like FAISS and HNSWLib. These optimizations are part of Milvus's design to ensure high efficiency and scalability in handling vector data.\n"
     ]
    }
   ],
   "source": [
    "# Run the workflow with a sample query\n",
    "sample_query = \"What is the Advanced Search Algorithms in Milvus?\"\n",
    "\n",
    "result = retrieval_wf.run(input_data={\"query\": sample_query})\n",
    "\n",
    "answer = result.output.get(answer_generator.id).get(\"output\", {}).get(\"content\")\n",
    "print(answer)"
   ]
  },
  {
   "cell_type": "markdown",
   "id": "969bf96ad89b4f65",
   "metadata": {
    "collapsed": false
   },
   "source": [
    "This RAG document retrieval workflow effectively combines state-of-the-art technologies for query understanding, document retrieval, and natural language generation. By embedding queries, retrieving contextually relevant documents, and generating insightful answers, this workflow enables intelligent and context-aware interactions. This workflow can be extended to handle complex multi-document queries, knowledge-based systems, and intelligent assistants, making it a foundational building block for advanced AI applications."
   ]
  },
  {
   "cell_type": "code",
   "execution_count": null,
   "id": "34e2e7c0bcaf1158",
   "metadata": {
    "collapsed": false
   },
   "outputs": [],
   "source": []
  }
 ],
 "metadata": {
  "kernelspec": {
   "display_name": "Python 3 (ipykernel)",
   "language": "python",
   "name": "python3"
  },
  "language_info": {
   "codemirror_mode": {
    "name": "ipython",
    "version": 3
   },
   "file_extension": ".py",
   "mimetype": "text/x-python",
   "name": "python",
   "nbconvert_exporter": "python",
   "pygments_lexer": "ipython3",
   "version": "3.11.10"
  }
 },
 "nbformat": 4,
 "nbformat_minor": 5
}

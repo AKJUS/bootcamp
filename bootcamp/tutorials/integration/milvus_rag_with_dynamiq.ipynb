{
 "cells": [
  {
   "cell_type": "markdown",
   "source": [
    "<a href=\"https://colab.research.google.com/github/milvus-io/bootcamp/blob/master/bootcamp/tutorials/integration/milvus_rag_with_dynamiq.ipynb\" target=\"_parent\"><img src=\"https://colab.research.google.com/assets/colab-badge.svg\" alt=\"Open In Colab\"/></a>   <a href=\"https://github.com/milvus-io/bootcamp/blob/master/bootcamp/tutorials/integration/milvus_rag_with_dynamiq.ipynb\" target=\"_blank\">\n",
    "    <img src=\"https://img.shields.io/badge/View%20on%20GitHub-555555?style=flat&logo=github&logoColor=white\" alt=\"GitHub Repository\"/>"
   ],
   "metadata": {
    "collapsed": false
   },
   "id": "a2e712bd7d3cfee8"
  },
  {
   "cell_type": "markdown",
   "source": [
    "# Getting Started with Dynamiq and Milvus\n",
    "\n",
    "\n",
    "\n",
    "[Dynamiq](https://dynamiq.ai/) is a powerful Gen AI framework that streamlines the development of AI-powered applications. With robust support for retrieval-augmented generation (RAG) and large language model (LLM) agents, Dynamiq empowers developers to create intelligent, dynamic systems with ease and efficiency.\n",
    "\n",
    "In this tutorial, we’ll explore how to seamlessly use Dynamiq with [Milvus](https://milvus.io/), a high-performance, open-source vector database purpose-built for RAG workflows. Milvus excels at efficient storage, indexing, and retrieval of vector embeddings, making it an indispensable component for AI systems that demand fast and precise contextual data access.\n",
    "\n",
    "This step-by-step guide will cover two core RAG workflows:\n",
    "\n",
    "- **Document Indexing Flow**: Learn how to process input files (e.g., PDFs), transform their content into vector embeddings, and store them in Milvus. Leveraging Milvus’s high-performance indexing capabilities ensures your data is ready for rapid retrieval.\n",
    "\n",
    "- **Document Retrieval Flow**: Discover how to query Milvus for relevant document embeddings and use them to generate insightful, context-aware responses with Dynamiq’s LLM agents, creating a seamless AI-powered user experience.\n",
    "\n",
    "By the end of this tutorial, you’ll gain a solid understanding of how Milvus and Dynamiq work together to build scalable, context-aware AI systems tailored to your needs."
   ],
   "metadata": {
    "collapsed": false
   },
   "id": "a7efdd76efcc0e4e"
  },
  {
   "cell_type": "markdown",
   "source": [
    "## Preparation\n"
   ],
   "metadata": {
    "collapsed": false
   },
   "id": "53d16d1dd5f753bf"
  },
  {
   "cell_type": "markdown",
   "source": [
    "### Download required libraries\n"
   ],
   "metadata": {
    "collapsed": false
   },
   "id": "b03bd9af09661ed7"
  },
  {
   "cell_type": "code",
   "outputs": [
    {
     "name": "stdout",
     "output_type": "stream",
     "text": [
      "Collecting dynamiq\r\n",
      "  Using cached dynamiq-0.4.1-py3-none-any.whl.metadata (14 kB)\r\n",
      "Collecting pymilvus\r\n",
      "  Using cached pymilvus-2.4.9-py3-none-any.whl.metadata (5.6 kB)\r\n",
      "Collecting RestrictedPython<7.2,>=7.1 (from dynamiq)\r\n",
      "  Downloading RestrictedPython-7.1-py3-none-any.whl.metadata (12 kB)\r\n",
      "Collecting black<24.9.0,>=24.8.0 (from dynamiq)\r\n",
      "  Using cached black-24.8.0-cp311-cp311-macosx_11_0_arm64.whl.metadata (78 kB)\r\n",
      "Collecting boto3<1.35.0,>=1.34.34 (from dynamiq)\r\n",
      "  Downloading boto3-1.34.162-py3-none-any.whl.metadata (6.6 kB)\r\n",
      "Collecting chromadb-client<0.6.0,>=0.5.5.dev0 (from dynamiq)\r\n",
      "  Downloading chromadb_client-0.5.20-py3-none-any.whl.metadata (2.4 kB)\r\n",
      "Collecting e2b<0.18.0,>=0.17.1 (from dynamiq)\r\n",
      "  Downloading e2b-0.17.1-py3-none-any.whl.metadata (3.2 kB)\r\n",
      "Collecting e2b-code-interpreter<0.1.0,>=0.0.10 (from dynamiq)\r\n",
      "  Downloading e2b_code_interpreter-0.0.10-py3-none-any.whl.metadata (3.2 kB)\r\n",
      "Collecting filetype<1.3.0,>=1.2.0 (from dynamiq)\r\n",
      "  Downloading filetype-1.2.0-py2.py3-none-any.whl.metadata (6.5 kB)\r\n",
      "Collecting google-cloud-aiplatform<1.48.0,>=1.47.0 (from dynamiq)\r\n",
      "  Downloading google_cloud_aiplatform-1.47.0-py2.py3-none-any.whl.metadata (30 kB)\r\n",
      "Collecting google-generativeai<0.6.0,>=0.5.0 (from dynamiq)\r\n",
      "  Downloading google_generativeai-0.5.4-py3-none-any.whl.metadata (3.9 kB)\r\n",
      "Requirement already satisfied: jinja2<3.2.0,>=3.1.4 in /Users/jinhonglin/anaconda3/envs/myenv/lib/python3.11/site-packages (from dynamiq) (3.1.4)\r\n",
      "Collecting jsonpath-ng<1.7.0,>=1.6.1 (from dynamiq)\r\n",
      "  Downloading jsonpath_ng-1.6.1-py3-none-any.whl.metadata (18 kB)\r\n",
      "Collecting jsonpickle<3.1.0,>=3.0.3 (from dynamiq)\r\n",
      "  Downloading jsonpickle-3.0.4-py3-none-any.whl.metadata (2.6 kB)\r\n",
      "Collecting litellm<1.47.0,>=1.46.0 (from dynamiq)\r\n",
      "  Downloading litellm-1.46.8-py3-none-any.whl.metadata (32 kB)\r\n",
      "Collecting more-itertools<10.4.0,>=10.3.0 (from dynamiq)\r\n",
      "  Downloading more_itertools-10.3.0-py3-none-any.whl.metadata (36 kB)\r\n",
      "Collecting omegaconf<2.4.0,>=2.3.0 (from dynamiq)\r\n",
      "  Downloading omegaconf-2.3.0-py3-none-any.whl.metadata (3.9 kB)\r\n",
      "Collecting openai<1.46.0,>=1.45.0 (from dynamiq)\r\n",
      "  Downloading openai-1.45.1-py3-none-any.whl.metadata (22 kB)\r\n",
      "Collecting pdf2image<1.18.0,>=1.17.0 (from dynamiq)\r\n",
      "  Downloading pdf2image-1.17.0-py3-none-any.whl.metadata (6.2 kB)\r\n",
      "Collecting pinecone-client<3.3.0,>=3.2.2 (from dynamiq)\r\n",
      "  Downloading pinecone_client-3.2.2-py3-none-any.whl.metadata (16 kB)\r\n",
      "Collecting pydantic<2.8.0,>=2.7.1 (from dynamiq)\r\n",
      "  Downloading pydantic-2.7.4-py3-none-any.whl.metadata (109 kB)\r\n",
      "Collecting pypdf<4.4.0,>=4.3.1 (from dynamiq)\r\n",
      "  Downloading pypdf-4.3.1-py3-none-any.whl.metadata (7.4 kB)\r\n",
      "Collecting python-pptx==1.0.2 (from dynamiq)\r\n",
      "  Downloading python_pptx-1.0.2-py3-none-any.whl.metadata (2.5 kB)\r\n",
      "Collecting qdrant-client<1.12.0,>=1.11.3 (from dynamiq)\r\n",
      "  Downloading qdrant_client-1.11.3-py3-none-any.whl.metadata (10 kB)\r\n",
      "Collecting redis<5.1.0,>=5.0.0 (from dynamiq)\r\n",
      "  Downloading redis-5.0.8-py3-none-any.whl.metadata (9.2 kB)\r\n",
      "Collecting requests<2.32.0,>=2.31.0 (from dynamiq)\r\n",
      "  Using cached requests-2.31.0-py3-none-any.whl.metadata (4.6 kB)\r\n",
      "Collecting unstructured-client<0.19.0,>=0.18.0 (from dynamiq)\r\n",
      "  Downloading unstructured_client-0.18.0-py3-none-any.whl.metadata (4.9 kB)\r\n",
      "Collecting weaviate-client<4.8.0,>=4.7.1 (from dynamiq)\r\n",
      "  Downloading weaviate_client-4.7.1-py3-none-any.whl.metadata (3.3 kB)\r\n",
      "Collecting Pillow>=3.3.2 (from python-pptx==1.0.2->dynamiq)\r\n",
      "  Downloading pillow-11.0.0-cp311-cp311-macosx_11_0_arm64.whl.metadata (9.1 kB)\r\n",
      "Collecting XlsxWriter>=0.5.7 (from python-pptx==1.0.2->dynamiq)\r\n",
      "  Downloading XlsxWriter-3.2.0-py3-none-any.whl.metadata (2.6 kB)\r\n",
      "Collecting lxml>=3.1.0 (from python-pptx==1.0.2->dynamiq)\r\n",
      "  Downloading lxml-5.3.0-cp311-cp311-macosx_10_9_universal2.whl.metadata (3.8 kB)\r\n",
      "Requirement already satisfied: typing-extensions>=4.9.0 in /Users/jinhonglin/anaconda3/envs/myenv/lib/python3.11/site-packages (from python-pptx==1.0.2->dynamiq) (4.11.0)\r\n",
      "Requirement already satisfied: setuptools>69 in /Users/jinhonglin/anaconda3/envs/myenv/lib/python3.11/site-packages (from pymilvus) (75.1.0)\r\n",
      "Collecting grpcio>=1.49.1 (from pymilvus)\r\n",
      "  Downloading grpcio-1.68.0-cp311-cp311-macosx_10_9_universal2.whl.metadata (3.9 kB)\r\n",
      "Collecting protobuf>=3.20.0 (from pymilvus)\r\n",
      "  Downloading protobuf-5.28.3-cp38-abi3-macosx_10_9_universal2.whl.metadata (592 bytes)\r\n",
      "Collecting environs<=9.5.0 (from pymilvus)\r\n",
      "  Using cached environs-9.5.0-py2.py3-none-any.whl.metadata (14 kB)\r\n",
      "Collecting ujson>=2.0.0 (from pymilvus)\r\n",
      "  Using cached ujson-5.10.0-cp311-cp311-macosx_11_0_arm64.whl.metadata (9.3 kB)\r\n",
      "Collecting pandas>=1.2.4 (from pymilvus)\r\n",
      "  Using cached pandas-2.2.3-cp311-cp311-macosx_11_0_arm64.whl.metadata (89 kB)\r\n",
      "Collecting milvus-lite<2.5.0,>=2.4.0 (from pymilvus)\r\n",
      "  Using cached milvus_lite-2.4.10-py3-none-macosx_11_0_arm64.whl.metadata (9.0 kB)\r\n",
      "Collecting click>=8.0.0 (from black<24.9.0,>=24.8.0->dynamiq)\r\n",
      "  Using cached click-8.1.7-py3-none-any.whl.metadata (3.0 kB)\r\n",
      "Collecting mypy-extensions>=0.4.3 (from black<24.9.0,>=24.8.0->dynamiq)\r\n",
      "  Using cached mypy_extensions-1.0.0-py3-none-any.whl.metadata (1.1 kB)\r\n",
      "Requirement already satisfied: packaging>=22.0 in /Users/jinhonglin/anaconda3/envs/myenv/lib/python3.11/site-packages (from black<24.9.0,>=24.8.0->dynamiq) (24.1)\r\n",
      "Collecting pathspec>=0.9.0 (from black<24.9.0,>=24.8.0->dynamiq)\r\n",
      "  Using cached pathspec-0.12.1-py3-none-any.whl.metadata (21 kB)\r\n",
      "Requirement already satisfied: platformdirs>=2 in /Users/jinhonglin/anaconda3/envs/myenv/lib/python3.11/site-packages (from black<24.9.0,>=24.8.0->dynamiq) (3.10.0)\r\n",
      "Collecting botocore<1.35.0,>=1.34.162 (from boto3<1.35.0,>=1.34.34->dynamiq)\r\n",
      "  Downloading botocore-1.34.162-py3-none-any.whl.metadata (5.7 kB)\r\n",
      "Collecting jmespath<2.0.0,>=0.7.1 (from boto3<1.35.0,>=1.34.34->dynamiq)\r\n",
      "  Downloading jmespath-1.0.1-py3-none-any.whl.metadata (7.6 kB)\r\n",
      "Collecting s3transfer<0.11.0,>=0.10.0 (from boto3<1.35.0,>=1.34.34->dynamiq)\r\n",
      "  Downloading s3transfer-0.10.3-py3-none-any.whl.metadata (1.7 kB)\r\n",
      "Collecting numpy<2.0.0,>=1.22.5 (from chromadb-client<0.6.0,>=0.5.5.dev0->dynamiq)\r\n",
      "  Using cached numpy-1.26.4-cp311-cp311-macosx_11_0_arm64.whl.metadata (114 kB)\r\n",
      "Collecting opentelemetry-api>=1.2.0 (from chromadb-client<0.6.0,>=0.5.5.dev0->dynamiq)\r\n",
      "  Downloading opentelemetry_api-1.28.2-py3-none-any.whl.metadata (1.4 kB)\r\n",
      "Collecting opentelemetry-exporter-otlp-proto-grpc>=1.2.0 (from chromadb-client<0.6.0,>=0.5.5.dev0->dynamiq)\r\n",
      "  Downloading opentelemetry_exporter_otlp_proto_grpc-1.28.2-py3-none-any.whl.metadata (2.2 kB)\r\n",
      "Collecting opentelemetry-sdk>=1.2.0 (from chromadb-client<0.6.0,>=0.5.5.dev0->dynamiq)\r\n",
      "  Downloading opentelemetry_sdk-1.28.2-py3-none-any.whl.metadata (1.5 kB)\r\n",
      "Requirement already satisfied: overrides>=7.3.1 in /Users/jinhonglin/anaconda3/envs/myenv/lib/python3.11/site-packages (from chromadb-client<0.6.0,>=0.5.5.dev0->dynamiq) (7.4.0)\r\n",
      "Collecting posthog>=2.4.0 (from chromadb-client<0.6.0,>=0.5.5.dev0->dynamiq)\r\n",
      "  Downloading posthog-3.7.2-py2.py3-none-any.whl.metadata (2.0 kB)\r\n",
      "Collecting tenacity>=8.2.3 (from chromadb-client<0.6.0,>=0.5.5.dev0->dynamiq)\r\n",
      "  Downloading tenacity-9.0.0-py3-none-any.whl.metadata (1.2 kB)\r\n",
      "Requirement already satisfied: PyYAML>=6.0.0 in /Users/jinhonglin/anaconda3/envs/myenv/lib/python3.11/site-packages (from chromadb-client<0.6.0,>=0.5.5.dev0->dynamiq) (6.0.2)\r\n",
      "Collecting orjson>=3.9.12 (from chromadb-client<0.6.0,>=0.5.5.dev0->dynamiq)\r\n",
      "  Downloading orjson-3.10.11-cp311-cp311-macosx_10_15_x86_64.macosx_11_0_arm64.macosx_10_15_universal2.whl.metadata (50 kB)\r\n",
      "Requirement already satisfied: httpx>=0.27.0 in /Users/jinhonglin/anaconda3/envs/myenv/lib/python3.11/site-packages (from chromadb-client<0.6.0,>=0.5.5.dev0->dynamiq) (0.27.0)\r\n",
      "Collecting aenum>=3.1.11 (from e2b<0.18.0,>=0.17.1->dynamiq)\r\n",
      "  Downloading aenum-3.1.15-py3-none-any.whl.metadata (3.7 kB)\r\n",
      "Collecting aiohttp>=3.8.4 (from e2b<0.18.0,>=0.17.1->dynamiq)\r\n",
      "  Downloading aiohttp-3.11.6-cp311-cp311-macosx_11_0_arm64.whl.metadata (7.7 kB)\r\n",
      "Collecting jsonrpcclient>=4.0.3 (from e2b<0.18.0,>=0.17.1->dynamiq)\r\n",
      "  Downloading jsonrpcclient-4.0.3-py3-none-any.whl.metadata (3.2 kB)\r\n",
      "Requirement already satisfied: python-dateutil>=2.8.2 in /Users/jinhonglin/anaconda3/envs/myenv/lib/python3.11/site-packages (from e2b<0.18.0,>=0.17.1->dynamiq) (2.9.0.post0)\r\n",
      "Requirement already satisfied: urllib3>=1.25.3 in /Users/jinhonglin/anaconda3/envs/myenv/lib/python3.11/site-packages (from e2b<0.18.0,>=0.17.1->dynamiq) (2.2.3)\r\n",
      "Collecting websockets>=11.0.3 (from e2b<0.18.0,>=0.17.1->dynamiq)\r\n",
      "  Downloading websockets-14.1-cp311-cp311-macosx_11_0_arm64.whl.metadata (6.7 kB)\r\n",
      "Requirement already satisfied: websocket-client<2.0.0,>=1.7.0 in /Users/jinhonglin/anaconda3/envs/myenv/lib/python3.11/site-packages (from e2b-code-interpreter<0.1.0,>=0.0.10->dynamiq) (1.8.0)\r\n",
      "Collecting marshmallow>=3.0.0 (from environs<=9.5.0->pymilvus)\r\n",
      "  Downloading marshmallow-3.23.1-py3-none-any.whl.metadata (7.5 kB)\r\n",
      "Collecting python-dotenv (from environs<=9.5.0->pymilvus)\r\n",
      "  Using cached python_dotenv-1.0.1-py3-none-any.whl.metadata (23 kB)\r\n",
      "Collecting google-api-core!=2.0.*,!=2.1.*,!=2.2.*,!=2.3.*,!=2.4.*,!=2.5.*,!=2.6.*,!=2.7.*,<3.0.0dev,>=1.34.1 (from google-api-core[grpc]!=2.0.*,!=2.1.*,!=2.2.*,!=2.3.*,!=2.4.*,!=2.5.*,!=2.6.*,!=2.7.*,<3.0.0dev,>=1.34.1->google-cloud-aiplatform<1.48.0,>=1.47.0->dynamiq)\r\n",
      "  Downloading google_api_core-2.23.0-py3-none-any.whl.metadata (3.0 kB)\r\n",
      "Collecting google-auth<3.0.0dev,>=2.14.1 (from google-cloud-aiplatform<1.48.0,>=1.47.0->dynamiq)\r\n",
      "  Downloading google_auth-2.36.0-py2.py3-none-any.whl.metadata (4.7 kB)\r\n",
      "Collecting proto-plus<2.0.0dev,>=1.22.0 (from google-cloud-aiplatform<1.48.0,>=1.47.0->dynamiq)\r\n",
      "  Downloading proto_plus-1.25.0-py3-none-any.whl.metadata (2.2 kB)\r\n",
      "Collecting protobuf>=3.20.0 (from pymilvus)\r\n",
      "  Downloading protobuf-4.25.5-cp37-abi3-macosx_10_9_universal2.whl.metadata (541 bytes)\r\n",
      "Collecting google-cloud-storage<3.0.0dev,>=1.32.0 (from google-cloud-aiplatform<1.48.0,>=1.47.0->dynamiq)\r\n",
      "  Downloading google_cloud_storage-2.18.2-py2.py3-none-any.whl.metadata (9.1 kB)\r\n",
      "Collecting google-cloud-bigquery!=3.20.0,<4.0.0dev,>=1.15.0 (from google-cloud-aiplatform<1.48.0,>=1.47.0->dynamiq)\r\n",
      "  Downloading google_cloud_bigquery-3.27.0-py2.py3-none-any.whl.metadata (8.6 kB)\r\n",
      "Collecting google-cloud-resource-manager<3.0.0dev,>=1.3.3 (from google-cloud-aiplatform<1.48.0,>=1.47.0->dynamiq)\r\n",
      "  Downloading google_cloud_resource_manager-1.13.1-py2.py3-none-any.whl.metadata (5.4 kB)\r\n",
      "Collecting shapely<3.0.0dev (from google-cloud-aiplatform<1.48.0,>=1.47.0->dynamiq)\r\n",
      "  Downloading shapely-2.0.6-cp311-cp311-macosx_11_0_arm64.whl.metadata (7.0 kB)\r\n",
      "Collecting docstring-parser<1 (from google-cloud-aiplatform<1.48.0,>=1.47.0->dynamiq)\r\n",
      "  Downloading docstring_parser-0.16-py3-none-any.whl.metadata (3.0 kB)\r\n",
      "Collecting google-ai-generativelanguage==0.6.4 (from google-generativeai<0.6.0,>=0.5.0->dynamiq)\r\n",
      "  Downloading google_ai_generativelanguage-0.6.4-py3-none-any.whl.metadata (5.6 kB)\r\n",
      "Collecting google-api-python-client (from google-generativeai<0.6.0,>=0.5.0->dynamiq)\r\n",
      "  Downloading google_api_python_client-2.153.0-py2.py3-none-any.whl.metadata (6.7 kB)\r\n",
      "Collecting tqdm (from google-generativeai<0.6.0,>=0.5.0->dynamiq)\r\n",
      "  Downloading tqdm-4.67.0-py3-none-any.whl.metadata (57 kB)\r\n",
      "Requirement already satisfied: MarkupSafe>=2.0 in /Users/jinhonglin/anaconda3/envs/myenv/lib/python3.11/site-packages (from jinja2<3.2.0,>=3.1.4->dynamiq) (2.1.3)\r\n",
      "Requirement already satisfied: ply in /Users/jinhonglin/anaconda3/envs/myenv/lib/python3.11/site-packages (from jsonpath-ng<1.7.0,>=1.6.1->dynamiq) (3.11)\r\n",
      "Collecting importlib-metadata>=6.8.0 (from litellm<1.47.0,>=1.46.0->dynamiq)\r\n",
      "  Using cached importlib_metadata-8.5.0-py3-none-any.whl.metadata (4.8 kB)\r\n",
      "Requirement already satisfied: jsonschema<5.0.0,>=4.22.0 in /Users/jinhonglin/anaconda3/envs/myenv/lib/python3.11/site-packages (from litellm<1.47.0,>=1.46.0->dynamiq) (4.23.0)\r\n",
      "Collecting tiktoken>=0.7.0 (from litellm<1.47.0,>=1.46.0->dynamiq)\r\n",
      "  Downloading tiktoken-0.8.0-cp311-cp311-macosx_11_0_arm64.whl.metadata (6.6 kB)\r\n",
      "Collecting tokenizers (from litellm<1.47.0,>=1.46.0->dynamiq)\r\n",
      "  Downloading tokenizers-0.20.3-cp311-cp311-macosx_11_0_arm64.whl.metadata (6.7 kB)\r\n",
      "Collecting antlr4-python3-runtime==4.9.* (from omegaconf<2.4.0,>=2.3.0->dynamiq)\r\n",
      "  Using cached antlr4_python3_runtime-4.9.3-py3-none-any.whl\r\n",
      "Requirement already satisfied: anyio<5,>=3.5.0 in /Users/jinhonglin/anaconda3/envs/myenv/lib/python3.11/site-packages (from openai<1.46.0,>=1.45.0->dynamiq) (4.6.2)\r\n",
      "Collecting distro<2,>=1.7.0 (from openai<1.46.0,>=1.45.0->dynamiq)\r\n",
      "  Using cached distro-1.9.0-py3-none-any.whl.metadata (6.8 kB)\r\n",
      "Collecting jiter<1,>=0.4.0 (from openai<1.46.0,>=1.45.0->dynamiq)\r\n",
      "  Downloading jiter-0.7.1-cp311-cp311-macosx_11_0_arm64.whl.metadata (5.2 kB)\r\n",
      "Requirement already satisfied: sniffio in /Users/jinhonglin/anaconda3/envs/myenv/lib/python3.11/site-packages (from openai<1.46.0,>=1.45.0->dynamiq) (1.3.0)\r\n",
      "Requirement already satisfied: pytz>=2020.1 in /Users/jinhonglin/anaconda3/envs/myenv/lib/python3.11/site-packages (from pandas>=1.2.4->pymilvus) (2024.1)\r\n",
      "Collecting tzdata>=2022.7 (from pandas>=1.2.4->pymilvus)\r\n",
      "  Using cached tzdata-2024.2-py2.py3-none-any.whl.metadata (1.4 kB)\r\n",
      "Requirement already satisfied: certifi>=2019.11.17 in /Users/jinhonglin/anaconda3/envs/myenv/lib/python3.11/site-packages (from pinecone-client<3.3.0,>=3.2.2->dynamiq) (2024.8.30)\r\n",
      "Collecting annotated-types>=0.4.0 (from pydantic<2.8.0,>=2.7.1->dynamiq)\r\n",
      "  Downloading annotated_types-0.7.0-py3-none-any.whl.metadata (15 kB)\r\n",
      "Collecting pydantic-core==2.18.4 (from pydantic<2.8.0,>=2.7.1->dynamiq)\r\n",
      "  Downloading pydantic_core-2.18.4-cp311-cp311-macosx_11_0_arm64.whl.metadata (6.5 kB)\r\n",
      "Collecting grpcio-tools>=1.41.0 (from qdrant-client<1.12.0,>=1.11.3->dynamiq)\r\n",
      "  Downloading grpcio_tools-1.68.0-cp311-cp311-macosx_10_9_universal2.whl.metadata (5.3 kB)\r\n",
      "Collecting portalocker<3.0.0,>=2.7.0 (from qdrant-client<1.12.0,>=1.11.3->dynamiq)\r\n",
      "  Downloading portalocker-2.10.1-py3-none-any.whl.metadata (8.5 kB)\r\n",
      "Requirement already satisfied: charset-normalizer<4,>=2 in /Users/jinhonglin/anaconda3/envs/myenv/lib/python3.11/site-packages (from requests<2.32.0,>=2.31.0->dynamiq) (3.3.2)\r\n",
      "Requirement already satisfied: idna<4,>=2.5 in /Users/jinhonglin/anaconda3/envs/myenv/lib/python3.11/site-packages (from requests<2.32.0,>=2.31.0->dynamiq) (3.7)\r\n",
      "Collecting dataclasses-json-speakeasy>=0.5.11 (from unstructured-client<0.19.0,>=0.18.0->dynamiq)\r\n",
      "  Downloading dataclasses_json_speakeasy-0.5.11-py3-none-any.whl.metadata (25 kB)\r\n",
      "Collecting jsonpath-python>=1.0.6 (from unstructured-client<0.19.0,>=0.18.0->dynamiq)\r\n",
      "  Downloading jsonpath_python-1.0.6-py3-none-any.whl.metadata (12 kB)\r\n",
      "Requirement already satisfied: six>=1.16.0 in /Users/jinhonglin/anaconda3/envs/myenv/lib/python3.11/site-packages (from unstructured-client<0.19.0,>=0.18.0->dynamiq) (1.16.0)\r\n",
      "Collecting typing-inspect>=0.9.0 (from unstructured-client<0.19.0,>=0.18.0->dynamiq)\r\n",
      "  Downloading typing_inspect-0.9.0-py3-none-any.whl.metadata (1.5 kB)\r\n",
      "Collecting validators==0.33.0 (from weaviate-client<4.8.0,>=4.7.1->dynamiq)\r\n",
      "  Downloading validators-0.33.0-py3-none-any.whl.metadata (3.8 kB)\r\n",
      "Collecting authlib<2.0.0,>=1.2.1 (from weaviate-client<4.8.0,>=4.7.1->dynamiq)\r\n",
      "  Downloading Authlib-1.3.2-py2.py3-none-any.whl.metadata (3.9 kB)\r\n",
      "Collecting grpcio-health-checking<2.0.0,>=1.57.0 (from weaviate-client<4.8.0,>=4.7.1->dynamiq)\r\n",
      "  Downloading grpcio_health_checking-1.68.0-py3-none-any.whl.metadata (1.1 kB)\r\n",
      "Collecting aiohappyeyeballs>=2.3.0 (from aiohttp>=3.8.4->e2b<0.18.0,>=0.17.1->dynamiq)\r\n",
      "  Downloading aiohappyeyeballs-2.4.3-py3-none-any.whl.metadata (6.1 kB)\r\n",
      "Collecting aiosignal>=1.1.2 (from aiohttp>=3.8.4->e2b<0.18.0,>=0.17.1->dynamiq)\r\n",
      "  Using cached aiosignal-1.3.1-py3-none-any.whl.metadata (4.0 kB)\r\n",
      "Requirement already satisfied: attrs>=17.3.0 in /Users/jinhonglin/anaconda3/envs/myenv/lib/python3.11/site-packages (from aiohttp>=3.8.4->e2b<0.18.0,>=0.17.1->dynamiq) (24.2.0)\r\n",
      "Collecting frozenlist>=1.1.1 (from aiohttp>=3.8.4->e2b<0.18.0,>=0.17.1->dynamiq)\r\n",
      "  Downloading frozenlist-1.5.0-cp311-cp311-macosx_11_0_arm64.whl.metadata (13 kB)\r\n",
      "Collecting multidict<7.0,>=4.5 (from aiohttp>=3.8.4->e2b<0.18.0,>=0.17.1->dynamiq)\r\n",
      "  Downloading multidict-6.1.0-cp311-cp311-macosx_11_0_arm64.whl.metadata (5.0 kB)\r\n",
      "Collecting propcache>=0.2.0 (from aiohttp>=3.8.4->e2b<0.18.0,>=0.17.1->dynamiq)\r\n",
      "  Downloading propcache-0.2.0-cp311-cp311-macosx_11_0_arm64.whl.metadata (7.7 kB)\r\n",
      "Collecting yarl<2.0,>=1.17.0 (from aiohttp>=3.8.4->e2b<0.18.0,>=0.17.1->dynamiq)\r\n",
      "  Downloading yarl-1.17.2-cp311-cp311-macosx_11_0_arm64.whl.metadata (66 kB)\r\n",
      "Collecting cryptography (from authlib<2.0.0,>=1.2.1->weaviate-client<4.8.0,>=4.7.1->dynamiq)\r\n",
      "  Downloading cryptography-43.0.3-cp39-abi3-macosx_10_9_universal2.whl.metadata (5.4 kB)\r\n",
      "Collecting googleapis-common-protos<2.0.dev0,>=1.56.2 (from google-api-core!=2.0.*,!=2.1.*,!=2.2.*,!=2.3.*,!=2.4.*,!=2.5.*,!=2.6.*,!=2.7.*,<3.0.0dev,>=1.34.1->google-api-core[grpc]!=2.0.*,!=2.1.*,!=2.2.*,!=2.3.*,!=2.4.*,!=2.5.*,!=2.6.*,!=2.7.*,<3.0.0dev,>=1.34.1->google-cloud-aiplatform<1.48.0,>=1.47.0->dynamiq)\r\n",
      "  Downloading googleapis_common_protos-1.66.0-py2.py3-none-any.whl.metadata (1.5 kB)\r\n",
      "Collecting grpcio-status<2.0.dev0,>=1.33.2 (from google-api-core[grpc]!=2.0.*,!=2.1.*,!=2.2.*,!=2.3.*,!=2.4.*,!=2.5.*,!=2.6.*,!=2.7.*,<3.0.0dev,>=1.34.1->google-cloud-aiplatform<1.48.0,>=1.47.0->dynamiq)\r\n",
      "  Downloading grpcio_status-1.68.0-py3-none-any.whl.metadata (1.1 kB)\r\n",
      "Collecting cachetools<6.0,>=2.0.0 (from google-auth<3.0.0dev,>=2.14.1->google-cloud-aiplatform<1.48.0,>=1.47.0->dynamiq)\r\n",
      "  Downloading cachetools-5.5.0-py3-none-any.whl.metadata (5.3 kB)\r\n",
      "Collecting pyasn1-modules>=0.2.1 (from google-auth<3.0.0dev,>=2.14.1->google-cloud-aiplatform<1.48.0,>=1.47.0->dynamiq)\r\n",
      "  Downloading pyasn1_modules-0.4.1-py3-none-any.whl.metadata (3.5 kB)\r\n",
      "Collecting rsa<5,>=3.1.4 (from google-auth<3.0.0dev,>=2.14.1->google-cloud-aiplatform<1.48.0,>=1.47.0->dynamiq)\r\n",
      "  Using cached rsa-4.9-py3-none-any.whl.metadata (4.2 kB)\r\n",
      "Collecting google-cloud-core<3.0.0dev,>=2.4.1 (from google-cloud-bigquery!=3.20.0,<4.0.0dev,>=1.15.0->google-cloud-aiplatform<1.48.0,>=1.47.0->dynamiq)\r\n",
      "  Using cached google_cloud_core-2.4.1-py2.py3-none-any.whl.metadata (2.7 kB)\r\n",
      "Collecting google-resumable-media<3.0dev,>=2.0.0 (from google-cloud-bigquery!=3.20.0,<4.0.0dev,>=1.15.0->google-cloud-aiplatform<1.48.0,>=1.47.0->dynamiq)\r\n",
      "  Downloading google_resumable_media-2.7.2-py2.py3-none-any.whl.metadata (2.2 kB)\r\n",
      "Collecting grpc-google-iam-v1<1.0.0dev,>=0.12.4 (from google-cloud-resource-manager<3.0.0dev,>=1.3.3->google-cloud-aiplatform<1.48.0,>=1.47.0->dynamiq)\r\n",
      "  Downloading grpc_google_iam_v1-0.13.1-py2.py3-none-any.whl.metadata (3.3 kB)\r\n",
      "Collecting google-crc32c<2.0dev,>=1.0 (from google-cloud-storage<3.0.0dev,>=1.32.0->google-cloud-aiplatform<1.48.0,>=1.47.0->dynamiq)\r\n",
      "  Downloading google_crc32c-1.6.0-cp311-cp311-macosx_12_0_arm64.whl.metadata (2.3 kB)\r\n",
      "INFO: pip is looking at multiple versions of grpcio-health-checking to determine which version is compatible with other requirements. This could take a while.\r\n",
      "Collecting grpcio-health-checking<2.0.0,>=1.57.0 (from weaviate-client<4.8.0,>=4.7.1->dynamiq)\r\n",
      "  Downloading grpcio_health_checking-1.67.1-py3-none-any.whl.metadata (1.1 kB)\r\n",
      "  Downloading grpcio_health_checking-1.67.0-py3-none-any.whl.metadata (1.1 kB)\r\n",
      "  Downloading grpcio_health_checking-1.66.2-py3-none-any.whl.metadata (1.1 kB)\r\n",
      "  Downloading grpcio_health_checking-1.66.1-py3-none-any.whl.metadata (1.1 kB)\r\n",
      "  Downloading grpcio_health_checking-1.66.0-py3-none-any.whl.metadata (1.1 kB)\r\n",
      "  Downloading grpcio_health_checking-1.65.5-py3-none-any.whl.metadata (1.1 kB)\r\n",
      "  Downloading grpcio_health_checking-1.65.4-py3-none-any.whl.metadata (1.1 kB)\r\n",
      "INFO: pip is still looking at multiple versions of grpcio-health-checking to determine which version is compatible with other requirements. This could take a while.\r\n",
      "  Downloading grpcio_health_checking-1.65.2-py3-none-any.whl.metadata (1.1 kB)\r\n",
      "  Downloading grpcio_health_checking-1.65.1-py3-none-any.whl.metadata (1.1 kB)\r\n",
      "  Downloading grpcio_health_checking-1.64.3-py3-none-any.whl.metadata (1.1 kB)\r\n",
      "  Downloading grpcio_health_checking-1.64.1-py3-none-any.whl.metadata (1.1 kB)\r\n",
      "  Downloading grpcio_health_checking-1.64.0-py3-none-any.whl.metadata (1.1 kB)\r\n",
      "INFO: This is taking longer than usual. You might need to provide the dependency resolver with stricter constraints to reduce runtime. See https://pip.pypa.io/warnings/backtracking for guidance. If you want to abort this run, press Ctrl + C.\r\n",
      "  Downloading grpcio_health_checking-1.63.2-py3-none-any.whl.metadata (1.1 kB)\r\n",
      "  Downloading grpcio_health_checking-1.63.0-py3-none-any.whl.metadata (1.1 kB)\r\n",
      "  Downloading grpcio_health_checking-1.62.3-py3-none-any.whl.metadata (1.3 kB)\r\n",
      "INFO: pip is looking at multiple versions of grpcio-tools to determine which version is compatible with other requirements. This could take a while.\r\n",
      "Collecting grpcio-tools>=1.41.0 (from qdrant-client<1.12.0,>=1.11.3->dynamiq)\r\n",
      "  Downloading grpcio_tools-1.67.1-cp311-cp311-macosx_10_9_universal2.whl.metadata (5.3 kB)\r\n",
      "  Downloading grpcio_tools-1.67.0-cp311-cp311-macosx_10_9_universal2.whl.metadata (5.3 kB)\r\n",
      "  Downloading grpcio_tools-1.66.2-cp311-cp311-macosx_10_9_universal2.whl.metadata (5.3 kB)\r\n",
      "  Downloading grpcio_tools-1.66.1-cp311-cp311-macosx_10_9_universal2.whl.metadata (5.3 kB)\r\n",
      "  Downloading grpcio_tools-1.66.0-cp311-cp311-macosx_10_9_universal2.whl.metadata (5.3 kB)\r\n",
      "  Downloading grpcio_tools-1.65.5-cp311-cp311-macosx_10_9_universal2.whl.metadata (5.3 kB)\r\n",
      "  Downloading grpcio_tools-1.65.4-cp311-cp311-macosx_10_9_universal2.whl.metadata (5.3 kB)\r\n",
      "INFO: pip is still looking at multiple versions of grpcio-tools to determine which version is compatible with other requirements. This could take a while.\r\n",
      "  Downloading grpcio_tools-1.65.2-cp311-cp311-macosx_10_9_universal2.whl.metadata (5.3 kB)\r\n",
      "  Downloading grpcio_tools-1.65.1-cp311-cp311-macosx_10_9_universal2.whl.metadata (5.3 kB)\r\n",
      "  Downloading grpcio_tools-1.64.3-cp311-cp311-macosx_10_9_universal2.whl.metadata (5.3 kB)\r\n",
      "  Downloading grpcio_tools-1.64.1-cp311-cp311-macosx_10_9_universal2.whl.metadata (5.3 kB)\r\n",
      "  Downloading grpcio_tools-1.64.0-cp311-cp311-macosx_10_9_universal2.whl.metadata (5.3 kB)\r\n",
      "INFO: This is taking longer than usual. You might need to provide the dependency resolver with stricter constraints to reduce runtime. See https://pip.pypa.io/warnings/backtracking for guidance. If you want to abort this run, press Ctrl + C.\r\n",
      "  Downloading grpcio_tools-1.63.2-cp311-cp311-macosx_10_9_universal2.whl.metadata (5.3 kB)\r\n",
      "  Downloading grpcio_tools-1.63.0-cp311-cp311-macosx_10_9_universal2.whl.metadata (5.3 kB)\r\n",
      "  Downloading grpcio_tools-1.62.3-cp311-cp311-macosx_10_10_universal2.whl.metadata (6.2 kB)\r\n",
      "Requirement already satisfied: httpcore==1.* in /Users/jinhonglin/anaconda3/envs/myenv/lib/python3.11/site-packages (from httpx>=0.27.0->chromadb-client<0.6.0,>=0.5.5.dev0->dynamiq) (1.0.2)\r\n",
      "Requirement already satisfied: h11<0.15,>=0.13 in /Users/jinhonglin/anaconda3/envs/myenv/lib/python3.11/site-packages (from httpcore==1.*->httpx>=0.27.0->chromadb-client<0.6.0,>=0.5.5.dev0->dynamiq) (0.14.0)\r\n",
      "Collecting h2<5,>=3 (from httpx[http2]>=0.20.0->qdrant-client<1.12.0,>=1.11.3->dynamiq)\r\n",
      "  Downloading h2-4.1.0-py3-none-any.whl.metadata (3.6 kB)\r\n",
      "Collecting zipp>=3.20 (from importlib-metadata>=6.8.0->litellm<1.47.0,>=1.46.0->dynamiq)\r\n",
      "  Using cached zipp-3.21.0-py3-none-any.whl.metadata (3.7 kB)\r\n",
      "Requirement already satisfied: jsonschema-specifications>=2023.03.6 in /Users/jinhonglin/anaconda3/envs/myenv/lib/python3.11/site-packages (from jsonschema<5.0.0,>=4.22.0->litellm<1.47.0,>=1.46.0->dynamiq) (2023.7.1)\r\n",
      "Requirement already satisfied: referencing>=0.28.4 in /Users/jinhonglin/anaconda3/envs/myenv/lib/python3.11/site-packages (from jsonschema<5.0.0,>=4.22.0->litellm<1.47.0,>=1.46.0->dynamiq) (0.30.2)\r\n",
      "Requirement already satisfied: rpds-py>=0.7.1 in /Users/jinhonglin/anaconda3/envs/myenv/lib/python3.11/site-packages (from jsonschema<5.0.0,>=4.22.0->litellm<1.47.0,>=1.46.0->dynamiq) (0.10.6)\r\n",
      "Collecting deprecated>=1.2.6 (from opentelemetry-api>=1.2.0->chromadb-client<0.6.0,>=0.5.5.dev0->dynamiq)\r\n",
      "  Downloading Deprecated-1.2.15-py2.py3-none-any.whl.metadata (5.5 kB)\r\n",
      "Collecting opentelemetry-exporter-otlp-proto-common==1.28.2 (from opentelemetry-exporter-otlp-proto-grpc>=1.2.0->chromadb-client<0.6.0,>=0.5.5.dev0->dynamiq)\r\n",
      "  Downloading opentelemetry_exporter_otlp_proto_common-1.28.2-py3-none-any.whl.metadata (1.8 kB)\r\n",
      "Collecting opentelemetry-proto==1.28.2 (from opentelemetry-exporter-otlp-proto-grpc>=1.2.0->chromadb-client<0.6.0,>=0.5.5.dev0->dynamiq)\r\n",
      "  Downloading opentelemetry_proto-1.28.2-py3-none-any.whl.metadata (2.3 kB)\r\n",
      "INFO: pip is looking at multiple versions of opentelemetry-proto to determine which version is compatible with other requirements. This could take a while.\r\n",
      "Collecting opentelemetry-exporter-otlp-proto-grpc>=1.2.0 (from chromadb-client<0.6.0,>=0.5.5.dev0->dynamiq)\r\n",
      "  Downloading opentelemetry_exporter_otlp_proto_grpc-1.28.1-py3-none-any.whl.metadata (2.3 kB)\r\n",
      "Collecting opentelemetry-exporter-otlp-proto-common==1.28.1 (from opentelemetry-exporter-otlp-proto-grpc>=1.2.0->chromadb-client<0.6.0,>=0.5.5.dev0->dynamiq)\r\n",
      "  Downloading opentelemetry_exporter_otlp_proto_common-1.28.1-py3-none-any.whl.metadata (1.8 kB)\r\n",
      "Collecting opentelemetry-proto==1.28.1 (from opentelemetry-exporter-otlp-proto-grpc>=1.2.0->chromadb-client<0.6.0,>=0.5.5.dev0->dynamiq)\r\n",
      "  Downloading opentelemetry_proto-1.28.1-py3-none-any.whl.metadata (2.3 kB)\r\n",
      "Collecting opentelemetry-exporter-otlp-proto-grpc>=1.2.0 (from chromadb-client<0.6.0,>=0.5.5.dev0->dynamiq)\r\n",
      "  Downloading opentelemetry_exporter_otlp_proto_grpc-1.28.0-py3-none-any.whl.metadata (2.3 kB)\r\n",
      "Collecting opentelemetry-exporter-otlp-proto-common==1.28.0 (from opentelemetry-exporter-otlp-proto-grpc>=1.2.0->chromadb-client<0.6.0,>=0.5.5.dev0->dynamiq)\r\n",
      "  Downloading opentelemetry_exporter_otlp_proto_common-1.28.0-py3-none-any.whl.metadata (1.8 kB)\r\n",
      "Collecting opentelemetry-proto==1.28.0 (from opentelemetry-exporter-otlp-proto-grpc>=1.2.0->chromadb-client<0.6.0,>=0.5.5.dev0->dynamiq)\r\n",
      "  Downloading opentelemetry_proto-1.28.0-py3-none-any.whl.metadata (2.3 kB)\r\n",
      "Collecting opentelemetry-exporter-otlp-proto-grpc>=1.2.0 (from chromadb-client<0.6.0,>=0.5.5.dev0->dynamiq)\r\n",
      "  Downloading opentelemetry_exporter_otlp_proto_grpc-1.27.0-py3-none-any.whl.metadata (2.3 kB)\r\n",
      "Collecting opentelemetry-exporter-otlp-proto-common==1.27.0 (from opentelemetry-exporter-otlp-proto-grpc>=1.2.0->chromadb-client<0.6.0,>=0.5.5.dev0->dynamiq)\r\n",
      "  Downloading opentelemetry_exporter_otlp_proto_common-1.27.0-py3-none-any.whl.metadata (1.8 kB)\r\n",
      "Collecting opentelemetry-proto==1.27.0 (from opentelemetry-exporter-otlp-proto-grpc>=1.2.0->chromadb-client<0.6.0,>=0.5.5.dev0->dynamiq)\r\n",
      "  Downloading opentelemetry_proto-1.27.0-py3-none-any.whl.metadata (2.3 kB)\r\n",
      "Collecting opentelemetry-sdk>=1.2.0 (from chromadb-client<0.6.0,>=0.5.5.dev0->dynamiq)\r\n",
      "  Downloading opentelemetry_sdk-1.27.0-py3-none-any.whl.metadata (1.5 kB)\r\n",
      "Collecting opentelemetry-api>=1.2.0 (from chromadb-client<0.6.0,>=0.5.5.dev0->dynamiq)\r\n",
      "  Downloading opentelemetry_api-1.27.0-py3-none-any.whl.metadata (1.4 kB)\r\n",
      "Collecting opentelemetry-semantic-conventions==0.48b0 (from opentelemetry-sdk>=1.2.0->chromadb-client<0.6.0,>=0.5.5.dev0->dynamiq)\r\n",
      "  Downloading opentelemetry_semantic_conventions-0.48b0-py3-none-any.whl.metadata (2.4 kB)\r\n",
      "Collecting importlib-metadata>=6.8.0 (from litellm<1.47.0,>=1.46.0->dynamiq)\r\n",
      "  Downloading importlib_metadata-8.4.0-py3-none-any.whl.metadata (4.7 kB)\r\n",
      "Collecting monotonic>=1.5 (from posthog>=2.4.0->chromadb-client<0.6.0,>=0.5.5.dev0->dynamiq)\r\n",
      "  Using cached monotonic-1.6-py2.py3-none-any.whl.metadata (1.5 kB)\r\n",
      "Collecting backoff>=1.10.0 (from posthog>=2.4.0->chromadb-client<0.6.0,>=0.5.5.dev0->dynamiq)\r\n",
      "  Downloading backoff-2.2.1-py3-none-any.whl.metadata (14 kB)\r\n",
      "Collecting regex>=2022.1.18 (from tiktoken>=0.7.0->litellm<1.47.0,>=1.46.0->dynamiq)\r\n",
      "  Downloading regex-2024.11.6-cp311-cp311-macosx_11_0_arm64.whl.metadata (40 kB)\r\n",
      "Collecting httplib2<1.dev0,>=0.19.0 (from google-api-python-client->google-generativeai<0.6.0,>=0.5.0->dynamiq)\r\n",
      "  Using cached httplib2-0.22.0-py3-none-any.whl.metadata (2.6 kB)\r\n",
      "Collecting google-auth-httplib2<1.0.0,>=0.2.0 (from google-api-python-client->google-generativeai<0.6.0,>=0.5.0->dynamiq)\r\n",
      "  Using cached google_auth_httplib2-0.2.0-py2.py3-none-any.whl.metadata (2.2 kB)\r\n",
      "Collecting uritemplate<5,>=3.0.1 (from google-api-python-client->google-generativeai<0.6.0,>=0.5.0->dynamiq)\r\n",
      "  Using cached uritemplate-4.1.1-py2.py3-none-any.whl.metadata (2.9 kB)\r\n",
      "Collecting huggingface-hub<1.0,>=0.16.4 (from tokenizers->litellm<1.47.0,>=1.46.0->dynamiq)\r\n",
      "  Downloading huggingface_hub-0.26.2-py3-none-any.whl.metadata (13 kB)\r\n",
      "Collecting wrapt<2,>=1.10 (from deprecated>=1.2.6->opentelemetry-api>=1.2.0->chromadb-client<0.6.0,>=0.5.5.dev0->dynamiq)\r\n",
      "  Downloading wrapt-1.16.0-cp311-cp311-macosx_11_0_arm64.whl.metadata (6.6 kB)\r\n",
      "INFO: pip is looking at multiple versions of grpcio-status to determine which version is compatible with other requirements. This could take a while.\r\n",
      "Collecting grpcio-status<2.0.dev0,>=1.33.2 (from google-api-core[grpc]!=2.0.*,!=2.1.*,!=2.2.*,!=2.3.*,!=2.4.*,!=2.5.*,!=2.6.*,!=2.7.*,<3.0.0dev,>=1.34.1->google-cloud-aiplatform<1.48.0,>=1.47.0->dynamiq)\r\n",
      "  Downloading grpcio_status-1.67.1-py3-none-any.whl.metadata (1.1 kB)\r\n",
      "  Downloading grpcio_status-1.67.0-py3-none-any.whl.metadata (1.1 kB)\r\n",
      "  Downloading grpcio_status-1.66.2-py3-none-any.whl.metadata (1.1 kB)\r\n",
      "  Downloading grpcio_status-1.66.1-py3-none-any.whl.metadata (1.1 kB)\r\n",
      "  Downloading grpcio_status-1.66.0-py3-none-any.whl.metadata (1.1 kB)\r\n",
      "  Downloading grpcio_status-1.65.5-py3-none-any.whl.metadata (1.1 kB)\r\n",
      "  Downloading grpcio_status-1.65.4-py3-none-any.whl.metadata (1.1 kB)\r\n",
      "INFO: pip is still looking at multiple versions of grpcio-status to determine which version is compatible with other requirements. This could take a while.\r\n",
      "  Downloading grpcio_status-1.65.2-py3-none-any.whl.metadata (1.1 kB)\r\n",
      "  Downloading grpcio_status-1.65.1-py3-none-any.whl.metadata (1.1 kB)\r\n",
      "  Downloading grpcio_status-1.64.3-py3-none-any.whl.metadata (1.1 kB)\r\n",
      "  Downloading grpcio_status-1.64.1-py3-none-any.whl.metadata (1.1 kB)\r\n",
      "  Downloading grpcio_status-1.64.0-py3-none-any.whl.metadata (1.1 kB)\r\n",
      "INFO: This is taking longer than usual. You might need to provide the dependency resolver with stricter constraints to reduce runtime. See https://pip.pypa.io/warnings/backtracking for guidance. If you want to abort this run, press Ctrl + C.\r\n",
      "  Downloading grpcio_status-1.63.2-py3-none-any.whl.metadata (1.1 kB)\r\n",
      "  Downloading grpcio_status-1.63.0-py3-none-any.whl.metadata (1.1 kB)\r\n",
      "  Downloading grpcio_status-1.62.3-py3-none-any.whl.metadata (1.3 kB)\r\n",
      "Collecting hyperframe<7,>=6.0 (from h2<5,>=3->httpx[http2]>=0.20.0->qdrant-client<1.12.0,>=1.11.3->dynamiq)\r\n",
      "  Downloading hyperframe-6.0.1-py3-none-any.whl.metadata (2.7 kB)\r\n",
      "Collecting hpack<5,>=4.0 (from h2<5,>=3->httpx[http2]>=0.20.0->qdrant-client<1.12.0,>=1.11.3->dynamiq)\r\n",
      "  Downloading hpack-4.0.0-py3-none-any.whl.metadata (2.5 kB)\r\n",
      "Collecting pyparsing!=3.0.0,!=3.0.1,!=3.0.2,!=3.0.3,<4,>=2.4.2 (from httplib2<1.dev0,>=0.19.0->google-api-python-client->google-generativeai<0.6.0,>=0.5.0->dynamiq)\r\n",
      "  Downloading pyparsing-3.2.0-py3-none-any.whl.metadata (5.0 kB)\r\n",
      "Collecting filelock (from huggingface-hub<1.0,>=0.16.4->tokenizers->litellm<1.47.0,>=1.46.0->dynamiq)\r\n",
      "  Using cached filelock-3.16.1-py3-none-any.whl.metadata (2.9 kB)\r\n",
      "Collecting fsspec>=2023.5.0 (from huggingface-hub<1.0,>=0.16.4->tokenizers->litellm<1.47.0,>=1.46.0->dynamiq)\r\n",
      "  Downloading fsspec-2024.10.0-py3-none-any.whl.metadata (11 kB)\r\n",
      "Collecting pyasn1<0.7.0,>=0.4.6 (from pyasn1-modules>=0.2.1->google-auth<3.0.0dev,>=2.14.1->google-cloud-aiplatform<1.48.0,>=1.47.0->dynamiq)\r\n",
      "  Downloading pyasn1-0.6.1-py3-none-any.whl.metadata (8.4 kB)\r\n",
      "Requirement already satisfied: cffi>=1.12 in /Users/jinhonglin/anaconda3/envs/myenv/lib/python3.11/site-packages (from cryptography->authlib<2.0.0,>=1.2.1->weaviate-client<4.8.0,>=4.7.1->dynamiq) (1.17.1)\r\n",
      "Requirement already satisfied: pycparser in /Users/jinhonglin/anaconda3/envs/myenv/lib/python3.11/site-packages (from cffi>=1.12->cryptography->authlib<2.0.0,>=1.2.1->weaviate-client<4.8.0,>=4.7.1->dynamiq) (2.21)\r\n",
      "Using cached dynamiq-0.4.1-py3-none-any.whl (256 kB)\r\n",
      "Downloading python_pptx-1.0.2-py3-none-any.whl (472 kB)\r\n",
      "Using cached pymilvus-2.4.9-py3-none-any.whl (201 kB)\r\n",
      "Using cached black-24.8.0-cp311-cp311-macosx_11_0_arm64.whl (1.4 MB)\r\n",
      "Downloading boto3-1.34.162-py3-none-any.whl (139 kB)\r\n",
      "Downloading chromadb_client-0.5.20-py3-none-any.whl (615 kB)\r\n",
      "\u001B[2K   \u001B[90m━━━━━━━━━━━━━━━━━━━━━━━━━━━━━━━━━━━━━━━━\u001B[0m \u001B[32m615.9/615.9 kB\u001B[0m \u001B[31m11.4 MB/s\u001B[0m eta \u001B[36m0:00:00\u001B[0m\r\n",
      "\u001B[?25hDownloading e2b-0.17.1-py3-none-any.whl (102 kB)\r\n",
      "Downloading e2b_code_interpreter-0.0.10-py3-none-any.whl (9.9 kB)\r\n",
      "Using cached environs-9.5.0-py2.py3-none-any.whl (12 kB)\r\n",
      "Downloading filetype-1.2.0-py2.py3-none-any.whl (19 kB)\r\n",
      "Downloading google_cloud_aiplatform-1.47.0-py2.py3-none-any.whl (4.8 MB)\r\n",
      "\u001B[2K   \u001B[90m━━━━━━━━━━━━━━━━━━━━━━━━━━━━━━━━━━━━━━━━\u001B[0m \u001B[32m4.8/4.8 MB\u001B[0m \u001B[31m18.4 MB/s\u001B[0m eta \u001B[36m0:00:00\u001B[0ma \u001B[36m0:00:01\u001B[0m\r\n",
      "\u001B[?25hDownloading google_generativeai-0.5.4-py3-none-any.whl (150 kB)\r\n",
      "Downloading google_ai_generativelanguage-0.6.4-py3-none-any.whl (679 kB)\r\n",
      "\u001B[2K   \u001B[90m━━━━━━━━━━━━━━━━━━━━━━━━━━━━━━━━━━━━━━━━\u001B[0m \u001B[32m679.1/679.1 kB\u001B[0m \u001B[31m30.4 MB/s\u001B[0m eta \u001B[36m0:00:00\u001B[0m\r\n",
      "\u001B[?25hDownloading grpcio-1.68.0-cp311-cp311-macosx_10_9_universal2.whl (11.2 MB)\r\n",
      "\u001B[2K   \u001B[90m━━━━━━━━━━━━━━━━━━━━━━━━━━━━━━━━━━━━━━━━\u001B[0m \u001B[32m11.2/11.2 MB\u001B[0m \u001B[31m16.0 MB/s\u001B[0m eta \u001B[36m0:00:00\u001B[0m \u001B[36m0:00:01\u001B[0m\r\n",
      "\u001B[?25hDownloading jsonpath_ng-1.6.1-py3-none-any.whl (29 kB)\r\n",
      "Downloading jsonpickle-3.0.4-py3-none-any.whl (39 kB)\r\n",
      "Downloading litellm-1.46.8-py3-none-any.whl (8.7 MB)\r\n",
      "\u001B[2K   \u001B[90m━━━━━━━━━━━━━━━━━━━━━━━━━━━━━━━━━━━━━━━━\u001B[0m \u001B[32m8.7/8.7 MB\u001B[0m \u001B[31m16.8 MB/s\u001B[0m eta \u001B[36m0:00:00\u001B[0ma \u001B[36m0:00:01\u001B[0m\r\n",
      "\u001B[?25hUsing cached milvus_lite-2.4.10-py3-none-macosx_11_0_arm64.whl (19.9 MB)\r\n",
      "Downloading more_itertools-10.3.0-py3-none-any.whl (59 kB)\r\n",
      "Downloading omegaconf-2.3.0-py3-none-any.whl (79 kB)\r\n",
      "Downloading openai-1.45.1-py3-none-any.whl (374 kB)\r\n",
      "Using cached pandas-2.2.3-cp311-cp311-macosx_11_0_arm64.whl (11.3 MB)\r\n",
      "Downloading pdf2image-1.17.0-py3-none-any.whl (11 kB)\r\n",
      "Downloading pinecone_client-3.2.2-py3-none-any.whl (215 kB)\r\n",
      "Downloading protobuf-4.25.5-cp37-abi3-macosx_10_9_universal2.whl (394 kB)\r\n",
      "Downloading pydantic-2.7.4-py3-none-any.whl (409 kB)\r\n",
      "Downloading pydantic_core-2.18.4-cp311-cp311-macosx_11_0_arm64.whl (1.8 MB)\r\n",
      "\u001B[2K   \u001B[90m━━━━━━━━━━━━━━━━━━━━━━━━━━━━━━━━━━━━━━━━\u001B[0m \u001B[32m1.8/1.8 MB\u001B[0m \u001B[31m31.7 MB/s\u001B[0m eta \u001B[36m0:00:00\u001B[0m\r\n",
      "\u001B[?25hDownloading pypdf-4.3.1-py3-none-any.whl (295 kB)\r\n",
      "Downloading qdrant_client-1.11.3-py3-none-any.whl (258 kB)\r\n",
      "Downloading redis-5.0.8-py3-none-any.whl (255 kB)\r\n",
      "Using cached requests-2.31.0-py3-none-any.whl (62 kB)\r\n",
      "Downloading RestrictedPython-7.1-py3-none-any.whl (26 kB)\r\n",
      "Using cached ujson-5.10.0-cp311-cp311-macosx_11_0_arm64.whl (51 kB)\r\n",
      "Downloading unstructured_client-0.18.0-py3-none-any.whl (21 kB)\r\n",
      "Downloading weaviate_client-4.7.1-py3-none-any.whl (368 kB)\r\n",
      "Downloading validators-0.33.0-py3-none-any.whl (43 kB)\r\n",
      "Downloading aenum-3.1.15-py3-none-any.whl (137 kB)\r\n",
      "Downloading aiohttp-3.11.6-cp311-cp311-macosx_11_0_arm64.whl (454 kB)\r\n",
      "Downloading annotated_types-0.7.0-py3-none-any.whl (13 kB)\r\n",
      "Downloading Authlib-1.3.2-py2.py3-none-any.whl (225 kB)\r\n",
      "Downloading botocore-1.34.162-py3-none-any.whl (12.5 MB)\r\n",
      "\u001B[2K   \u001B[90m━━━━━━━━━━━━━━━━━━━━━━━━━━━━━━━━━━━━━━━━\u001B[0m \u001B[32m12.5/12.5 MB\u001B[0m \u001B[31m18.8 MB/s\u001B[0m eta \u001B[36m0:00:00\u001B[0ma \u001B[36m0:00:01\u001B[0m\r\n",
      "\u001B[?25hUsing cached click-8.1.7-py3-none-any.whl (97 kB)\r\n",
      "Downloading dataclasses_json_speakeasy-0.5.11-py3-none-any.whl (28 kB)\r\n",
      "Using cached distro-1.9.0-py3-none-any.whl (20 kB)\r\n",
      "Downloading docstring_parser-0.16-py3-none-any.whl (36 kB)\r\n",
      "Downloading google_api_core-2.23.0-py3-none-any.whl (156 kB)\r\n",
      "Downloading google_auth-2.36.0-py2.py3-none-any.whl (209 kB)\r\n",
      "Downloading google_cloud_bigquery-3.27.0-py2.py3-none-any.whl (240 kB)\r\n",
      "Downloading google_cloud_resource_manager-1.13.1-py2.py3-none-any.whl (358 kB)\r\n",
      "Downloading google_cloud_storage-2.18.2-py2.py3-none-any.whl (130 kB)\r\n",
      "Downloading grpcio_health_checking-1.62.3-py3-none-any.whl (18 kB)\r\n",
      "Downloading grpcio_tools-1.62.3-cp311-cp311-macosx_10_10_universal2.whl (5.1 MB)\r\n",
      "\u001B[2K   \u001B[90m━━━━━━━━━━━━━━━━━━━━━━━━━━━━━━━━━━━━━━━━\u001B[0m \u001B[32m5.1/5.1 MB\u001B[0m \u001B[31m23.0 MB/s\u001B[0m eta \u001B[36m0:00:00\u001B[0ma \u001B[36m0:00:01\u001B[0m\r\n",
      "\u001B[?25hDownloading jiter-0.7.1-cp311-cp311-macosx_11_0_arm64.whl (303 kB)\r\n",
      "Downloading jmespath-1.0.1-py3-none-any.whl (20 kB)\r\n",
      "Downloading jsonpath_python-1.0.6-py3-none-any.whl (7.6 kB)\r\n",
      "Downloading jsonrpcclient-4.0.3-py3-none-any.whl (7.0 kB)\r\n",
      "Downloading lxml-5.3.0-cp311-cp311-macosx_10_9_universal2.whl (8.1 MB)\r\n",
      "\u001B[2K   \u001B[90m━━━━━━━━━━━━━━━━━━━━━━━━━━━━━━━━━━━━━━━━\u001B[0m \u001B[32m8.1/8.1 MB\u001B[0m \u001B[31m17.1 MB/s\u001B[0m eta \u001B[36m0:00:00\u001B[0ma \u001B[36m0:00:01\u001B[0m\r\n",
      "\u001B[?25hDownloading marshmallow-3.23.1-py3-none-any.whl (49 kB)\r\n",
      "Using cached mypy_extensions-1.0.0-py3-none-any.whl (4.7 kB)\r\n",
      "Using cached numpy-1.26.4-cp311-cp311-macosx_11_0_arm64.whl (14.0 MB)\r\n",
      "Downloading opentelemetry_exporter_otlp_proto_grpc-1.27.0-py3-none-any.whl (18 kB)\r\n",
      "Downloading opentelemetry_proto-1.27.0-py3-none-any.whl (52 kB)\r\n",
      "Downloading opentelemetry_exporter_otlp_proto_common-1.27.0-py3-none-any.whl (17 kB)\r\n",
      "Downloading opentelemetry_sdk-1.27.0-py3-none-any.whl (110 kB)\r\n",
      "Downloading opentelemetry_api-1.27.0-py3-none-any.whl (63 kB)\r\n",
      "Downloading opentelemetry_semantic_conventions-0.48b0-py3-none-any.whl (149 kB)\r\n",
      "Downloading importlib_metadata-8.4.0-py3-none-any.whl (26 kB)\r\n",
      "Downloading orjson-3.10.11-cp311-cp311-macosx_10_15_x86_64.macosx_11_0_arm64.macosx_10_15_universal2.whl (266 kB)\r\n",
      "Using cached pathspec-0.12.1-py3-none-any.whl (31 kB)\r\n",
      "Downloading pillow-11.0.0-cp311-cp311-macosx_11_0_arm64.whl (3.0 MB)\r\n",
      "\u001B[2K   \u001B[90m━━━━━━━━━━━━━━━━━━━━━━━━━━━━━━━━━━━━━━━━\u001B[0m \u001B[32m3.0/3.0 MB\u001B[0m \u001B[31m26.1 MB/s\u001B[0m eta \u001B[36m0:00:00\u001B[0m\r\n",
      "\u001B[?25hDownloading portalocker-2.10.1-py3-none-any.whl (18 kB)\r\n",
      "Downloading posthog-3.7.2-py2.py3-none-any.whl (54 kB)\r\n",
      "Downloading proto_plus-1.25.0-py3-none-any.whl (50 kB)\r\n",
      "Using cached python_dotenv-1.0.1-py3-none-any.whl (19 kB)\r\n",
      "Downloading s3transfer-0.10.3-py3-none-any.whl (82 kB)\r\n",
      "Downloading shapely-2.0.6-cp311-cp311-macosx_11_0_arm64.whl (1.3 MB)\r\n",
      "\u001B[2K   \u001B[90m━━━━━━━━━━━━━━━━━━━━━━━━━━━━━━━━━━━━━━━━\u001B[0m \u001B[32m1.3/1.3 MB\u001B[0m \u001B[31m30.5 MB/s\u001B[0m eta \u001B[36m0:00:00\u001B[0m\r\n",
      "\u001B[?25hDownloading tenacity-9.0.0-py3-none-any.whl (28 kB)\r\n",
      "Downloading tiktoken-0.8.0-cp311-cp311-macosx_11_0_arm64.whl (982 kB)\r\n",
      "\u001B[2K   \u001B[90m━━━━━━━━━━━━━━━━━━━━━━━━━━━━━━━━━━━━━━━━\u001B[0m \u001B[32m982.4/982.4 kB\u001B[0m \u001B[31m17.4 MB/s\u001B[0m eta \u001B[36m0:00:00\u001B[0m\r\n",
      "\u001B[?25hDownloading tqdm-4.67.0-py3-none-any.whl (78 kB)\r\n",
      "Downloading typing_inspect-0.9.0-py3-none-any.whl (8.8 kB)\r\n",
      "Using cached tzdata-2024.2-py2.py3-none-any.whl (346 kB)\r\n",
      "Downloading websockets-14.1-cp311-cp311-macosx_11_0_arm64.whl (159 kB)\r\n",
      "Downloading XlsxWriter-3.2.0-py3-none-any.whl (159 kB)\r\n",
      "Downloading google_api_python_client-2.153.0-py2.py3-none-any.whl (12.6 MB)\r\n",
      "\u001B[2K   \u001B[90m━━━━━━━━━━━━━━━━━━━━━━━━━━━━━━━━━━━━━━━━\u001B[0m \u001B[32m12.6/12.6 MB\u001B[0m \u001B[31m18.2 MB/s\u001B[0m eta \u001B[36m0:00:00\u001B[0ma \u001B[36m0:00:01\u001B[0m\r\n",
      "\u001B[?25hDownloading tokenizers-0.20.3-cp311-cp311-macosx_11_0_arm64.whl (2.6 MB)\r\n",
      "\u001B[2K   \u001B[90m━━━━━━━━━━━━━━━━━━━━━━━━━━━━━━━━━━━━━━━━\u001B[0m \u001B[32m2.6/2.6 MB\u001B[0m \u001B[31m14.3 MB/s\u001B[0m eta \u001B[36m0:00:00\u001B[0m\r\n",
      "\u001B[?25hDownloading aiohappyeyeballs-2.4.3-py3-none-any.whl (14 kB)\r\n",
      "Using cached aiosignal-1.3.1-py3-none-any.whl (7.6 kB)\r\n",
      "Downloading backoff-2.2.1-py3-none-any.whl (15 kB)\r\n",
      "Downloading cachetools-5.5.0-py3-none-any.whl (9.5 kB)\r\n",
      "Downloading Deprecated-1.2.15-py2.py3-none-any.whl (9.9 kB)\r\n",
      "Downloading frozenlist-1.5.0-cp311-cp311-macosx_11_0_arm64.whl (52 kB)\r\n",
      "Using cached google_auth_httplib2-0.2.0-py2.py3-none-any.whl (9.3 kB)\r\n",
      "Using cached google_cloud_core-2.4.1-py2.py3-none-any.whl (29 kB)\r\n",
      "Downloading google_crc32c-1.6.0-cp311-cp311-macosx_12_0_arm64.whl (30 kB)\r\n",
      "Downloading google_resumable_media-2.7.2-py2.py3-none-any.whl (81 kB)\r\n",
      "Downloading googleapis_common_protos-1.66.0-py2.py3-none-any.whl (221 kB)\r\n",
      "Downloading grpc_google_iam_v1-0.13.1-py2.py3-none-any.whl (24 kB)\r\n",
      "Downloading grpcio_status-1.62.3-py3-none-any.whl (14 kB)\r\n",
      "Downloading h2-4.1.0-py3-none-any.whl (57 kB)\r\n",
      "Using cached httplib2-0.22.0-py3-none-any.whl (96 kB)\r\n",
      "Downloading huggingface_hub-0.26.2-py3-none-any.whl (447 kB)\r\n",
      "Using cached monotonic-1.6-py2.py3-none-any.whl (8.2 kB)\r\n",
      "Downloading multidict-6.1.0-cp311-cp311-macosx_11_0_arm64.whl (29 kB)\r\n",
      "Downloading propcache-0.2.0-cp311-cp311-macosx_11_0_arm64.whl (45 kB)\r\n",
      "Downloading pyasn1_modules-0.4.1-py3-none-any.whl (181 kB)\r\n",
      "Downloading regex-2024.11.6-cp311-cp311-macosx_11_0_arm64.whl (284 kB)\r\n",
      "Using cached rsa-4.9-py3-none-any.whl (34 kB)\r\n",
      "Using cached uritemplate-4.1.1-py2.py3-none-any.whl (10 kB)\r\n",
      "Downloading yarl-1.17.2-cp311-cp311-macosx_11_0_arm64.whl (91 kB)\r\n",
      "Using cached zipp-3.21.0-py3-none-any.whl (9.6 kB)\r\n",
      "Downloading cryptography-43.0.3-cp39-abi3-macosx_10_9_universal2.whl (6.2 MB)\r\n",
      "\u001B[2K   \u001B[90m━━━━━━━━━━━━━━━━━━━━━━━━━━━━━━━━━━━━━━━━\u001B[0m \u001B[32m6.2/6.2 MB\u001B[0m \u001B[31m18.6 MB/s\u001B[0m eta \u001B[36m0:00:00\u001B[0ma \u001B[36m0:00:01\u001B[0m\r\n",
      "\u001B[?25hDownloading fsspec-2024.10.0-py3-none-any.whl (179 kB)\r\n",
      "Downloading hpack-4.0.0-py3-none-any.whl (32 kB)\r\n",
      "Downloading hyperframe-6.0.1-py3-none-any.whl (12 kB)\r\n",
      "Downloading pyasn1-0.6.1-py3-none-any.whl (83 kB)\r\n",
      "Downloading pyparsing-3.2.0-py3-none-any.whl (106 kB)\r\n",
      "Downloading wrapt-1.16.0-cp311-cp311-macosx_11_0_arm64.whl (38 kB)\r\n",
      "Using cached filelock-3.16.1-py3-none-any.whl (16 kB)\r\n",
      "Installing collected packages: monotonic, filetype, antlr4-python3-runtime, aenum, zipp, XlsxWriter, wrapt, websockets, validators, uritemplate, ujson, tzdata, tqdm, tenacity, RestrictedPython, requests, regex, redis, python-dotenv, pypdf, pyparsing, pydantic-core, pyasn1, protobuf, propcache, portalocker, Pillow, pathspec, orjson, omegaconf, numpy, mypy-extensions, multidict, more-itertools, marshmallow, lxml, jsonrpcclient, jsonpickle, jsonpath-python, jsonpath-ng, jmespath, jiter, hyperframe, hpack, grpcio, google-crc32c, fsspec, frozenlist, filelock, docstring-parser, distro, click, cachetools, backoff, annotated-types, aiohappyeyeballs, yarl, typing-inspect, tiktoken, shapely, rsa, python-pptx, pydantic, pyasn1-modules, proto-plus, posthog, pinecone-client, pdf2image, pandas, opentelemetry-proto, milvus-lite, importlib-metadata, huggingface-hub, httplib2, h2, grpcio-tools, grpcio-health-checking, googleapis-common-protos, google-resumable-media, environs, deprecated, cryptography, botocore, black, aiosignal, tokenizers, s3transfer, pymilvus, opentelemetry-exporter-otlp-proto-common, opentelemetry-api, openai, grpcio-status, google-auth, dataclasses-json-speakeasy, authlib, aiohttp, weaviate-client, unstructured-client, qdrant-client, opentelemetry-semantic-conventions, litellm, grpc-google-iam-v1, google-auth-httplib2, google-api-core, e2b, boto3, opentelemetry-sdk, google-cloud-core, google-api-python-client, e2b-code-interpreter, opentelemetry-exporter-otlp-proto-grpc, google-cloud-storage, google-cloud-resource-manager, google-cloud-bigquery, google-ai-generativelanguage, google-generativeai, google-cloud-aiplatform, chromadb-client, dynamiq\r\n",
      "  Attempting uninstall: requests\r\n",
      "    Found existing installation: requests 2.32.3\r\n",
      "    Uninstalling requests-2.32.3:\r\n",
      "      Successfully uninstalled requests-2.32.3\r\n",
      "Successfully installed Pillow-11.0.0 RestrictedPython-7.1 XlsxWriter-3.2.0 aenum-3.1.15 aiohappyeyeballs-2.4.3 aiohttp-3.11.6 aiosignal-1.3.1 annotated-types-0.7.0 antlr4-python3-runtime-4.9.3 authlib-1.3.2 backoff-2.2.1 black-24.8.0 boto3-1.34.162 botocore-1.34.162 cachetools-5.5.0 chromadb-client-0.5.20 click-8.1.7 cryptography-43.0.3 dataclasses-json-speakeasy-0.5.11 deprecated-1.2.15 distro-1.9.0 docstring-parser-0.16 dynamiq-0.4.1 e2b-0.17.1 e2b-code-interpreter-0.0.10 environs-9.5.0 filelock-3.16.1 filetype-1.2.0 frozenlist-1.5.0 fsspec-2024.10.0 google-ai-generativelanguage-0.6.4 google-api-core-2.23.0 google-api-python-client-2.153.0 google-auth-2.36.0 google-auth-httplib2-0.2.0 google-cloud-aiplatform-1.47.0 google-cloud-bigquery-3.27.0 google-cloud-core-2.4.1 google-cloud-resource-manager-1.13.1 google-cloud-storage-2.18.2 google-crc32c-1.6.0 google-generativeai-0.5.4 google-resumable-media-2.7.2 googleapis-common-protos-1.66.0 grpc-google-iam-v1-0.13.1 grpcio-1.68.0 grpcio-health-checking-1.62.3 grpcio-status-1.62.3 grpcio-tools-1.62.3 h2-4.1.0 hpack-4.0.0 httplib2-0.22.0 huggingface-hub-0.26.2 hyperframe-6.0.1 importlib-metadata-8.4.0 jiter-0.7.1 jmespath-1.0.1 jsonpath-ng-1.6.1 jsonpath-python-1.0.6 jsonpickle-3.0.4 jsonrpcclient-4.0.3 litellm-1.46.8 lxml-5.3.0 marshmallow-3.23.1 milvus-lite-2.4.10 monotonic-1.6 more-itertools-10.3.0 multidict-6.1.0 mypy-extensions-1.0.0 numpy-1.26.4 omegaconf-2.3.0 openai-1.45.1 opentelemetry-api-1.27.0 opentelemetry-exporter-otlp-proto-common-1.27.0 opentelemetry-exporter-otlp-proto-grpc-1.27.0 opentelemetry-proto-1.27.0 opentelemetry-sdk-1.27.0 opentelemetry-semantic-conventions-0.48b0 orjson-3.10.11 pandas-2.2.3 pathspec-0.12.1 pdf2image-1.17.0 pinecone-client-3.2.2 portalocker-2.10.1 posthog-3.7.2 propcache-0.2.0 proto-plus-1.25.0 protobuf-4.25.5 pyasn1-0.6.1 pyasn1-modules-0.4.1 pydantic-2.7.4 pydantic-core-2.18.4 pymilvus-2.4.9 pyparsing-3.2.0 pypdf-4.3.1 python-dotenv-1.0.1 python-pptx-1.0.2 qdrant-client-1.11.3 redis-5.0.8 regex-2024.11.6 requests-2.31.0 rsa-4.9 s3transfer-0.10.3 shapely-2.0.6 tenacity-9.0.0 tiktoken-0.8.0 tokenizers-0.20.3 tqdm-4.67.0 typing-inspect-0.9.0 tzdata-2024.2 ujson-5.10.0 unstructured-client-0.18.0 uritemplate-4.1.1 validators-0.33.0 weaviate-client-4.7.1 websockets-14.1 wrapt-1.16.0 yarl-1.17.2 zipp-3.21.0\r\n"
     ]
    }
   ],
   "source": [
    "! pip install dynamiq pymilvus\n"
   ],
   "metadata": {
    "collapsed": false,
    "ExecuteTime": {
     "end_time": "2024-11-20T02:21:25.544822Z",
     "start_time": "2024-11-20T02:20:41.221804Z"
    }
   },
   "id": "82bdf922095fd55b",
   "execution_count": 1
  },
  {
   "cell_type": "markdown",
   "source": [
    "> If you are using Google Colab, to enable dependencies just installed, you may need to **restart the runtime** (click on the \"Runtime\" menu at the top of the screen, and select \"Restart session\" from the dropdown menu)."
   ],
   "metadata": {
    "collapsed": false
   },
   "id": "59c95741251895fe"
  },
  {
   "cell_type": "markdown",
   "source": [
    "### Configure the LLM agent\n",
    "\n",
    "We will use OpenAI as the LLM in this example. You should prepare the [api key](https://platform.openai.com/docs/quickstart) `OPENAI_API_KEY` as an environment variable.\n"
   ],
   "metadata": {
    "collapsed": false
   },
   "id": "38e2801395f2273d"
  },
  {
   "cell_type": "code",
   "outputs": [],
   "source": [
    "import os\n",
    "\n",
    "os.environ[\"OPENAI_API_KEY\"] = \"sk-***********\""
   ],
   "metadata": {
    "collapsed": false,
    "ExecuteTime": {
     "end_time": "2024-11-20T02:24:22.962495Z",
     "start_time": "2024-11-20T02:24:22.955589Z"
    }
   },
   "id": "b21542ec470b7f5a",
   "execution_count": 15
  },
  {
   "cell_type": "markdown",
   "source": [
    "## RAG - Document Indexing Flow\n",
    "\n",
    "This tutorial demonstrates a Retrieval-Augmented Generation (RAG) workflow for indexing documents with Milvus as the vector database. The workflow takes input PDF files, processes them into smaller chunks, generates vector embeddings using OpenAI's embedding model, and stores the embeddings in a Milvus collection for efficient retrieval.\n",
    "\n",
    "By the end of this workflow, you will have a scalable and efficient document indexing system that supports future RAG tasks like semantic search and question answering."
   ],
   "metadata": {
    "collapsed": false
   },
   "id": "dc932e415c8f00a7"
  },
  {
   "cell_type": "markdown",
   "source": [
    "### Import Required Libraries and Initialize Workflow"
   ],
   "metadata": {
    "collapsed": false
   },
   "id": "34fbf9e90c227bcb"
  },
  {
   "cell_type": "code",
   "execution_count": 16,
   "id": "initial_id",
   "metadata": {
    "collapsed": true,
    "ExecuteTime": {
     "end_time": "2024-11-20T02:24:24.350345Z",
     "start_time": "2024-11-20T02:24:24.346665Z"
    }
   },
   "outputs": [],
   "source": [
    "# Importing necessary libraries for the workflow\n",
    "from io import BytesIO\n",
    "from dynamiq import Workflow\n",
    "from dynamiq.nodes import InputTransformer\n",
    "from dynamiq.connections import OpenAI as OpenAIConnection, Milvus as MilvusConnection, MilvusDeploymentType\n",
    "from dynamiq.nodes.converters import PyPDFConverter\n",
    "from dynamiq.nodes.splitters.document import DocumentSplitter\n",
    "from dynamiq.nodes.embedders import OpenAIDocumentEmbedder\n",
    "from dynamiq.nodes.writers import MilvusDocumentWriter\n",
    "\n",
    "# Initialize the workflow\n",
    "rag_wf = Workflow()\n"
   ]
  },
  {
   "cell_type": "markdown",
   "source": [
    "### Define PDF Converter Node"
   ],
   "metadata": {
    "collapsed": false
   },
   "id": "808a4ba11a5c65e7"
  },
  {
   "cell_type": "code",
   "outputs": [],
   "source": [
    "converter = PyPDFConverter(document_creation_mode=\"one-doc-per-page\")\n",
    "rag_wf.flow.add_nodes(converter)  # Add node to the DAG (Directed Acyclic Graph)\n"
   ],
   "metadata": {
    "collapsed": false
   },
   "id": "c7406f09f125695c",
   "execution_count": null
  },
  {
   "cell_type": "markdown",
   "source": [
    "### Define Document Splitter Node"
   ],
   "metadata": {
    "collapsed": false
   },
   "id": "13b5959b723534b8"
  },
  {
   "cell_type": "code",
   "outputs": [],
   "source": [
    "document_splitter = DocumentSplitter(\n",
    "    split_by=\"sentence\",  # Splits documents into sentences\n",
    "    split_length=10,      \n",
    "    split_overlap=1,      \n",
    "    input_transformer=InputTransformer(\n",
    "        selector={\n",
    "            \"documents\": f\"${[converter.id]}.output.documents\", \n",
    "        },\n",
    "    ),\n",
    ").depends_on(converter)  # Set dependency on the PDF converter\n",
    "rag_wf.flow.add_nodes(document_splitter)  # Add to the DAG\n"
   ],
   "metadata": {
    "collapsed": false
   },
   "id": "13085207a0f67a9b",
   "execution_count": null
  },
  {
   "cell_type": "markdown",
   "source": [
    "### Define Embedding Node"
   ],
   "metadata": {
    "collapsed": false
   },
   "id": "cde92302e3e22c77"
  },
  {
   "cell_type": "code",
   "outputs": [],
   "source": [
    "embedder = OpenAIDocumentEmbedder(\n",
    "    connection=OpenAIConnection(api_key=os.environ[\"OPENAI_API_KEY\"]),  \n",
    "    input_transformer=InputTransformer(\n",
    "        selector={\n",
    "            \"documents\": f\"${[document_splitter.id]}.output.documents\",  \n",
    "        },\n",
    "    ),\n",
    ").depends_on(document_splitter)  # Set dependency on the splitter\n",
    "rag_wf.flow.add_nodes(embedder)  # Add to the DAG\n"
   ],
   "metadata": {
    "collapsed": false
   },
   "id": "441d5a0746540497",
   "execution_count": null
  },
  {
   "cell_type": "markdown",
   "source": [
    "### Define Milvus Vector Store Node"
   ],
   "metadata": {
    "collapsed": false
   },
   "id": "3c2d4ad79cfa7254"
  },
  {
   "cell_type": "code",
   "outputs": [],
   "source": [
    "vector_store = (\n",
    "    MilvusDocumentWriter(\n",
    "        connection=MilvusConnection(deployment_type=MilvusDeploymentType.FILE, uri=\"./milvus.db\"),\n",
    "        index_name=\"my_milvus_collection\",  \n",
    "        dimension=1536,  \n",
    "        create_if_not_exist=True, \n",
    "        metric_type=\"COSINE\"  \n",
    "    )\n",
    "    .inputs(documents=embedder.outputs.documents)  # Connect to embedder output\n",
    "    .depends_on(embedder)  # Set dependency on the embedder\n",
    ")\n",
    "rag_wf.flow.add_nodes(vector_store)  # Add to the DAG\n"
   ],
   "metadata": {
    "collapsed": false
   },
   "id": "49d19a8f959e81f1",
   "execution_count": null
  },
  {
   "cell_type": "markdown",
   "source": [
    "> # Milvus Deployment Types\n",
    ">\n",
    "> Milvus offers two deployment types, catering to different use cases:\n",
    ">\n",
    ">\n",
    "> ## 1. **MilvusDeploymentType.FILE**\n",
    ">\n",
    "> - Ideal for **local prototyping** or **small-scale data** storage.\n",
    "> - Set the `uri` to a local file path (e.g., `./milvus.db`) to leverage [Milvus Lite](https://milvus.io/docs/milvus_lite.md), which automatically stores all data in the specified file.\n",
    "> - This is a convenient option for **quick setup** and **experimentation**.\n",
    ">\n",
    ">\n",
    "> ## 2. **MilvusDeploymentType.HOST**\n",
    ">\n",
    "> - Designed for **large-scale data** scenarios, such as managing over a million vectors.\n",
    ">\n",
    "> ### **Self-Hosted Server**\n",
    "> - Deploy a high-performance Milvus server using [Docker or Kubernetes](https://milvus.io/docs/quickstart.md).\n",
    "> - Configure the server’s address and port as the `uri` (e.g., `http://localhost:19530`).\n",
    "> - If authentication is enabled:\n",
    ">   - Provide `<your_username>:<your_password>` as the `token`.\n",
    "> - If authentication is disabled:\n",
    ">   - Leave the `token` unset.\n",
    ">\n",
    "> ### **Zilliz Cloud (Managed Service)**\n",
    "> - For a fully managed, cloud-based Milvus experience, use [Zilliz Cloud](https://zilliz.com/cloud).\n",
    "> - Set the `uri` and `token` according to the [Public Endpoint and API key](https://docs.zilliz.com/docs/on-zilliz-cloud-console#cluster-details) provided in the Zilliz Cloud console."
   ],
   "metadata": {
    "collapsed": false
   },
   "id": "2e00a00b250c7f02"
  },
  {
   "cell_type": "markdown",
   "source": [
    "### Define Input Data and Run the Workflow"
   ],
   "metadata": {
    "collapsed": false
   },
   "id": "ad82067568805962"
  },
  {
   "cell_type": "code",
   "outputs": [],
   "source": [
    "file_paths = [\"./pdf_files/WhatisMilvus.pdf\"]\n",
    "input_data = {\n",
    "    \"files\": [\n",
    "        BytesIO(open(path, \"rb\").read()) for path in file_paths \n",
    "    ],\n",
    "    \"metadata\": [\n",
    "        {\"filename\": path} for path in file_paths  \n",
    "    ],\n",
    "}\n",
    "\n",
    "# Run the workflow with the prepared input data\n",
    "rag_wf.run(input_data=input_data)\n"
   ],
   "metadata": {
    "collapsed": false
   },
   "id": "99e53f536d7b5274",
   "execution_count": null
  },
  {
   "cell_type": "markdown",
   "source": [
    "Through this workflow, we have successfully implemented a document indexing pipeline using Milvus as the vector database and OpenAI's embedding model for semantic representation. This setup enables fast and accurate vector-based retrieval, forming the foundation for RAG workflows like semantic search, document retrieval, and contextual AI-driven interactions.\n",
    "\n",
    "With Milvus's scalable storage capabilities and Dynamiq's orchestration, this solution is ready for both prototyping and large-scale production deployments. You can now extend this pipeline to include additional tasks like retrieval-based question answering or AI-driven content generation."
   ],
   "metadata": {
    "collapsed": false
   },
   "id": "b3fa6c0cdf9906ab"
  },
  {
   "cell_type": "markdown",
   "source": [
    "## RAG Document Retrieval Flow\n",
    "\n",
    "In this tutorial, we implement a Retrieval-Augmented Generation (RAG) document retrieval workflow. This workflow takes a user query, generates a vector embedding for it, retrieves the most relevant documents from a Milvus vector database, and uses a large language model (LLM) to generate a detailed and context-aware answer based on the retrieved documents.\n",
    "\n",
    "By following this workflow, you will create an end-to-end solution for semantic search and question answering, combining the power of vector-based document retrieval with the capabilities of OpenAI’s advanced LLMs. This approach enables efficient and intelligent responses to user queries by leveraging the stored knowledge in your document database."
   ],
   "metadata": {
    "collapsed": false
   },
   "id": "945e58305b89d696"
  },
  {
   "cell_type": "markdown",
   "source": [
    "### Import Required Libraries and Initialize Workflow"
   ],
   "metadata": {
    "collapsed": false
   },
   "id": "1083f8e11a0b6ce7"
  },
  {
   "cell_type": "code",
   "outputs": [],
   "source": [
    "from dynamiq import Workflow\n",
    "from dynamiq.connections import OpenAI as OpenAIConnection, Milvus as MilvusConnection, MilvusDeploymentType\n",
    "from dynamiq.nodes.embedders import OpenAITextEmbedder\n",
    "from dynamiq.nodes.retrievers import MilvusDocumentRetriever\n",
    "from dynamiq.nodes.llms import OpenAI\n",
    "from dynamiq.prompts import Message, Prompt\n",
    "\n",
    "# Initialize the workflow\n",
    "retrieval_wf = Workflow()\n"
   ],
   "metadata": {
    "collapsed": false,
    "ExecuteTime": {
     "end_time": "2024-11-20T02:24:30.178036Z",
     "start_time": "2024-11-20T02:24:30.145675Z"
    }
   },
   "id": "baa49fec5d55f96d",
   "execution_count": 22
  },
  {
   "cell_type": "markdown",
   "source": [
    "### Define OpenAI Connection and Text Embedder"
   ],
   "metadata": {
    "collapsed": false
   },
   "id": "f1cd8035d05e713f"
  },
  {
   "cell_type": "code",
   "outputs": [],
   "source": [
    "# Establish OpenAI connection\n",
    "openai_connection = OpenAIConnection(api_key=os.environ[\"OPENAI_API_KEY\"])\n",
    "\n",
    "# Define the text embedder node\n",
    "embedder = OpenAITextEmbedder(\n",
    "    connection=openai_connection,\n",
    "    model=\"text-embedding-3-small\",  \n",
    ")\n",
    "\n",
    "# Add the embedder node to the workflow\n",
    "retrieval_wf.flow.add_nodes(embedder)\n"
   ],
   "metadata": {
    "collapsed": false
   },
   "id": "ec1ca65ca47b05ed",
   "execution_count": null
  },
  {
   "cell_type": "markdown",
   "source": [
    "### Define Milvus Document Retriever"
   ],
   "metadata": {
    "collapsed": false
   },
   "id": "86a8dcb5193d0c25"
  },
  {
   "cell_type": "code",
   "outputs": [],
   "source": [
    "document_retriever = (\n",
    "    MilvusDocumentRetriever(\n",
    "        connection=MilvusConnection(\n",
    "            deployment_type=MilvusDeploymentType.FILE,\n",
    "            uri=\"./milvus.db\"  \n",
    "        ),\n",
    "        index_name=\"my_milvus_collection\",  \n",
    "        dimension=1536, \n",
    "        top_k=5, \n",
    "    )\n",
    "    .inputs(embedding=embedder.outputs.embedding)  # Connect to embedder output\n",
    "    .depends_on(embedder)  # Dependency on the embedder node\n",
    ")\n",
    "\n",
    "# Add the retriever node to the workflow\n",
    "retrieval_wf.flow.add_nodes(document_retriever)\n"
   ],
   "metadata": {
    "collapsed": false
   },
   "id": "8678b57edb214fba",
   "execution_count": null
  },
  {
   "cell_type": "markdown",
   "source": [
    "###  Define the Prompt Template"
   ],
   "metadata": {
    "collapsed": false
   },
   "id": "72d314d217c9879e"
  },
  {
   "cell_type": "code",
   "outputs": [],
   "source": [
    "# Define the prompt template for the LLM\n",
    "prompt_template = \"\"\"\n",
    "Please answer the question based on the provided context.\n",
    "\n",
    "Question: {{ query }}\n",
    "\n",
    "Context:\n",
    "{% for document in documents %}\n",
    "- {{ document.content }}\n",
    "{% endfor %}\n",
    "\"\"\"\n",
    "\n",
    "# Create the prompt object\n",
    "prompt = Prompt(messages=[Message(content=prompt_template, role=\"user\")])\n"
   ],
   "metadata": {
    "collapsed": false,
    "ExecuteTime": {
     "end_time": "2024-11-20T02:24:33.666448Z",
     "start_time": "2024-11-20T02:24:33.662766Z"
    }
   },
   "id": "d945959c4b8a9eb2",
   "execution_count": 25
  },
  {
   "cell_type": "markdown",
   "source": [
    "### Define the Answer Generator\n"
   ],
   "metadata": {
    "collapsed": false
   },
   "id": "a55e4885ab22e31d"
  },
  {
   "cell_type": "code",
   "outputs": [],
   "source": [
    "answer_generator = (\n",
    "    OpenAI(\n",
    "        connection=openai_connection,\n",
    "        model=\"gpt-4o\",  \n",
    "        prompt=prompt, \n",
    "    )\n",
    "    .inputs(\n",
    "        documents=document_retriever.outputs.documents,  \n",
    "        query=embedder.outputs.query,  \n",
    "    )\n",
    "    .depends_on([document_retriever, embedder])  # Dependencies on retriever and embedder\n",
    ")\n",
    "\n",
    "# Add the answer generator node to the workflow\n",
    "retrieval_wf.flow.add_nodes(answer_generator)\n"
   ],
   "metadata": {
    "collapsed": false
   },
   "id": "7bf82309937abf31",
   "execution_count": null
  },
  {
   "cell_type": "markdown",
   "source": [
    "### Run the Workflow"
   ],
   "metadata": {
    "collapsed": false
   },
   "id": "81495d9e624282ac"
  },
  {
   "cell_type": "code",
   "outputs": [
    {
     "name": "stderr",
     "output_type": "stream",
     "text": [
      "2024-11-19 21:24:35 - INFO - Workflow 6776bf57-6268-4f25-8ba1-3b31c5dd5ba7: execution started.\n",
      "2024-11-19 21:24:35 - INFO - Flow 250ce928-69e7-4fc0-bd01-36da6c98d664: execution started.\n",
      "2024-11-19 21:24:35 - INFO - Node OpenAITextEmbedder - c6baa96d-ca9c-48db-be2b-5edf82beaba3: execution started.\n",
      "2024-11-19 21:24:35 - INFO - HTTP Request: POST https://api.openai.com/v1/embeddings \"HTTP/1.1 200 OK\"\n",
      "2024-11-19 21:24:35 - INFO - Node OpenAITextEmbedder - c6baa96d-ca9c-48db-be2b-5edf82beaba3: execution succeeded in 349ms.\n",
      "2024-11-19 21:24:35 - INFO - Node MilvusDocumentRetriever - 16db67fc-c669-4473-9e9d-5454ee3575cf: execution started.\n",
      "2024-11-19 21:24:35 - INFO - Node MilvusDocumentRetriever - 16db67fc-c669-4473-9e9d-5454ee3575cf: execution succeeded in 17ms.\n",
      "2024-11-19 21:24:35 - INFO - Node LLM - 2d4cda84-dc73-4fe7-a420-aeddc9f6c3fc: execution started.\n",
      "2024-11-19 21:24:38 - INFO - HTTP Request: POST https://api.openai.com/v1/chat/completions \"HTTP/1.1 200 OK\"\n",
      "2024-11-19 21:24:38 - INFO - Node LLM - 2d4cda84-dc73-4fe7-a420-aeddc9f6c3fc: execution succeeded in 2.8s.\n",
      "2024-11-19 21:24:38 - INFO - Flow 250ce928-69e7-4fc0-bd01-36da6c98d664: execution succeeded in 3.2s.\n",
      "2024-11-19 21:24:38 - INFO - Workflow 6776bf57-6268-4f25-8ba1-3b31c5dd5ba7: execution succeeded in 3.2s.\n"
     ]
    },
    {
     "name": "stdout",
     "output_type": "stream",
     "text": [
      "The advanced search algorithms in Milvus include a wide range of in-memory and on-disk indexing/search algorithms such as IVF (Inverted File), HNSW (Hierarchical Navigable Small World), and DiskANN. These algorithms have been deeply optimized to deliver high performance, with Milvus reportedly achieving 30%-70% better performance compared to popular implementations like FAISS and HNSWLib. These optimizations are part of Milvus's hardware-aware design, which leverages various hardware architectures and platforms to enhance search efficiency.\n"
     ]
    }
   ],
   "source": [
    "# Run the workflow with a sample query\n",
    "sample_query = \"What is the Advanced Search Algorithms in Milvus?\"\n",
    "\n",
    "result = retrieval_wf.run(input_data={\"query\": sample_query})\n",
    "\n",
    "answer = result.output.get(answer_generator.id).get(\"output\", {}).get(\"content\")\n",
    "print(answer)"
   ],
   "metadata": {
    "collapsed": false,
    "ExecuteTime": {
     "end_time": "2024-11-20T02:24:38.830034Z",
     "start_time": "2024-11-20T02:24:35.626078Z"
    }
   },
   "id": "2b0de8620a3079a",
   "execution_count": 27
  },
  {
   "cell_type": "markdown",
   "source": [
    "This RAG document retrieval workflow effectively combines state-of-the-art technologies for query understanding, document retrieval, and natural language generation. By embedding queries, retrieving contextually relevant documents, and generating insightful answers, this workflow enables intelligent and context-aware interactions. This workflow can be extended to handle complex multi-document queries, knowledge-based systems, and intelligent assistants, making it a foundational building block for advanced AI applications."
   ],
   "metadata": {
    "collapsed": false
   },
   "id": "969bf96ad89b4f65"
  },
  {
   "cell_type": "code",
   "outputs": [],
   "source": [],
   "metadata": {
    "collapsed": false
   },
   "id": "34e2e7c0bcaf1158"
  }
 ],
 "metadata": {
  "kernelspec": {
   "display_name": "Python 3",
   "language": "python",
   "name": "python3"
  },
  "language_info": {
   "codemirror_mode": {
    "name": "ipython",
    "version": 2
   },
   "file_extension": ".py",
   "mimetype": "text/x-python",
   "name": "python",
   "nbconvert_exporter": "python",
   "pygments_lexer": "ipython2",
   "version": "2.7.6"
  }
 },
 "nbformat": 4,
 "nbformat_minor": 5
}

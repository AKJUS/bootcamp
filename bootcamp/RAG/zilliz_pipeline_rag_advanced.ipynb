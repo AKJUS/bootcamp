{
 "cells": [
  {
   "cell_type": "markdown",
   "metadata": {
    "collapsed": false,
    "pycharm": {
     "name": "#%% md\n"
    }
   },
   "source": [
    "# Dive deep into using Zilliz Cloud Pipelines\n",
    "In the previous [notebook](./zilliz_pipeline_rag.ipynb), we have learned the basic of Zilliz Cloud Pipelines. In this notebook, we will encapsulate common RESTful calls into some classes，which can simplify the code. We focus on how to use the Pipeline function and show an example of using RAG application by filtering different knowledge sources."
   ]
  },
  {
   "cell_type": "markdown",
   "metadata": {
    "collapsed": false,
    "pycharm": {
     "name": "#%% md\n"
    }
   },
   "source": [
    "## Setup\n",
    "### Prerequisites\n",
    "Please make sure you have a Serverless cluster in Zilliz Cloud. If not already, you can [sign up for free](https://cloud.zilliz.com/signup).\n",
    "\n",
    "To learn how to create a Serverless cluster and get your CLOUD_REGION, CLUSTER_ID and API_KEY, please refer to this [page](https://docs.zilliz.com/docs/create-cluster) for more details."
   ]
  },
  {
   "cell_type": "code",
   "execution_count": 1,
   "metadata": {
    "collapsed": false,
    "pycharm": {
     "name": "#%%\n"
    }
   },
   "outputs": [],
   "source": [
    "import os\n",
    "\n",
    "CLOUD_REGION = 'gcp-us-west1'\n",
    "CLUSTER_ID = os.getenv('ZILLIZ_CLUSTER_ID')  #'your CLUSTER_ID'\n",
    "API_KEY = os.getenv('ZILLIZ_API_KEY')  #'your API_KEY'"
   ]
  },
  {
   "cell_type": "markdown",
   "source": [
    "### Create an ingestion pipeline\n",
    "[Ingestion pipelines](https://docs.zilliz.com/docs/understanding-pipelines#ingestion-pipelines) can transform unstructured data into searchable vector embeddings and store them in Zilliz Cloud Vector Database.\n",
    "\n",
    "In the Ingestion pipeline, you can specify functions to customize its behavior. The input data that Ingestion pipeline expects also depends on the specified functions. Currently, Ingestion pipeline allows two types of functions:\n",
    "\n",
    "- The `INDEX_DOC` function expects a document as input. It splits the input text document into chunks and generates a vector embedding for each chunk. This function maps an input field (doc_url) to four output fields (doc_name, chunk_id, chunk_text, and embedding) in the auto-generated collection.\n",
    "- The `PRESERVE` function stores a user-defined input as additional [scalar](https://milvus.io/docs/scalar_index.md) field in the auto-generated collection. This is typically used to store meta information of the document, such as publisher info, tags that describes the property of the file.\n",
    "\n",
    "In the following example we create an Ingestion pipeline with an `INDEX_DOC` function and a `PRESERVE` function. As part of creating the Ingestion pipeline, a vector database collection named `my_rag_collection` will be created in the cluster. It contains five fields:\n",
    "- `doc_name`, `chunk_id`, `chunk_text`, `embedding` as defined by `INDEX_DOC` function\n",
    "- `version` as defined by `PRESERVE` function"
   ],
   "metadata": {
    "collapsed": false,
    "pycharm": {
     "name": "#%% md\n"
    }
   }
  },
  {
   "cell_type": "code",
   "execution_count": 2,
   "metadata": {
    "collapsed": false,
    "pycharm": {
     "name": "#%%\n"
    }
   },
   "outputs": [],
   "source": [
    "from pipeline_utils import IngestionPipeline\n",
    "\n",
    "collection_name = 'my_rag_collection'\n",
    "\n",
    "functions = [\n",
    "    {\n",
    "        \"name\": \"index_my_doc\",\n",
    "        \"action\": \"INDEX_DOC\",\n",
    "        \"inputField\": \"doc_url\",\n",
    "        \"language\": \"ENGLISH\"\n",
    "    },\n",
    "    {\n",
    "        \"name\": \"keep_doc_info\",\n",
    "        \"action\": \"PRESERVE\",\n",
    "        \"inputField\": \"version\",\n",
    "        \"outputField\": \"version\",\n",
    "        \"fieldType\": \"VarChar\"\n",
    "    }\n",
    "]\n",
    "\n",
    "ingestion_pipeline = IngestionPipeline(cloud_region=CLOUD_REGION,\n",
    "                                       cluster_id=CLUSTER_ID,\n",
    "                                       api_key=API_KEY,\n",
    "                                       collection_name=collection_name,\n",
    "                                       pipeline_name='my_ingestion_pipeline',\n",
    "                                       functions=functions, )\n"
   ]
  },
  {
   "cell_type": "markdown",
   "metadata": {
    "collapsed": false,
    "pycharm": {
     "name": "#%% md\n"
    }
   },
   "source": [
    "We have instantiated an ingestion pipeline named `my_ingestion_pipeline`. In the `PRESERVE` function, we specified a `version` output field."
   ]
  },
  {
   "cell_type": "markdown",
   "metadata": {
    "collapsed": false,
    "pycharm": {
     "name": "#%% md\n"
    }
   },
   "source": [
    "### Create a search pipeline\n",
    "[Search pipelines](https://docs.zilliz.com/docs/understanding-pipelines#search-pipelines) enables semantic search by converting a query string into a vector embedding and then retrieving top-K nearest neighbour vectors, each vector represents a chunk of ingested document and carries other associated information such as file name and preserved properties.\n",
    "\n",
    "A Search pipeline contains one type of function `SEARCH_DOC_CHUNK`, in which you need to set the the cluster and collection to search from.\n",
    "\n"
   ]
  },
  {
   "cell_type": "code",
   "execution_count": 3,
   "metadata": {
    "collapsed": false,
    "pycharm": {
     "name": "#%%\n"
    }
   },
   "outputs": [],
   "source": [
    "from pipeline_utils import SearchPipeline\n",
    "\n",
    "functions = [\n",
    "    {\n",
    "        \"name\": \"search_chunk_text\",\n",
    "        \"action\": \"SEARCH_DOC_CHUNK\",\n",
    "        \"inputField\": \"query_text\",\n",
    "        \"clusterId\": CLUSTER_ID,\n",
    "        \"collectionName\": collection_name\n",
    "    }\n",
    "]\n",
    "\n",
    "search_pipeline = SearchPipeline(\n",
    "    cloud_region=CLOUD_REGION,\n",
    "    api_key=API_KEY,\n",
    "    pipeline_name='my_search_pipeline',\n",
    "    functions=functions,\n",
    ")\n",
    "\n"
   ]
  },
  {
   "cell_type": "markdown",
   "metadata": {
    "collapsed": false,
    "pycharm": {
     "name": "#%% md\n"
    }
   },
   "source": [
    "We have instantiated an search pipeline named `my_search_pipeline`."
   ]
  },
  {
   "cell_type": "markdown",
   "metadata": {
    "collapsed": false,
    "pycharm": {
     "name": "#%% md\n"
    }
   },
   "source": [
    "### Run ingestion pipeline\n",
    "\n",
    "Ingestion pipeline accepts files from Object Storage Service such as [AWS S3](https://docs.aws.amazon.com/AmazonS3/latest/userguide/upload-objects.html) or [Google Cloud Storage (GCS)](https://cloud.google.com/storage/docs/uploads-downloads). Supported file types include `.txt`, `.pdf`, `.md`, `.html`, `.epub`, `.csv`, `.doc`, `.docx`, `.xls`, `.xlsx`, `.ppt`, `.pptx`.\n",
    "\n",
    "We use two versions of milvus (an open-source vector database) doc, which are from [milvus 2.3](https://milvus.io/docs/delete_data.md) and [milvus 2.2](https://milvus.io/docs/v2.2.x/insert_data.md) . They are stored on Google Cloud Storage and attach its version info. We pass the version information into the key word arguments of the `run()` method.\n"
   ]
  },
  {
   "cell_type": "code",
   "execution_count": 4,
   "metadata": {
    "collapsed": false,
    "pycharm": {
     "name": "#%%\n"
    }
   },
   "outputs": [
    {
     "data": {
      "text/plain": "<Response [200]>"
     },
     "execution_count": 4,
     "metadata": {},
     "output_type": "execute_result"
    }
   ],
   "source": [
    "# gcs_url_23 = 'https://milvus.io/docs/delete_data.md'  # The latest milvus 2.3 version documentation\n",
    "gcs_url_23 = 'https://publicdataset.zillizcloud.com/milvus_doc.md'  # The latest milvus 2.3 version documentation\n",
    "\n",
    "# gcs_url_22 = 'https://milvus.io/docs/v2.2.x/delete_data.md'  # Milvus 2.2 version documentation\n",
    "gcs_url_22 = 'https://storage.googleapis.com/zilliz-rag-uat/milvus_doc_22.md?x-goog-signature=49853e459f96a46d4365540879d00d297ec333f67744a6e5e831952991091342f33f05062f4deffd9429acb2cbe87b0a0a33ddbf21d2fcb0d411c8fb80d7bd2cad3618a49712501e5d5c5af880e5a323cbbd8a3fc68276737a7b9d4b411fe1a765e4f0edc8061ffaa9a8a20927888685370d0bed3b6d821290d4dfa30ee3caf4ab91c73cebf4636ace1685b01b9a2331da15a7a5834a1a66c71e85420e690a8ba4fb31c7480dfe71e240fcfb2b7ff4bac90e990f48457a84a7d30b662b2d70cfc07ad09654c507be4f5a9b3c73d36583a78c7348546d918dccc2864fe45a1aeb812392d41f0915322c57fe366b87b67b0dc2174df22de9f6ec8771bd0e4e3e1a&x-goog-algorithm=GOOG4-RSA-SHA256&x-goog-credential=zilliz-rag%40vdc-dev-test.iam.gserviceaccount.com%2F20231225%2Fus-west1%2Fstorage%2Fgoog4_request&x-goog-date=20231225T044146Z&x-goog-expires=604800&x-goog-signedheaders=host'  # Milvus 2.2 version documentation\n",
    "\n",
    "ingestion_pipeline.run(gcs_url=gcs_url_22, version='2.2')\n",
    "ingestion_pipeline.run(gcs_url=gcs_url_23, version='2.3')"
   ]
  },
  {
   "cell_type": "markdown",
   "metadata": {
    "collapsed": false,
    "pycharm": {
     "name": "#%% md\n"
    }
   },
   "source": [
    "Now we have successfully ingested the document by splitting it into doc chunks and uploading the generated embedding into the vector database collection. If you want to inspect the data in the collection, you can use the Data Preview tool in [Zilliz Cloud web UI](https://cloud.zilliz.com)."
   ]
  },
  {
   "cell_type": "markdown",
   "metadata": {
    "collapsed": false,
    "pycharm": {
     "name": "#%% md\n"
    }
   },
   "source": [
    "## Build RAG application with Search pipeline\n",
    "\n",
    "### Run search pipeline\n",
    "We can use the `run()` method to run a search pipeline. The `run()` method takes a question as input and returns the top k knowledge fragments.\n",
    "The returned information also needs to include `other_output_fields=['version']`, and the filter condition is `version == \"2.2\"`."
   ]
  },
  {
   "cell_type": "code",
   "execution_count": 5,
   "metadata": {
    "collapsed": false,
    "pycharm": {
     "name": "#%%\n"
    }
   },
   "outputs": [
    {
     "data": {
      "text/plain": "[{'chunk_text': 'Delete Entities\\nThis topic describes how to delete entities in Milvus.\\nMilvus supports deleting entities by primary key filtered with boolean expression.\\nDeleted entities can still be retrieved immediately after the deletion if the consistency level is set lower than Strong.\\nEntities deleted beyond the pre-specified span of time for Time Travel cannot be retrieved again.\\nFrequent deletion operations will impact the system performance.\\nPrepare boolean expression\\nPrepare the boolean expression that filters the entities to delete.\\nMilvus only supports deleting entities with clearly specified primary keys, which can be achieved merely with the term expression in. Other operators can be used only in query or scalar filtering in vector search. See Boolean Expression Rules for more information.\\nThe following example filters data with primary key values of 0 and 1.\\npython\\nexpr = \"book_id in [0,1]\"\\nDelete entities\\nDelete the entities with the boolean expression you created. Milvus returns the ID list of the deleted entities.\\npython\\nfrom pymilvus import Collection\\ncollection = Collection(\"book\")      # Get an existing collection.\\ncollection.delete(expr)\\nParameter   Description\\nexpr    Boolean expression that specifies the entities to delete.\\npartition_name (optional)   Name of the partition to delete entities from.\\nWhat\\'s next\\nLearn more basic operations of Milvus:\\nBuild an index for vectors\\nConduct a vector search\\nConduct a hybrid search\\nInsert Entities\\nThis topic describes how to insert data in Milvus via client.',\n  'version': '2.2'},\n {'chunk_text': \"data    Data to insert into Milvus.\\npartition_name (optional)   Name of the partition to insert data into.\\nAfter inserting entities into a collection that has previously been indexed, you do not need to re-index the collection, as Milvus will automatically create an index for the newly inserted data. For more information, refer to Can indexes be created after inserting vectors?\\nFlush the Data in Milvus\\nWhen data is inserted into Milvus, it is stored in segments. Segments have to reach a certain size before they can be sealed and indexed. Unsealed segments are searched using brute force. If you need to search the data immediately after insertion, you can call the flush() method once the data is inserted. This method seals any remaining segments and sends them for indexing. It is important to only call this method at the end of an insert session. Calling it too frequently will result in fragmented data that will require cleaning later on.\\nMilvus automatically triggers the flush() operation. In most cases, manual calls to this operation are not necessary.\\nLimits\\nFeature Maximum limit\\nDimensions of a vector  32,768\\nWhat's next\\nLearn more basic operations of Milvus:\\nBuild an index for vectors\\nConduct a vector search\\nConduct a hybrid search\",\n  'version': '2.2'}]"
     },
     "execution_count": 5,
     "metadata": {},
     "output_type": "execute_result"
    }
   ],
   "source": [
    "question = 'Can user delete milvus entities through non-primary key filtering?'\n",
    "search_pipeline.run(question=question, top_k=2, other_output_fields=['version'], filter='version == \"2.2\"', )"
   ]
  },
  {
   "cell_type": "markdown",
   "source": [
    "Let’s try changing the filter conditions to `version == \"2.3\"`"
   ],
   "metadata": {
    "collapsed": false,
    "pycharm": {
     "name": "#%% md\n"
    }
   }
  },
  {
   "cell_type": "code",
   "execution_count": 6,
   "outputs": [
    {
     "data": {
      "text/plain": "[{'chunk_text': 'Delete Entities\\nThis topic describes how to delete entities in Milvus.\\nMilvus supports deleting entities by primary key or complex boolean expressions. Deleting entities by primary key is much faster and lighter than deleting them by complex boolean expressions. This is because Milvus executes queries first when deleting data by complex boolean expressions.\\nDeleted entities can still be retrieved immediately after the deletion if the consistency level is set lower than Strong.\\nEntities deleted beyond the pre-specified span of time for Time Travel cannot be retrieved again.\\nFrequent deletion operations will impact the system performance.\\nBefore deleting entities by comlpex boolean expressions, make sure the collection has been loaded.\\nDeleting entities by complex boolean expressions is not an atomic operation. Therefore, if it fails halfway through, some data may still be deleted.\\nDeleting entities by complex boolean expressions is supported only when the consistency is set to Bounded. For details, see Consistency.\\nPrepare boolean expression\\nPrepare the boolean expression that filters the entities to delete.\\nMilvus supports deleting entities by primary key or complex boolean expressions. For more information on expression rules and supported operators, see Boolean Expression Rules.\\nSimple boolean expression\\nUse a simple expression to filter data with primary key values of 0 and 1:\\npython\\nexpr = \"book_id in [0,1]\"\\nComplex boolean expression',\n  'version': '2.3'},\n {'chunk_text': 'To filter entities that meet specific conditions, define complex boolean expressions.\\nFilter entities whose word_count is greater than or equal to 11000:\\npython\\nexpr = \"word_count >= 11000\"\\nFilter entities whose book_name is not Unknown:\\npython\\nexpr = \"book_name != Unknown\"\\nFilter entities whose primary key values are greater than 5 and word_count is smaller than or equal to 9999:\\npython\\nexpr = \"book_id > 5 && word_count <= 9999\"\\nDelete entities\\nDelete the entities with the boolean expression you created. Milvus returns the ID list of the deleted entities.\\npython\\nfrom pymilvus import Collection\\ncollection = Collection(\"book\")      # Get an existing collection.\\ncollection.delete(expr)\\nParameter   Description\\nexpr    Boolean expression that specifies the entities to delete.\\npartition_name (optional)   Name of the partition to delete entities from.\\nUpsert Entities\\nThis topic describes how to upsert entities in Milvus.\\nUpserting is a combination of insert and delete operations. In the context of a Milvus vector database, an upsert is a data-level operation that will overwrite an existing entity if a specified field already exists in a collection, and insert a new entity if the specified value doesn’t already exist.\\nThe following example upserts 3,000 rows of randomly generated data as the example data. When performing upsert operations, it\\'s important to note that the operation may compromise performance. This is because the operation involves deleting data during execution.\\nPrepare data',\n  'version': '2.3'}]"
     },
     "execution_count": 6,
     "metadata": {},
     "output_type": "execute_result"
    }
   ],
   "source": [
    "search_pipeline.run(question=question, top_k=2, other_output_fields=['version'], filter='version == \"2.3\"', )"
   ],
   "metadata": {
    "collapsed": false,
    "pycharm": {
     "name": "#%%\n"
    }
   }
  },
  {
   "cell_type": "markdown",
   "metadata": {
    "collapsed": false,
    "pycharm": {
     "name": "#%% md\n"
    }
   },
   "source": [
    "We can see that when we ask a question, this search run can return the top k knowledge fragments we need. This is also a basis for forming RAG."
   ]
  },
  {
   "cell_type": "markdown",
   "metadata": {
    "collapsed": false,
    "pycharm": {
     "name": "#%% md\n"
    }
   },
   "source": [
    "### Build a chatbot powered by RAG \n",
    "Below, we show a simple RAG app that can answer based on the knowledge we have ingested previously. It uses OpenAI `gpt-3.5-turbo` as LLM and a simple prompt. To test it, you can replace with your own OpenAI API Key."
   ]
  },
  {
   "cell_type": "code",
   "execution_count": 7,
   "metadata": {
    "collapsed": false,
    "pycharm": {
     "name": "#%%\n"
    }
   },
   "outputs": [],
   "source": [
    "from openai import OpenAI\n",
    "\n",
    "client = OpenAI()\n",
    "client.api_key = os.getenv('OPENAI_API_KEY')  # your OpenAI API key\n",
    "\n",
    "\n",
    "class MilvusDocChatbot:\n",
    "    def __init__(self, search_pipeline):\n",
    "        self.search_pipeline = search_pipeline\n",
    "\n",
    "    def retrieve(self, query: str, milvus_version: str) -> list:\n",
    "        \"\"\"\n",
    "        Retrieve relevant text with Zilliz Cloud Pipelines.\n",
    "        \"\"\"\n",
    "        results = self.search_pipeline.run(question=query, top_k=2, other_output_fields=['version'], filter=f'version == \"{milvus_version}\"', )\n",
    "        return results\n",
    "\n",
    "    def generate_answer(self, query: str, context_str: list) -> str:\n",
    "        \"\"\"\n",
    "        Generate answer based on context, which is from the result of Search pipeline run.\n",
    "        \"\"\"\n",
    "        completion = client.chat.completions.create(\n",
    "            model=\"gpt-3.5-turbo\",\n",
    "            temperature=0,\n",
    "            messages=\n",
    "            [\n",
    "                {\"role\": \"user\",\n",
    "                 \"content\":\n",
    "                     f\"We have provided context information below. \\n\"\n",
    "                     f\"---------------------\\n\"\n",
    "                     f\"{context_str}\"\n",
    "                     f\"\\n---------------------\\n\"\n",
    "                     f\"Given this information, please answer the question: {query}\"\n",
    "                 }\n",
    "            ]\n",
    "        ).choices[0].message.content\n",
    "        return completion\n",
    "\n",
    "    def chat_with_rag(self, query: str, milvus_version: str) -> str:\n",
    "        context_str = self.retrieve(query, milvus_version=milvus_version)\n",
    "        completion = self.generate_answer(query, context_str)\n",
    "        return completion\n",
    "\n",
    "\n",
    "\n",
    "chatbot = MilvusDocChatbot(search_pipeline)"
   ]
  },
  {
   "cell_type": "markdown",
   "metadata": {
    "collapsed": false,
    "pycharm": {
     "name": "#%% md\n"
    }
   },
   "source": [
    "This implements an RAG chatbot, it will use Search pipeline to retrieve the most relevant chunks from ingested documents, and enhance the answer quality with it. Let's see how it works in action!"
   ]
  },
  {
   "cell_type": "markdown",
   "metadata": {
    "collapsed": false,
    "pycharm": {
     "name": "#%% md\n"
    }
   },
   "source": [
    "### Chat with RAG"
   ]
  },
  {
   "cell_type": "code",
   "execution_count": 8,
   "metadata": {
    "collapsed": false,
    "pycharm": {
     "name": "#%%\n"
    }
   },
   "outputs": [
    {
     "data": {
      "text/plain": "'No, users cannot delete Milvus entities through non-primary key filtering. Milvus only supports deleting entities with clearly specified primary keys. Other operators can be used only in query or scalar filtering in vector search.'"
     },
     "execution_count": 8,
     "metadata": {},
     "output_type": "execute_result"
    }
   ],
   "source": [
    "question = 'Can user delete milvus entities through non-primary key filtering?'\n",
    "chatbot.chat_with_rag(question, milvus_version='2.2')"
   ]
  },
  {
   "cell_type": "markdown",
   "source": [
    "The ground truth content in the original knowledge text is:\n",
    "> **Milvus supports deleting entities by primary key filtered with boolean expression.**"
   ],
   "metadata": {
    "collapsed": false,
    "pycharm": {
     "name": "#%% md\n"
    }
   }
  },
  {
   "cell_type": "code",
   "execution_count": 9,
   "metadata": {
    "collapsed": false,
    "pycharm": {
     "name": "#%%\n"
    }
   },
   "outputs": [
    {
     "data": {
      "text/plain": "'Yes, users can delete Milvus entities through non-primary key filtering by using complex boolean expressions. These expressions can filter entities based on specific conditions such as attribute values.'"
     },
     "execution_count": 9,
     "metadata": {},
     "output_type": "execute_result"
    }
   ],
   "source": [
    "chatbot.chat_with_rag(question, milvus_version='2.3')"
   ]
  },
  {
   "cell_type": "markdown",
   "source": [
    "The ground truth content in the original knowledge text is:\n",
    "> **Milvus supports deleting entities by primary key or complex boolean expressions**. Deleting entities by primary key is much faster and lighter than deleting them by complex boolean expressions. This is because Milvus executes queries first when deleting data by complex boolean expressions.\n",
    "\n",
    "\n",
    "Indeed, Milvus 2.3 has enhanced the [Delete Entities](https://milvus.io/docs/v2.2.x/delete_data.md) function. In the latest version 2.3, deleting by complex boolean expressions can be supported. By filtering different Milvus versions, we have achieved the ability to RAG different knowledge sources."
   ],
   "metadata": {
    "collapsed": false
   }
  },
  {
   "cell_type": "markdown",
   "metadata": {},
   "source": [
    "That's how to use Zilliz Cloud Pipelines to build RAG applications. To learn more, you can refer to https://docs.zilliz.com/docs/pipelines for detailed information.\n",
    "\n",
    "If you have any question, feel free to contact us at support@zilliz.com"
   ]
  }
 ],
 "metadata": {
  "kernelspec": {
   "display_name": "Python 3",
   "language": "python",
   "name": "python3"
  },
  "language_info": {
   "codemirror_mode": {
    "name": "ipython",
    "version": 2
   },
   "file_extension": ".py",
   "mimetype": "text/x-python",
   "name": "python",
   "nbconvert_exporter": "python",
   "pygments_lexer": "ipython2",
   "version": "2.7.6"
  }
 },
 "nbformat": 4,
 "nbformat_minor": 0
}
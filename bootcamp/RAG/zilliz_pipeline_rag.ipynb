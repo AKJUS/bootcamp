{
 "cells": [
  {
   "cell_type": "markdown",
   "source": [
    "# Build RAG using Zilliz Pipeline\n",
    "\n",
    "In this notebook, I will introduce how to use [zilliz pipeline](https://docs.zilliz.com/docs/pipelines) to build a simple [RAG](https://research.ibm.com/blog/retrieval-augmented-generation-RAG) application.\n",
    "\n",
    "We will first create some zilliz pipelines, and then build RAG based on the runs of these pipelines. In fact, you can also create pipelines through the [Web UI](https://docs.zilliz.com/docs/create-piplines-gui), but in this tutorial, the pipeline will be built through the [RESTful API](https://docs.zilliz.com/docs/create-piplines-rest). This method is easier to integrate into your RAG application.\n"
   ],
   "metadata": {
    "collapsed": false,
    "pycharm": {
     "name": "#%% md\n"
    }
   }
  },
  {
   "cell_type": "markdown",
   "source": [
    "## Prerequisites\n",
    "You need to create a new cluster in zilliz cloud first. Then you can get your CLOUD_REGION, CLUSTER_ID and API_KEY. Your can refer this [page](https://docs.zilliz.com/docs/create-cluster) for more details."
   ],
   "metadata": {
    "collapsed": false,
    "pycharm": {
     "name": "#%% md\n"
    }
   }
  },
  {
   "cell_type": "code",
   "execution_count": 1,
   "outputs": [],
   "source": [
    "import os\n",
    "\n",
    "CLOUD_REGION = os.getenv('ZILLIZ_CLOUD_REGION')  # your CLOUD_REGION\n",
    "CLUSTER_ID = os.getenv('ZILLIZ_CLUSTER_ID')  # your CLUSTER_ID\n",
    "API_KEY = os.getenv('ZILLIZ_API_KEY')  # your API_KEY"
   ],
   "metadata": {
    "collapsed": false,
    "pycharm": {
     "name": "#%%\n"
    }
   }
  },
  {
   "cell_type": "markdown",
   "source": [
    "## Create Pipelines\n",
    "### Create an ingestion pipeline\n",
    "We build an ingestion pipeline first. [Ingestion pipelines](https://docs.zilliz.com/docs/understanding-pipelines#ingestion-pipelines) can process unstructured data into searchable vector embeddings and store them in Zilliz Cloud Vector Databases.\n",
    "\n",
    "When creating ingestion pipeline, you must specify some functions. Ingestion pipeline allows two types of functions.\n",
    "\n",
    "- The `INDEX_DOC` function splits the input text document into chunks and generates a vector embedding for each chunk. This function maps an input field (doc_url) to four output fields (doc_name, chunk_id, chunk_text, and embedding) as the scalar and vector fields of the auto-generated collection. The field names cannot be changed.\n",
    "- The `PRESERVE` function stores user-defined input fields as additional scalar fields in the auto-generated collection for storing metadata. You can use PRESERVE functions to preserve the metadata of your documents. A single PRESERVE function preserves one field, and up to five PRESERVE functions can be added to one Ingestion pipeline.\n",
    "\n",
    "Next, we will create an INDEX_DOC function and a PRESERVE function. They will eventually create a collection in the cluster, named `my_rag_collection`. It contains five fields:\n",
    "- `doc_name`, `chunk_id`, `chunk_text`, `embedding` are from INDEX_DOC function\n",
    "- `publish_year` is from PRESERVE function\n",
    "\n",
    "\n"
   ],
   "metadata": {
    "collapsed": false,
    "pycharm": {
     "name": "#%% md\n"
    }
   }
  },
  {
   "cell_type": "code",
   "execution_count": 2,
   "outputs": [
    {
     "name": "stdout",
     "output_type": "stream",
     "text": [
      "{'code': 200, 'data': {'pipelineId': 'pipe-62f9acbdbdb3ec832bfe2a', 'name': 'my_ingestion_pipeline', 'type': 'INGESTION', 'description': 'A pipeline that splits a text file into chunks and generates embeddings. It also stores the publish_year with each chunk.', 'status': 'SERVING', 'functions': [{'action': 'INDEX_DOC', 'name': 'index_my_doc', 'inputField': 'doc_url', 'language': 'ENGLISH'}, {'action': 'PRESERVE', 'name': 'keep_doc_info', 'inputField': 'publish_year', 'outputField': 'publish_year', 'fieldType': 'Int16'}], 'clusterId': 'in03-423dca989cc7410', 'newCollectionName': 'my_rag_collection'}}\n"
     ]
    }
   ],
   "source": [
    "import requests\n",
    "\n",
    "headers = {\n",
    "    \"Content-Type\": \"application/json\",\n",
    "    \"Accept\": \"application/json\",\n",
    "    \"Authorization\": f\"Bearer {API_KEY}\"\n",
    "}\n",
    "\n",
    "create_pipeline_url = f\"https://controller.api.{CLOUD_REGION}.zillizcloud.com/v1/pipelines\"\n",
    "\n",
    "collection_name = 'my_rag_collection'\n",
    "\n",
    "data = {\n",
    "    \"name\": \"my_ingestion_pipeline\",\n",
    "    \"description\": \"A pipeline that splits a text file into chunks and generates embeddings. It also stores the publish_year with each chunk.\",\n",
    "    \"type\": \"INGESTION\",\n",
    "    \"functions\": [\n",
    "        {\n",
    "            \"name\": \"index_my_doc\",\n",
    "            \"action\": \"INDEX_DOC\",\n",
    "            \"inputField\": \"doc_url\",\n",
    "            \"language\": \"ENGLISH\"\n",
    "        },\n",
    "        {\n",
    "            \"name\": \"keep_doc_info\",\n",
    "            \"action\": \"PRESERVE\",\n",
    "            \"inputField\": \"publish_year\",\n",
    "            \"outputField\": \"publish_year\",\n",
    "            \"fieldType\": \"Int16\"\n",
    "        }\n",
    "    ],\n",
    "    \"clusterId\": f\"{CLUSTER_ID}\",\n",
    "    \"newCollectionName\": f\"{collection_name}\"\n",
    "}\n",
    "\n",
    "response = requests.post(create_pipeline_url, headers=headers, json=data)\n",
    "print(response.json())\n",
    "ingestion_pipe_id = response.json()[\"data\"][\"pipelineId\"]"
   ],
   "metadata": {
    "collapsed": false,
    "pycharm": {
     "name": "#%%\n"
    }
   }
  },
  {
   "cell_type": "markdown",
   "source": [
    "After successful creation, it will return a pipeline ID. We will run this pipeline later and will use this pipeline ID."
   ],
   "metadata": {
    "collapsed": false,
    "pycharm": {
     "name": "#%% md\n"
    }
   }
  },
  {
   "cell_type": "markdown",
   "source": [
    "### Create a search pipeline\n",
    "We build a search pipeline next. [Search pipelines](https://docs.zilliz.com/docs/understanding-pipelines#search-pipelines) enables semantic search by converting a query string into a vector embedding and then retrieving top-K similar vectors with its corresponding text and other metadata.\n",
    "\n",
    "A Search pipeline allows one type of function `SEARCH_DOC_CHUNK`. You need to set the searching collection name, as well as other fields.\n",
    "\n"
   ],
   "metadata": {
    "collapsed": false,
    "pycharm": {
     "name": "#%% md\n"
    }
   }
  },
  {
   "cell_type": "code",
   "execution_count": 3,
   "outputs": [
    {
     "name": "stdout",
     "output_type": "stream",
     "text": [
      "{'code': 200, 'data': {'pipelineId': 'pipe-09cba473985a1b3108e588', 'name': 'my_search_pipeline', 'type': 'SEARCH', 'description': 'A pipeline that receives text and search for semantically similar doc chunks', 'status': 'SERVING', 'functions': [{'action': 'SEARCH_DOC_CHUNK', 'name': 'search_chunk_text_and_title', 'inputField': 'query_text', 'clusterId': 'in03-423dca989cc7410', 'collectionName': 'my_rag_collection'}]}}\n"
     ]
    }
   ],
   "source": [
    "data = {\n",
    "    \"name\": \"my_search_pipeline\",\n",
    "    \"description\": \"A pipeline that receives text and search for semantically similar doc chunks\",\n",
    "    \"type\": \"SEARCH\",\n",
    "    \"functions\": [\n",
    "        {\n",
    "            \"name\": \"search_chunk_text_and_title\",\n",
    "            \"action\": \"SEARCH_DOC_CHUNK\",\n",
    "            \"inputField\": \"query_text\",\n",
    "            \"clusterId\": f\"{CLUSTER_ID}\",\n",
    "            \"collectionName\": f\"{collection_name}\"\n",
    "        }\n",
    "    ]\n",
    "}\n",
    "\n",
    "response = requests.post(create_pipeline_url, headers=headers, json=data)\n",
    "\n",
    "print(response.json())\n",
    "search_pipe_id = response.json()[\"data\"][\"pipelineId\"]"
   ],
   "metadata": {
    "collapsed": false,
    "pycharm": {
     "name": "#%%\n"
    }
   }
  },
  {
   "cell_type": "markdown",
   "source": [
    "Similarly, after successful creation, it will return a pipeline ID. We will run this pipeline later and will use this pipeline ID.\n"
   ],
   "metadata": {
    "collapsed": false,
    "pycharm": {
     "name": "#%% md\n"
    }
   }
  },
  {
   "cell_type": "markdown",
   "source": [
    "## Run pipelines\n",
    "### Run ingestion pipeline\n",
    "Before running the pipeline, upload your document to [AWS S3](https://docs.aws.amazon.com/AmazonS3/latest/userguide/upload-objects.html) or [Google Cloud Storage (GCS)](https://cloud.google.com/storage/docs/uploads-downloads). Supported file types include .txt, .pdf, .md, .html, .epub, .csv, .doc, .docx, .xls, .xlsx, .ppt, .pptx.\n",
    "We have stored a simple knowledge document with respect to zilliz concept in GCS, and we will provide this link to this run.\n",
    "This knowledge is very new and professional, which will not be included in the LLM training materials.\n",
    "\n",
    "In the data field, you need to specify the specific value of the input field of the previous pipeline."
   ],
   "metadata": {
    "collapsed": false
   }
  },
  {
   "cell_type": "code",
   "execution_count": 4,
   "outputs": [
    {
     "name": "stdout",
     "output_type": "stream",
     "text": [
      "{'code': 200, 'data': {'doc_name': 'zilliz_concept.md', 'num_chunks': 4}}\n"
     ]
    }
   ],
   "source": [
    "run_pipeline_url = f\"https://controller.api.{CLOUD_REGION}.zillizcloud.com/v1/pipelines/{ingestion_pipe_id}/run\"\n",
    "\n",
    "gcs_url = 'https://storage.googleapis.com/...'  # your gcs url\n",
    "\n",
    "data = {\n",
    "    \"data\":\n",
    "        {\n",
    "            \"doc_url\": f\"{gcs_url}\",\n",
    "            \"publish_year\": 2023\n",
    "        }\n",
    "}\n",
    "\n",
    "response = requests.post(run_pipeline_url, headers=headers, json=data)\n",
    "\n",
    "print(response.json())"
   ],
   "metadata": {
    "collapsed": false,
    "pycharm": {
     "name": "#%%\n"
    }
   }
  },
  {
   "cell_type": "markdown",
   "source": [
    "Great, we successfully ingested the contents of the document we stored on gcs. In the corresponding zilliz collection, you can also see the corresponding document chunks and vectors, which have been stored in the vector database."
   ],
   "metadata": {
    "collapsed": false,
    "pycharm": {
     "name": "#%% md\n"
    }
   }
  },
  {
   "cell_type": "markdown",
   "source": [
    "### Run search pipeline\n",
    "We will run the search pipeline next. Here, we wrap this run with a function, which is for convenience when we build RAG later."
   ],
   "metadata": {
    "collapsed": false,
    "pycharm": {
     "name": "#%% md\n"
    }
   }
  },
  {
   "cell_type": "code",
   "execution_count": 5,
   "outputs": [
    {
     "name": "stdout",
     "output_type": "stream",
     "text": [
      "{'code': 200,\n",
      " 'data': {'result': [{'chunk_id': 0,\n",
      "                      'chunk_text': 'Cluster, Collection & Entities\\n'\n",
      "                                    'A Zilliz Cloud cluster is a managed '\n",
      "                                    'Milvus instance associated with certain '\n",
      "                                    'computing resources. You can create '\n",
      "                                    'collections in the cluster and insert '\n",
      "                                    'entities into them. In comparison to a '\n",
      "                                    'relational database, a collection in a '\n",
      "                                    'cluster is similar to a table in the '\n",
      "                                    'database, and an entity in a collection '\n",
      "                                    'is similar to a record in the table.\\n'\n",
      "                                    'Cluster\\n'\n",
      "                                    'When creating a cluster on Zilliz Cloud, '\n",
      "                                    'you must specify the type of CU '\n",
      "                                    'associated with the cluster. There are '\n",
      "                                    'three types of CUs available: '\n",
      "                                    'performance-optimized, '\n",
      "                                    'capacity-optimized, and cost-optimized. '\n",
      "                                    'You can learn how to choose among these '\n",
      "                                    'types in Select the Right CU.\\n'\n",
      "                                    'After determining the CU type, you must '\n",
      "                                    'also specify its size. Note that the '\n",
      "                                    'number of collections a cluster can hold '\n",
      "                                    'varies based on its CU size. A cluster '\n",
      "                                    'with less than 8 CUs can hold no more '\n",
      "                                    'than 32 collections, while a cluster with '\n",
      "                                    'more than 8 CUs can hold as many as 256 '\n",
      "                                    'collections.\\n'\n",
      "                                    'All collections in a cluster share the '\n",
      "                                    'CUs associated with the cluster. To save '\n",
      "                                    'CUs, you can unload some collections. '\n",
      "                                    'When a collection is unloaded, its data '\n",
      "                                    'is moved to disk storage and its CUs are '\n",
      "                                    'freed up for use by other collections. '\n",
      "                                    'You can load the collection back into '\n",
      "                                    'memory when you need to query it. Keep in '\n",
      "                                    'mind that loading a collection requires '\n",
      "                                    'some time, so you should only do so when '\n",
      "                                    'necessary.\\n'\n",
      "                                    'Collection',\n",
      "                      'distance': 0.886269748210907,\n",
      "                      'doc_name': 'zilliz_concept.md',\n",
      "                      'id': 446268082459513302,\n",
      "                      'publish_year': 2023},\n",
      "                     {'chunk_id': 2,\n",
      "                      'chunk_text': '64-bit integer (INT64)\\n'\n",
      "                                    'Variable character (VARCHAR)\\n'\n",
      "                                    'JSON\\n'\n",
      "                                    'Zilliz Cloud provides three types of CUs, '\n",
      "                                    'each of which have its own application '\n",
      "                                    'scenarios, and they are also the factor '\n",
      "                                    'that impacts search performance.\\n'\n",
      "                                    '📘 Notes\\n'\n",
      "                                    'FLOAT_VECTOR is the only data type that '\n",
      "                                    'supports vector embeddings in Zilliz '\n",
      "                                    'Cloud clusters.\\n'\n",
      "                                    'Index\\n'\n",
      "                                    'Unlike Milvus instances, Zilliz Cloud '\n",
      "                                    'clusters only support the AUTOINDEX '\n",
      "                                    'algorithm for indexing. This algorithm is '\n",
      "                                    'optimized for the three types of '\n",
      "                                    'computing units (CUs) supported by Zilliz '\n",
      "                                    'Cloud. For more information, see '\n",
      "                                    'AUTOINDEX Explained.\\n'\n",
      "                                    'Entities\\n'\n",
      "                                    'Entities in a collection are data records '\n",
      "                                    'sharing the same set of fields, like a '\n",
      "                                    'book in a library or a gene in a genome. '\n",
      "                                    'As to an entity, the data stored in each '\n",
      "                                    'field forms the entity.\\n'\n",
      "                                    'By specifying a query vector, search '\n",
      "                                    'metrics, and optional filtering '\n",
      "                                    'conditions, you can conduct vector '\n",
      "                                    'searches among the entities in a '\n",
      "                                    'collection. For example, if you search '\n",
      "                                    'with the keyword \"Interesting Python '\n",
      "                                    'demo\", any article whose title implies '\n",
      "                                    'such semantic meaning will be returned as '\n",
      "                                    'a relevant result. During this process, '\n",
      "                                    'the search is actually conducted on the '\n",
      "                                    'vector field title_vector to retrieve the '\n",
      "                                    'top K nearest results. For details on '\n",
      "                                    'vector searches, see Search and Query.',\n",
      "                      'distance': 0.8812379240989685,\n",
      "                      'doc_name': 'zilliz_concept.md',\n",
      "                      'id': 446268082459513304,\n",
      "                      'publish_year': 2023}]}}\n"
     ]
    },
    {
     "data": {
      "text/plain": "['Cluster, Collection & Entities\\nA Zilliz Cloud cluster is a managed Milvus instance associated with certain computing resources. You can create collections in the cluster and insert entities into them. In comparison to a relational database, a collection in a cluster is similar to a table in the database, and an entity in a collection is similar to a record in the table.\\nCluster\\nWhen creating a cluster on Zilliz Cloud, you must specify the type of CU associated with the cluster. There are three types of CUs available: performance-optimized, capacity-optimized, and cost-optimized. You can learn how to choose among these types in Select the Right CU.\\nAfter determining the CU type, you must also specify its size. Note that the number of collections a cluster can hold varies based on its CU size. A cluster with less than 8 CUs can hold no more than 32 collections, while a cluster with more than 8 CUs can hold as many as 256 collections.\\nAll collections in a cluster share the CUs associated with the cluster. To save CUs, you can unload some collections. When a collection is unloaded, its data is moved to disk storage and its CUs are freed up for use by other collections. You can load the collection back into memory when you need to query it. Keep in mind that loading a collection requires some time, so you should only do so when necessary.\\nCollection',\n '64-bit integer (INT64)\\nVariable character (VARCHAR)\\nJSON\\nZilliz Cloud provides three types of CUs, each of which have its own application scenarios, and they are also the factor that impacts search performance.\\n📘 Notes\\nFLOAT_VECTOR is the only data type that supports vector embeddings in Zilliz Cloud clusters.\\nIndex\\nUnlike Milvus instances, Zilliz Cloud clusters only support the AUTOINDEX algorithm for indexing. This algorithm is optimized for the three types of computing units (CUs) supported by Zilliz Cloud. For more information, see AUTOINDEX Explained.\\nEntities\\nEntities in a collection are data records sharing the same set of fields, like a book in a library or a gene in a genome. As to an entity, the data stored in each field forms the entity.\\nBy specifying a query vector, search metrics, and optional filtering conditions, you can conduct vector searches among the entities in a collection. For example, if you search with the keyword \"Interesting Python demo\", any article whose title implies such semantic meaning will be returned as a relevant result. During this process, the search is actually conducted on the vector field title_vector to retrieve the top K nearest results. For details on vector searches, see Search and Query.']"
     },
     "execution_count": 5,
     "metadata": {},
     "output_type": "execute_result"
    }
   ],
   "source": [
    "import pprint\n",
    "\n",
    "def retrieval_from_pipeline(question, search_pipe_id, top_k=2, verbose=False):\n",
    "    run_pipeline_url = f\"https://controller.api.{CLOUD_REGION}.zillizcloud.com/v1/pipelines/{search_pipe_id}/run\"\n",
    "\n",
    "    data = {\n",
    "        \"data\": {\n",
    "            \"query_text\": question\n",
    "        },\n",
    "        \"params\": {\n",
    "            \"limit\": top_k,\n",
    "            \"offset\": 0,\n",
    "            \"outputFields\": [\n",
    "                \"chunk_text\",\n",
    "                \"chunk_id\",\n",
    "                \"doc_name\",\n",
    "                \"publish_year\"\n",
    "            ],\n",
    "        }\n",
    "    }\n",
    "    response = requests.post(run_pipeline_url, headers=headers, json=data)\n",
    "    if verbose:\n",
    "        pprint.pprint(response.json())\n",
    "    results = response.json()[\"data\"][\"result\"]\n",
    "    retrieval_texts = [result['chunk_text'] for result in results]\n",
    "    return retrieval_texts\n",
    "\n",
    "\n",
    "question = 'What are the three types of CUs in Zilliz Cloud cluster?'\n",
    "retrieval_from_pipeline(question, search_pipe_id, top_k=2, verbose=True)"
   ],
   "metadata": {
    "collapsed": false,
    "pycharm": {
     "name": "#%%\n"
    }
   }
  },
  {
   "cell_type": "markdown",
   "source": [
    "We can see that when we ask a question, this search run can return the top k knowledge fragments we need. This is also a basis for forming RAG."
   ],
   "metadata": {
    "collapsed": false,
    "pycharm": {
     "name": "#%% md\n"
    }
   }
  },
  {
   "cell_type": "markdown",
   "source": [
    "## Build RAG\n",
    "We have built a function named `retrieval_from_pipeline`, which can recall the knowledge we have ingested into the zilliz vector database.\n",
    "Below, we build a simple RAG based on the knowledge we have ingested. Here, the LLM we use is OpenAI, so you need to prepare your OpenAI api key."
   ],
   "metadata": {
    "collapsed": false,
    "pycharm": {
     "name": "#%% md\n"
    }
   }
  },
  {
   "cell_type": "code",
   "execution_count": 6,
   "outputs": [],
   "source": [
    "from openai import OpenAI\n",
    "client = OpenAI()\n",
    "client.api_key = os.getenv('OPENAI_API_KEY')  # your OpenAI API key\n",
    "\n",
    "class RAG:\n",
    "    def __init__(self, search_pipe_id):\n",
    "        self._search_pipe_id = search_pipe_id\n",
    "\n",
    "    def retrieve(self, query: str) -> list:\n",
    "        \"\"\"\n",
    "        Retrieve relevant text from zilliz pipeline.\n",
    "        \"\"\"\n",
    "        results = retrieval_from_pipeline(query, self._search_pipe_id, top_k=2)\n",
    "        return results\n",
    "\n",
    "    def generate_completion(self, query: str, context_str: list) -> str:\n",
    "        \"\"\"\n",
    "        Generate answer from context.\n",
    "        \"\"\"\n",
    "        completion = client.chat.completions.create(\n",
    "            model=\"gpt-3.5-turbo\",\n",
    "            temperature=0,\n",
    "            messages=\n",
    "            [\n",
    "                {\"role\": \"user\",\n",
    "                 \"content\":\n",
    "                     f\"We have provided context information below. \\n\"\n",
    "                     f\"---------------------\\n\"\n",
    "                     f\"{context_str}\"\n",
    "                     f\"\\n---------------------\\n\"\n",
    "                     f\"Given this information, please answer the question: {query}\"\n",
    "                 }\n",
    "            ]\n",
    "        ).choices[0].message.content\n",
    "        return completion\n",
    "\n",
    "    def query(self, query: str) -> str:\n",
    "        context_str = self.retrieve(query)\n",
    "        completion = self.generate_completion(query, context_str)\n",
    "        return completion\n",
    "\n",
    "rag = RAG(search_pipe_id)"
   ],
   "metadata": {
    "collapsed": false,
    "pycharm": {
     "name": "#%%\n"
    }
   }
  },
  {
   "cell_type": "markdown",
   "source": [
    "We have initialized a RAG instance, and now we start to test it by asking about the content of the knowledge we uploaded."
   ],
   "metadata": {
    "collapsed": false,
    "pycharm": {
     "name": "#%% md\n"
    }
   }
  },
  {
   "cell_type": "code",
   "execution_count": 7,
   "outputs": [
    {
     "data": {
      "text/plain": "'The three types of CUs in Zilliz Cloud cluster are performance-optimized, capacity-optimized, and cost-optimized.'"
     },
     "execution_count": 7,
     "metadata": {},
     "output_type": "execute_result"
    }
   ],
   "source": [
    "question = 'What are the three types of CUs in Zilliz Cloud cluster?'\n",
    "rag.query(question)"
   ],
   "metadata": {
    "collapsed": false,
    "pycharm": {
     "name": "#%%\n"
    }
   }
  },
  {
   "cell_type": "markdown",
   "source": [
    "The ground truth content in the original knowledge text is:\n",
    "> When creating a cluster on Zilliz Cloud, you must specify the type of CU associated with the cluster. **There are three types of CUs available: performance-optimized, capacity-optimized, and cost-optimized.**\n",
    "\n",
    "We see that the rag we built successfully answers this professional question."
   ],
   "metadata": {
    "collapsed": false,
    "pycharm": {
     "name": "#%% md\n"
    }
   }
  }
 ],
 "metadata": {
  "kernelspec": {
   "display_name": "Python 3",
   "language": "python",
   "name": "python3"
  },
  "language_info": {
   "codemirror_mode": {
    "name": "ipython",
    "version": 2
   },
   "file_extension": ".py",
   "mimetype": "text/x-python",
   "name": "python",
   "nbconvert_exporter": "python",
   "pygments_lexer": "ipython2",
   "version": "2.7.6"
  }
 },
 "nbformat": 4,
 "nbformat_minor": 0
}
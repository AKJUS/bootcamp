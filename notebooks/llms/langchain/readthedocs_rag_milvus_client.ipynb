{
 "cells": [
  {
   "cell_type": "markdown",
   "id": "369c3444",
   "metadata": {},
   "source": [
    "# ReadtheDocs Retrieval Augmented Generation (RAG) using Milvus Client"
   ]
  },
  {
   "cell_type": "markdown",
   "id": "f6ffd11a",
   "metadata": {},
   "source": [
    "In this notebook, we are going to use Milvus documentation pages to create a chatbot about our product.\n",
    "\n",
    "A chatbot is going to follow RAG steps to retrieve chunks of data using Semantic Vector Search, then the Question + Context will be fed as a Prompt to a LLM to generate an answer.\n",
    "\n",
    "<div>\n",
    "<img src=\"../../../images/rag_image.png\" width=\"80%\"/>\n",
    "</div>\n",
    "\n",
    "Let's get started!"
   ]
  },
  {
   "cell_type": "code",
   "execution_count": 1,
   "id": "d7570b2e",
   "metadata": {},
   "outputs": [],
   "source": [
    "# For colab install these libraries in this order:\n",
    "# !pip install milvus, pymilvus, langchain, torch, transformers, python-dotenv\n",
    "\n",
    "# Import common libraries.\n",
    "import time\n",
    "import pandas as pd\n",
    "import numpy as np"
   ]
  },
  {
   "cell_type": "markdown",
   "id": "e059b674",
   "metadata": {},
   "source": [
    "## Download Milvus documentation to a local directory."
   ]
  },
  {
   "cell_type": "code",
   "execution_count": 2,
   "id": "20dcdaf7",
   "metadata": {},
   "outputs": [],
   "source": [
    "# # Uncomment to download readthedocs page locally.\n",
    "\n",
    "# DOCS_PAGE=\"https://pymilvus.readthedocs.io/en/latest/\"\n",
    "# !echo $DOCS_PAGE\n",
    "\n",
    "# # Specify encoding to handle non-unicode characters in documentation.\n",
    "# !wget -r -A.html -P rtdocs --header=\"Accept-Charset: UTF-8\" $DOCS_PAGE"
   ]
  },
  {
   "cell_type": "markdown",
   "id": "8a67e382",
   "metadata": {},
   "source": [
    "## Start up a local Milvus server."
   ]
  },
  {
   "cell_type": "markdown",
   "id": "fb844837",
   "metadata": {},
   "source": [
    "Code in this notebook uses [Milvus client](https://milvus.io/docs/using_milvusclient.md) with [Milvus lite](https://milvus.io/docs/milvus_lite.md), which runs a local server.  ⛔️ Milvus lite is only meant for demos and local testing.\n",
    "- pip install milvus pymilvus\n",
    "\n",
    "💡 **For production purposes**, use a local Milvus docker, Milvus clusters, or fully-managed Milvus on Zilliz Cloud.\n",
    "- [Local Milvus docker](https://milvus.io/docs/install_standalone-docker.md) requires local docker installed and running.\n",
    "- [Milvus clusters](https://milvus.io/docs/install_cluster-milvusoperator.md) requires a K8s cluster up and running.\n",
    "- [Ziliz Cloud free trial](https://cloud.zilliz.com/login) choose a \"free\" option when you provision.\n"
   ]
  },
  {
   "cell_type": "code",
   "execution_count": 3,
   "id": "0806d2db",
   "metadata": {},
   "outputs": [
    {
     "name": "stdout",
     "output_type": "stream",
     "text": [
      "Milvus server startup time: 8.679949045181274 sec\n",
      "v2.2-testing-20230824-68-ga34a9d606-lite\n"
     ]
    }
   ],
   "source": [
    "from milvus import default_server\n",
    "from pymilvus import (\n",
    "    connections, utility, \n",
    "    MilvusClient,\n",
    ")\n",
    "\n",
    "# Cleanup previous data and stop server in case it is still running.\n",
    "default_server.stop()\n",
    "default_server.cleanup()\n",
    "\n",
    "# Start a new milvus-lite local server.\n",
    "start_time = time.time()\n",
    "default_server.start()\n",
    "\n",
    "end_time = time.time()\n",
    "print(f\"Milvus server startup time: {end_time - start_time} sec\")\n",
    "# startup time: 5.6739208698272705\n",
    "\n",
    "# Add wait to avoid error message from trying to connect.\n",
    "time.sleep(15)\n",
    "\n",
    "# Now you could connect with localhost and the given port.\n",
    "# Port is defined by default_server.listen_port.\n",
    "connections.connect(host='127.0.0.1', \n",
    "                  port=default_server.listen_port,\n",
    "                  show_startup_banner=True)\n",
    "\n",
    "# Check if the server is ready.\n",
    "print(utility.get_server_version())"
   ]
  },
  {
   "cell_type": "markdown",
   "id": "b01d6622",
   "metadata": {},
   "source": [
    "## Load the Embedding Model checkpoint and use it to create vector embeddings\n",
    "**Embedding model:**  We will use the open-source [sentence transformers](https://www.sbert.net/docs/pretrained_models.html) hosted on HuggingFace to encode the documentation text.  We will save the embeddings to a pandas dataframe and then into the milvus database.\n",
    "\n",
    "💡 Note:  To keep your tokens private, best practice is to use an env variable.   <br>\n",
    "In Jupyter, need .env file (in same dir as notebooks) containing lines like this:\n",
    "- VARIABLE_NAME=value"
   ]
  },
  {
   "cell_type": "code",
   "execution_count": 4,
   "id": "dd2be7fd",
   "metadata": {},
   "outputs": [
    {
     "name": "stdout",
     "output_type": "stream",
     "text": [
      "device: cpu\n",
      "Token will not been saved to git credential helper. Pass `add_to_git_credential=True` if you want to set the git credential as well.\n",
      "Token is valid (permission: write).\n",
      "Your token has been saved to /Users/christybergman/.cache/huggingface/token\n",
      "Login successful\n",
      "<class 'sentence_transformers.SentenceTransformer.SentenceTransformer'>\n",
      "SentenceTransformer(\n",
      "  (0): Transformer({'max_seq_length': 512, 'do_lower_case': True}) with Transformer model: BertModel \n",
      "  (1): Pooling({'word_embedding_dimension': 768, 'pooling_mode_cls_token': True, 'pooling_mode_mean_tokens': False, 'pooling_mode_max_tokens': False, 'pooling_mode_mean_sqrt_len_tokens': False})\n",
      ")\n",
      "model_name: BAAI/bge-base-en-v1.5\n",
      "EMBEDDING_LENGTH: 768\n",
      "MAX_SEQ_LENGTH: 512\n"
     ]
    }
   ],
   "source": [
    "# Import torch.\n",
    "import torch\n",
    "from torch.nn import functional as F\n",
    "from sentence_transformers import SentenceTransformer\n",
    "\n",
    "# Initialize torch settings\n",
    "torch.backends.cudnn.deterministic = True\n",
    "RANDOM_SEED = 415\n",
    "torch.manual_seed(RANDOM_SEED)\n",
    "DEVICE = torch.device('cuda:3' if torch.cuda.is_available() else 'cpu')\n",
    "print(f\"device: {DEVICE}\")\n",
    "\n",
    "import os\n",
    "from dotenv import load_dotenv, find_dotenv\n",
    "_ = load_dotenv(find_dotenv())\n",
    "from huggingface_hub import login\n",
    "\n",
    "# Login to huggingface_hub\n",
    "hub_token = os.getenv(\"HUGGINGFACEHUB_API_TOKEN\")\n",
    "login(token=hub_token)\n",
    "\n",
    "# Load the model from huggingface model hub.\n",
    "model_name = \"BAAI/bge-base-en-v1.5\"\n",
    "retriever = SentenceTransformer(model_name, device=DEVICE)\n",
    "print(type(retriever))\n",
    "print(retriever)\n",
    "\n",
    "# Get the model parameters and save for later.\n",
    "MAX_SEQ_LENGTH = retriever.get_max_seq_length() \n",
    "HF_EOS_TOKEN_LENGTH = 1\n",
    "EMBEDDING_LENGTH = retriever.get_sentence_embedding_dimension()\n",
    "\n",
    "# Inspect model parameters.\n",
    "print(f\"model_name: {model_name}\")\n",
    "print(f\"EMBEDDING_LENGTH: {EMBEDDING_LENGTH}\")\n",
    "print(f\"MAX_SEQ_LENGTH: {MAX_SEQ_LENGTH}\")"
   ]
  },
  {
   "cell_type": "code",
   "execution_count": 5,
   "id": "dd543a62",
   "metadata": {},
   "outputs": [
    {
     "data": {
      "text/plain": [
       "langchain.embeddings.huggingface.HuggingFaceEmbeddings"
      ]
     },
     "execution_count": 5,
     "metadata": {},
     "output_type": "execute_result"
    }
   ],
   "source": [
    "# Convert the HuggingFace embeddings to a Langchain embeddings.\n",
    "from langchain.embeddings import HuggingFaceEmbeddings\n",
    "\n",
    "model_kwargs = {\"device\": DEVICE}\n",
    "encode_kwargs = {'normalize_embeddings': True}\n",
    "lc_retriever = HuggingFaceEmbeddings(\n",
    "    model_name=model_name,\n",
    "    model_kwargs=model_kwargs,\n",
    "    encode_kwargs=encode_kwargs\n",
    ")\n",
    "type(lc_retriever)"
   ]
  },
  {
   "cell_type": "code",
   "execution_count": 6,
   "id": "6861beb7",
   "metadata": {},
   "outputs": [
    {
     "name": "stdout",
     "output_type": "stream",
     "text": [
      "loaded 15 documents\n"
     ]
    }
   ],
   "source": [
    "## Read docs into LangChain\n",
    "#!pip install langchain \n",
    "from langchain.document_loaders import ReadTheDocsLoader\n",
    "\n",
    "loader = ReadTheDocsLoader(\"rtdocs/pymilvus.readthedocs.io/en/latest/\", features=\"html.parser\")\n",
    "docs = loader.load()\n",
    "\n",
    "num_documents = len(docs)\n",
    "print(f\"loaded {num_documents} documents\")\n",
    "# print(f\"type: {type(docs)}, len: {len(docs)}, type: {type(docs[0])}\")\n",
    "# docs[0]"
   ]
  },
  {
   "cell_type": "markdown",
   "id": "c60423a5",
   "metadata": {},
   "source": [
    "## Chunking\n",
    "\n",
    "Before embedding, it is necessary to decide your chunk strategy, chunk size, and chunk overlap.  In this demo, I will use:\n",
    "- **Strategy** = Naive for now.  TODO use markdown header hierarchies.\n",
    "- **Chunk size** = Use the embedding model's parameter `MAX_SEQ_LENGTH`\n",
    "- **Overlap** = Rule-of-thumb 10-15%\n",
    "- **Function** = Langchain's convenient `RecursiveCharacterTextSplitter` to split up long reviews recursively.\n"
   ]
  },
  {
   "cell_type": "code",
   "execution_count": 7,
   "id": "a751a9bd",
   "metadata": {},
   "outputs": [],
   "source": [
    "from langchain.text_splitter import RecursiveCharacterTextSplitter\n",
    "\n",
    "def recursive_splitter_wrapper(text, chunk_size):\n",
    "\n",
    "    # Default chunk overlap is 10% chunk_size.\n",
    "    chunk_overlap = np.round(chunk_size * 0.10, 0)\n",
    "\n",
    "    # Use langchain's convenient recursive chunking method.\n",
    "    text_splitter = RecursiveCharacterTextSplitter(\n",
    "        chunk_size=chunk_size,\n",
    "        chunk_overlap=chunk_overlap,\n",
    "        length_function=len,\n",
    "    )\n",
    "    \n",
    "    chunks = text_splitter.split_text(text)\n",
    "    return [chunk for chunk in chunks if chunk]\n"
   ]
  },
  {
   "cell_type": "code",
   "execution_count": 8,
   "id": "a53595fa",
   "metadata": {},
   "outputs": [
    {
     "name": "stdout",
     "output_type": "stream",
     "text": [
      "chunking time: 0.002679109573364258\n",
      "type: list of <class 'langchain.schema.document.Document'>, len: 197\n",
      "\n",
      "Looking at a sample chunk...\n",
      "{'source': 'rtdocs/pymilvus.readthedocs.io/en/latest/install.html'}\n",
      "Installation¶\n",
      "Installing via pip¶\n",
      "PyMilvus is in the Python Package Index.\n",
      "PyMilvus only support pyt\n"
     ]
    }
   ],
   "source": [
    "# Use the embedding model parameters to calculate chunk_size and overlap.\n",
    "chunk_size = MAX_SEQ_LENGTH - HF_EOS_TOKEN_LENGTH\n",
    "# Default chunk overlap is 10% chunk_size.\n",
    "chunk_overlap = np.round(chunk_size * 0.10, 0)\n",
    "\n",
    "# Use recursive splitter to chunk text.\n",
    "start_time = time.time()\n",
    "text_splitter = RecursiveCharacterTextSplitter(\n",
    "    chunk_size = chunk_size,\n",
    "    chunk_overlap = chunk_overlap,\n",
    "    length_function = len,\n",
    ")\n",
    "\n",
    "chunks = text_splitter.create_documents(\n",
    "    [doc.page_content for doc in docs], \n",
    "    metadatas=[doc.metadata for doc in docs])\n",
    "\n",
    "end_time = time.time()\n",
    "print(f\"chunking time: {end_time - start_time}\")\n",
    "# print(f\"type: {type(chunks)}, len: {len(chunks)}, type: {type(chunks[0])}\")\n",
    "print(f\"type: list of {type(chunks[0])}, len: {len(chunks)}\") \n",
    "\n",
    "print()\n",
    "print(\"Looking at a sample chunk...\")\n",
    "print(chunks[0].metadata)\n",
    "print(chunks[0].page_content[:100])\n"
   ]
  },
  {
   "cell_type": "code",
   "execution_count": 9,
   "id": "512130a3",
   "metadata": {},
   "outputs": [
    {
     "name": "stdout",
     "output_type": "stream",
     "text": [
      "{'source': 'https://pymilvus.readthedocs.io/en/latest/install.html'}\n",
      "Installation¶\n",
      "Installing via pip¶\n",
      "PyMilvus is in the Python Package Index.\n",
      "PyMilvus only support python3(>= 3.6), usually, it’s ok to install PyMilvus like below.\n",
      "$ python3 -m pip install pymilvus\n",
      "Installing in a virtual environment¶\n",
      "It’s recommended to use PyMilvus in a virtual environment, using virtual environment allows you to avoid\n",
      "installing Python packages globally which could break system tools or other projects.\n"
     ]
    }
   ],
   "source": [
    "# Clean up the metadata urls\n",
    "for doc in chunks:\n",
    "    new_url = doc.metadata[\"source\"]\n",
    "    new_url = new_url.replace(\"rtdocs\", \"https:/\")\n",
    "    doc.metadata.update({\"source\": new_url})\n",
    "\n",
    "print(chunks[0].metadata)\n",
    "print(chunks[0].page_content[:500])"
   ]
  },
  {
   "cell_type": "markdown",
   "id": "d9bd8153",
   "metadata": {},
   "source": [
    "## Insert data into Milvus\n",
    "\n",
    "The code below uses the [Langchain Milvus](https://api.python.langchain.com/en/latest/_modules/langchain/vectorstores/milvus.html#Milvus) adapter.  \n",
    "- Default index is AUTOINDEX. <br>\n",
    "💡 AUTOINDEX works on both Milvus and Zilliz Cloud (where it is the fastest!)\n",
    "- collection_name is \"LangChainCollection\".\n",
    "- Schema is \n",
    "  - pk (str): Name of the primary key field.\n",
    "  - text (str): Name of the text field.\n",
    "  - vector (str): Name of the vector field. \n"
   ]
  },
  {
   "cell_type": "code",
   "execution_count": 10,
   "id": "b51ff139",
   "metadata": {},
   "outputs": [
    {
     "name": "stdout",
     "output_type": "stream",
     "text": [
      "Start inserting entities\n",
      "Langchain Milvus insert time for 197 vectors: 12.399992942810059 seconds\n",
      "type: <class 'langchain.vectorstores.milvus.Milvus'>\n"
     ]
    }
   ],
   "source": [
    "# Insert a batch of data into the Milvus collection.\n",
    "from langchain.vectorstores import Milvus\n",
    "MILVUS_PORT = 19530\n",
    "MILVUS_HOST = \"127.0.0.1\"\n",
    "\n",
    "print(\"Start inserting entities\")\n",
    "start_time = time.time()\n",
    "\n",
    "vector_store = Milvus.from_documents(\n",
    "    chunks,\n",
    "    embedding=lc_retriever,\n",
    "    connection_args={\"host\": MILVUS_HOST, \n",
    "                     \"port\": MILVUS_PORT},\n",
    ")\n",
    "\n",
    "end_time = time.time()\n",
    "print(f\"Langchain Milvus insert time for {len(chunks)} vectors: {end_time - start_time} seconds\")\n",
    "print(f\"type: {type(vector_store)}\")\n"
   ]
  },
  {
   "cell_type": "markdown",
   "id": "4ebfb115",
   "metadata": {},
   "source": [
    "## Run a Semantic Search\n",
    "\n",
    "Now we can search all the documentation embeddings to find the `TOP_K` documentation chunks with the closest embeddings to a user's query.\n",
    "- In this example, we'll ask about AUTOINDEX.\n",
    "\n",
    "💡 The same model should always be used for consistency for all the embeddings."
   ]
  },
  {
   "cell_type": "code",
   "execution_count": 11,
   "id": "eb7bc132",
   "metadata": {},
   "outputs": [],
   "source": [
    "# .load() not needed when using no-schema Milvus client.\n",
    "\n",
    "# # Before conducting a search based on a query, you need to load the data into memory.\n",
    "# mc.load()\n",
    "# print(\"Loaded milvus collection into memory.\")"
   ]
  },
  {
   "cell_type": "markdown",
   "id": "02c589ff",
   "metadata": {},
   "source": [
    "## Ask a question about your data\n",
    "\n",
    "So far in this demo notebook: \n",
    "1. Your custom data has been mapped into a vector embedding space\n",
    "2. Those vector embeddings have been saved into a vector database\n",
    "\n",
    "Next, you can ask a question about your custom data!\n",
    "\n",
    "💡 In LLM lingo:\n",
    "> **Query** is the generic term for user questions.  \n",
    "A query is a list of multiple individual questions, up to maybe 1000 different questions!\n",
    "\n",
    "> **Question** usually refers to a single user question.  \n",
    "In our example below, the user question is \"What is AUTOINDEX in Milvus Client?\""
   ]
  },
  {
   "cell_type": "code",
   "execution_count": 54,
   "id": "5e7f41f4",
   "metadata": {},
   "outputs": [
    {
     "name": "stdout",
     "output_type": "stream",
     "text": [
      "query length: 47\n"
     ]
    }
   ],
   "source": [
    "# Define a sample question about your data.\n",
    "question = 'What is the default AUTOINDEX in Milvus Client?'\n",
    "query = [question]\n",
    "\n",
    "# Inspect the length of the query.\n",
    "QUERY_LENGTH = len(query[0])\n",
    "print(f\"query length: {QUERY_LENGTH}\")"
   ]
  },
  {
   "cell_type": "markdown",
   "id": "fa545611",
   "metadata": {},
   "source": [
    "**Embed the question using the same embedding model you used earlier**\n",
    "\n",
    "In order for vector search to work, the question itself should be embedded with the same model used to create the colleciton you want to search."
   ]
  },
  {
   "cell_type": "markdown",
   "id": "9ea29411",
   "metadata": {},
   "source": [
    "## Execute a vector search\n",
    "\n",
    "Search Milvus using [PyMilvus API](https://milvus.io/docs/search.md).\n",
    "\n",
    "💡 By their nature, vector searches are \"semantic\" searches.  For example, if you were to search for \"leaky faucet\": \n",
    "> **Traditional Key-word Search** - either or both words \"leaky\", \"faucet\" would have to match some text in order to return a web page or link text to the document.\n",
    "\n",
    "> **Semantic search** - results containing words \"drippy\" \"taps\" would be returned as well because these words mean the same thing even though they are different words,"
   ]
  },
  {
   "cell_type": "code",
   "execution_count": 55,
   "id": "89642119",
   "metadata": {},
   "outputs": [
    {
     "name": "stdout",
     "output_type": "stream",
     "text": [
      "Milvus query time: 0.08918285369873047\n",
      "source: {'source': 'https://pymilvus.readthedocs.io/en/latest/genindex.html'}\n",
      "['Index\\nA\\n | C\\n | D\\n | F\\n | G\\n | H\\n | I\\n | J\\n | L\\n | M\\n | R\\n | S\\n | T\\nA\\nANNOY (milvus.IndexType attribute)\\nC\\ncompact() (milvus.Milvus method)\\ncount_entities() (milvus.Milvus method)\\ncreate_collection() (milvus.Milvus method)\\ncreate_index() (milvus.Milvus method)\\ncreate_partition() (milvus.Milvus method)\\nD\\ndelete_entity_by_id() (milvus.Milvus method)\\ndrop_collection() (milvus.Milvus method)\\ndrop_index() (milvus.Milvus method)\\ndrop_partition() (milvus.Milvus method)\\nF\\nFLAT (milvus.IndexType attribute)', 'Source code for milvus.client.stub\\n# -*- coding: UTF-8 -*-\\nimport collections\\nimport copy\\nimport functools\\nimport logging\\nfrom urllib.parse import urlparse\\nfrom . import __version__\\nfrom .types import IndexType, MetricType, Status\\nfrom .check import check_pass_param, is_legal_host, is_legal_port\\nfrom .pool import ConnectionPool, SingleConnectionPool, SingletonThreadPool\\nfrom .exceptions import ParamError, DeprecatedError\\nfrom ..settings import DefaultConfig as config\\nLOGGER = logging.getLogger(__name__)', 'Index¶\\nMilvus support to create index to accelerate vector approximate search.\\nTo learn how to create an index by python client, see method create_index() and\\nindex example .\\nFor more detailed information about indexes, please refer to Milvus documentation index chapter.\\nTo learn how to choose an appropriate index for your application scenarios, please read How to Select an Index in Milvus.\\nTo learn how to choose an appropriate index for a metric, see Distance Metrics.\\nVector Index¶\\nFLAT\\nIVF_FLAT\\nIVF_SQ8', 'F\\nFLAT (milvus.IndexType attribute)\\nflush() (milvus.Milvus method)\\nG\\nget_collection_info() (milvus.Milvus method)\\nget_collection_stats() (milvus.Milvus method)\\nget_entity_by_id() (milvus.Milvus method)\\nget_index_info() (milvus.Milvus method)\\nH\\nHAMMING (milvus.MetricType attribute)\\nhas_collection() (milvus.Milvus method)\\nhas_partition() (milvus.Milvus method)\\nHNSW (milvus.IndexType attribute)\\nI\\nIndexType (class in milvus)\\ninsert() (milvus.Milvus method)\\nINVALID (milvus.IndexType attribute)', 'Source code for milvus.client.types\\nfrom enum import IntEnum\\nclass Status:\\n    \"\"\"\\n    :attribute code: int (optional) default as ok\\n    :attribute message: str (optional) current status message\\n    \"\"\"\\n    SUCCESS = 0\\n    UNEXPECTED_ERROR = 1\\n    CONNECT_FAILED = 2\\n    PERMISSION_DENIED = 3\\n    COLLECTION_NOT_EXISTS = 4\\n    ILLEGAL_ARGUMENT = 5\\n    ILLEGAL_RANGE = 6\\n    ILLEGAL_DIMENSION = 7\\n    ILLEGAL_INDEX_TYPE = 8\\n    ILLEGAL_COLLECTION_NAME = 9\\n    ILLEGAL_TOPK = 10\\n    ILLEGAL_ROWRECORD = 11', \"You have a running Milvus instance.\\nPyMilvus is correctly installed.\\nConnect to Milvus¶\\nFirst of all, we need to import PyMilvus.\\n>>> from milvus import Milvus, DataType, MetricType\\nThen, we can make connection with Milvus server.\\nBy default Milvus runs on localhost in port 19530, so you can use default value to connect to Milvus.\\n>>> host = '127.0.0.1'\\n>>> port = '19530'\\n>>> client = Milvus(host, port)\\nAfter connecting, we can communicate with Milvus in the following ways. If you are confused about the\", '[docs]class Milvus:\\n    def __init__(self, host=None, port=None, handler=\"GRPC\", pool=\"SingletonThread\", **kwargs):\\n        \"\"\"Constructor method\\n        \"\"\"\\n        self._name = kwargs.get(\\'name\\', None)\\n        self._uri = None\\n        self._status = None\\n        self._connected = False\\n        self._handler = handler\\n        #\\n        self._conn = None\\n        _uri = kwargs.get(\\'uri\\', None)\\n        pool_uri = _set_uri(host, port, _uri, self._handler)', '>>> film_A = [random.random() for _ in range(8)]\\n>>> status, results = client.search(collection_name, 2, [film_A])\\nNote\\nIf the collection is index-built, user need to specify search param, and pass parameter params like: client.search(…, params={…}).\\nYou can refer to Index params for more details.\\nNote\\nIf parameter partition_tags is specified, milvus executes search request on these partition instead of whole collection.', \"chapter of the PyMilvus documentation.\\nFurther more, if you want to get a thorough view of indexes, check our official website for\\nVector Index.\\nCreate Partition¶\\nIf you don’t create a partition, there will be a default one called “_default”, all the entities will be\\ninserted into the “_default” partition. You can check it by list_partitions()\\n>>> client.list_partitions(collection_name)\\n(Status(code=0, message='Success'), [(collection_name='demo_film_tutorial', tag='_default')])\", \">>> info.collection_name\\n'demo_film_tutorial'\\n>>> info.dimension\\n8\\n>>> info.index_file_size\\n2048\\n>>> info.metric_type\\n<MetricType: L2>\\nThis tutorial is a basic intro tutorial, building index won’t be covered by this tutorial.\\nIf you want to go further into Milvus with indexes, it’s recommended to check our\\nindex examples.\\nIf you’re already known about indexes from index examples, and you want a full lists of params supported\\nby PyMilvus, you check out Index\\nchapter of the PyMilvus documentation.\", 'INVALID (milvus.IndexType attribute)\\n(milvus.MetricType attribute)\\nIP (milvus.MetricType attribute)\\nIVF_FLAT (milvus.IndexType attribute)\\nIVF_PQ (milvus.IndexType attribute)\\nIVF_SQ8 (milvus.IndexType attribute)\\nIVF_SQ8_H (milvus.IndexType attribute)\\nIVF_SQ8H (milvus.IndexType attribute)\\nIVFLAT (milvus.IndexType attribute)\\nJ\\nJACCARD (milvus.MetricType attribute)\\nL\\nL2 (milvus.MetricType attribute)\\nlist_collections() (milvus.Milvus method)\\nlist_id_in_segment() (milvus.Milvus method)', 'nlist: Number of cluster units.\\nm: Number of factors of product quantization. CPU-only Milvus: m ≡ dim (mod m); GPU-enabled Milvus: m ∈ {1, 2, 3, 4, 8, 12, 16, 20, 24, 28, 32, 40, 48, 56, 64, 96}, and (dim / m) ∈ {1, 2, 3, 4, 6, 8, 10, 12, 16, 20, 24, 28, 32}. (m x 1024) ≥ MaxSharedMemPerBlock of your graphics card.\\nnbits: Number of bits in which each low-dimensional vector is stored.\\n# IVF_PQ\\nclient.create_index(collection_name,\\n                    IndexType.IVF_PQ,\\n                    {', 'list_id_in_segment() (milvus.Milvus method)\\nlist_partitions() (milvus.Milvus method)\\nload_collection() (milvus.Milvus method)\\nM\\nMetricType (class in milvus)\\nMilvus (class in milvus)\\nR\\nrelease_collection() (milvus.Milvus method)\\nRNSG (milvus.IndexType attribute)\\nS\\nsearch() (milvus.Milvus method)\\nSUBSTRUCTURE (milvus.MetricType attribute)\\nSUPERSTRUCTURE (milvus.MetricType attribute)\\nT\\nTANIMOTO (milvus.MetricType attribute)', \"API reference¶\\nClient¶\\nConstructor¶\\nConstructor\\nDescription\\nMilvus()\\nMilvus client\\nMethods¶\\nAPIs¶\\nclass milvus.Milvus(host=None, port=None, handler='GRPC', pool='SingletonThread', **kwargs)[source]¶\\ncreate_collection(param, timeout=30)[source]¶\\nCreates a collection.\\nParameters\\nparam (dict) – Information needed to create a collection. It contains items:\\ncollection_name (str) – Collection name.\\ndimension (int) – Dimension of embeddings stored in collection.\\nindex_file_size (int) – Segment size. See\", 'All modules for which code is available\\nmilvus.client.stub\\nmilvus.client.types', 'Warning\\nIf the first time when insert() is invoked ids is not passed into this method, each of the rest time\\nwhen inset() is invoked ids is not permitted to pass, otherwise server will return an error and the\\ninsertion process will fail. And vice versa.\\nFlush¶\\nAfter successfully inserting 3 entities into Milvus, we can Flush data from memory to disk so that we can\\nretrieve them. Milvus also performs an automatic flush with a fixed interval(configurable, default 1 second),\\nsee Data Flushing.', ':return:\\n           Status: Whether the operation is successful.\\n           str : Version of the Milvus server.\\n        :rtype: (Status, str)\\n        \"\"\"\\n        return self._cmd(\"version\", timeout)\\n    @check_connect\\n    def _cmd(self, cmd, timeout=30):\\n        check_pass_param(cmd=cmd)\\n        with self._connection() as handler:\\n            return handler._cmd(cmd, timeout)\\n[docs]    @check_connect\\n    def create_collection(self, param, timeout=30):\\n        \"\"\"\\n        Creates a collection.', ':rtype: (str)\\n        \"\"\"\\n        return __version__\\n    def server_status(self, timeout=30):\\n        \"\"\"\\n        Returns the status of the Milvus server.\\n        :return:\\n            Status: Whether the operation is successful.\\n            str : Status of the Milvus server.\\n        :rtype: (Status, str)\\n        \"\"\"\\n        return self._cmd(\"status\", timeout)\\n    def server_version(self, timeout=30):\\n        \"\"\"\\n        Returns the version of the Milvus server.\\n        :return:', \"* *metric_type* (``MetricType``) -- Distance Metrics type. Valued form\\n              :class:`~milvus.MetricType`. See\\n              `Distance Metrics <https://milvus.io/docs/v1.0.0/metric.md>`_.\\n            A demo is as follow:\\n            .. code-block:: python\\n                param={'collection_name': 'name',\\n                   'dimension': 16,\\n                   'index_file_size': 1024 # Optional, default 1024，\", 'Welcome to PyMilvus’s documentation!¶\\nOverview¶\\nPyMilvus is a python SDK for Milvus and is a recommended way to work with Milvus. This documentation covers\\nevery thing you need to know about PyMilvus.\\nInstallationInstructions on how to install PyMilvus.\\nTutorialA quick start to use PyMilvus.\\nAPI referenceThe complete API documentation.\\nIndexIndex and relevant parameters.\\nSearch resultsHow to deal with search results.\\nChangelogChanges in the latest PyMilvus.', 'params = params or dict()\\n        if not isinstance(params, dict):\\n            raise ParamError(\"Params must be a dictionary type\")\\n        with self._connection() as handler:\\n            return handler.create_index(collection_name, _index_type, params, timeout, **kwargs)\\n[docs]    @check_connect\\n    def get_index_info(self, collection_name, timeout=30):\\n        \"\"\"\\n        Show index information of a collection.\\n        :type collection_name: str', \"terminology, see Milvus Terminology for explanations.\\nCollection¶\\nNow let’s create a new collection. Before we start, we can list all the collections already exist. For a brand\\nnew Milvus running instance, the result should be empty.\\n>>> client.list_collections()\\n(Status(code=0, message='Show collections successfully!'), [])\\nCreate Collection¶\\nTo create collection, we need to provide collection parameters.\\ncollection_param consists of 4 components, they are collection_name, dimension, index_file_size\", 'metric_type:Milvus compute distance between two vectors, you can refer to Distance Metrics\\nfor more information.\\nNow we can create a collection:\\n>>> collection_name = \\'demo_film_tutorial\\'\\n>>> collection_param = {\\n...     \"collection_name\": collection_name,\\n...     \"dimension\": 8,\\n...     \"index_file_size\": 2048,\\n...     \"metric_type\": MetricType.L2\\n... }\\n>>> client.create_collection(collection_param)\\nStatus(code=0, message=\\'Create collection successfully!\\')', 'def get_config(self, parent_key, child_key):\\n        \"\"\"\\n        Gets Milvus configurations.\\n        \"\"\"\\n        cmd = \"get_config {}.{}\".format(parent_key, child_key)\\n        return self._cmd(cmd)\\n    def set_config(self, parent_key, child_key, value):\\n        \"\"\"\\n        Sets Milvus configurations.\\n        \"\"\"\\n        cmd = \"set_config {}.{} {}\".format(parent_key, child_key, value)\\n        return self._cmd(cmd)', 'If you want to run unit test locally, under root folder of Pymilvus project run pytest –ip=${IP} –port=${PORT}.\\n3. Pass pylint check\\nIn the root directory, run pylint --rcfile=pylint.conf milvus/client to make sure the rate is 10.\\n4. For documentations\\nYou need to enter the doc directory and run make html, please refer to\\nAbout this documentations.\\nSection author: Yangxuan@milvus', 'Tutorial¶\\nThis is a basic introduction to Milvus by PyMilvus.\\nFor a runnable python script,\\ncheckout example.py on PyMilvus Github,\\nor hello milvus on Milvus official website. It’s a good recommended\\nstart to get started with Milvus and PyMilvus as well.\\nNote\\nHere we use float vectors as example vector field data, if you want to learn example about binary vectors, see\\nbinary vector example.\\nPrerequisites¶\\nBefore we start, there are some prerequisites.\\nMake sure that:\\nYou have a running Milvus instance.', 'and metric_type.\\ncollection_name:The name of collection should be a unique string to collections already exist.\\ndimension:For a float vector, dimension should be equal to the length of a vector; for a binary vector, dimension should\\nbe equal to bit size of a vector.\\nindex_file_size:Milvus controls the size of data segment according to the index_file_size, you can refer to\\nStorage Concepts for more information about segments and index_file_size.', 'If status is not OK, the returned IDs is always [].\\nReturn type\\nStatus, list[int]\\ncreate_index(collection_name, index_type=None, params=None, timeout=None, **kwargs)[source]¶\\nCreates index for a collection.\\nParameters\\ncollection_name (str) – Collection used to create index.\\nindex_type (IndexType) – index params. See index params for supported indexes.\\nparams (dict) – Index param. See index params for detailed index param of\\nsupported indexes.', 'IVF_PQ = 6\\n    #: HNSW index. See `HNSW <https://milvus.io/docs/v1.0.0/index.md#HNSW>`_.\\n    HNSW = 11\\n    #: ANNOY index. See `ANNOY <https://milvus.io/docs/v1.0.0/index.md#ANNOY>`_.\\n    ANNOY = 12\\n    #: Alternative name for `IVF_FLAT`. Reserved for compatibility.\\n    IVFLAT = IVF_FLAT\\n    #: Alternative name for `IVF_SQ8H`. Reserved for compatibility.\\n    IVF_SQ8_H = IVF_SQ8H\\n    def __repr__(self):\\n        return \"<{}: {}>\".format(self.__class__.__name__, self._name_)\\n    def __str__(self):', ':rtype: Status, list[int]\\n        \"\"\"\\n        check_pass_param(collection_name=collection_name)\\n        check_pass_param(collection_name=segment_name)\\n        with self._connection() as handler:\\n            return handler.get_vector_ids(collection_name, segment_name, timeout)\\n[docs]    @check_connect\\n    def create_index(self, collection_name, index_type=None, params=None, timeout=None, **kwargs):\\n        \"\"\"\\n        Creates index for a collection.', '# IVF_SQ8\\nclient.create_index(collection_name,\\n                    IndexType.IVF_SQ8,\\n                    {\\n                      \"nlist\": 100      # int. 1~65536\\n                    }\\n)\\nsearch parameters:\\nnprobe: Number of inverted file cell to probe.\\n# IVF_SQ8\\nclient.search(collection_name,\\n              1,\\n              query_vectors,\\n              params={\\n                \"nprobe\": 8       # int. 1~nlist(cpu), 1~min[2048, nlist](gpu)\\n              }\\n)\\nIVF_SQ8_H¶', 'takes effect when _async is set to True.\\nReturns\\nThe operation status. Succeed if Status.OK() is True.\\nReturn type\\nStatus\\nget_index_info(collection_name, timeout=30)[source]¶\\nShow index information of a collection.\\nParameters\\ncollection_name (str) – table name been queried\\ntimeout (float) – An optional duration of time in seconds to allow for the RPC. When timeout\\nis set to None, client waits until server responses or error occurs.\\nReturns', 'You can provide a partition tag to create a new partition.\\n>>> client.create_partition(collection_name, \"films\")\\nStatus(code=0, message=\\'OK\\')\\n>>> client.list_partitions(collection_name)\\n(Status(code=0, message=\\'Success\\'), [(collection_name=\\'demo_film_tutorial\\', tag=\\'_default\\'), (collection_name=\\'demo_film_tutorial\\', tag=\\'films\\')])\\nEntities¶\\nAn entity is a group of fields that corresponds to real world objects. In current version, Milvus only contains a vector field.', 'IVF_FLAT = 2\\n    #: IVF SQ8 index. See `IVF_SQ8 <https://milvus.io/docs/v1.0.0/index.md#IVF_SQ8>`_.\\n    IVF_SQ8 = 3\\n    #: RNSG(Refined NSG) index. See `RNSG <https://milvus.io/docs/v1.0.0/index.md#RNSG>`_.\\n    RNSG = 4\\n    #: IVF SQ8 Hybrid index. See `IVF_SQ8H <https://milvus.io/docs/v1.0.0/index.md#IVF_SQ8H>`_.\\n    IVF_SQ8H = 5\\n    #: IVF PQ index. See `IVF_PQ <https://milvus.io/docs/v1.0.0/index.md#IVF_PQ>`_.\\n    IVF_PQ = 6', 'In addition, you can use efConstruction (when building index) or ef (when searching targets) to specify a search range.\\nbuilding parameters:\\nM: Maximum degree of the node.\\nefConstruction: Take the effect in stage of index construction.\\n# HNSW\\nclient.create_index(collection_name,\\n                    IndexType.HNSW,\\n                    {\\n                      \"M\": 16,              # int. 4~64\\n                      \"efConstruction\": 40  # int. 8~512\\n                    }\\n)\\nsearch parameters:', 'ChangelogChanges in the latest PyMilvus.\\nContributingMethod of contribution, bug shooting and contribution guide.\\nFAQSome questions that come up often.\\nAbout this documentationHow this documentation is generated.\\nSection author: Bosszou@milvus,\\nGodchen@milvus,\\nYangxuan@milvus', 'TANIMOTO = 5\\n    #: Superstructure. A metric for binary vectors,\\n    #: only support :attr:`~milvus.IndexType.FLAT` index.\\n    #: See `Superstructure <https://milvus.io/docs/v1.0.0/metric.md#Superstructure>`_.\\n    SUBSTRUCTURE = 6\\n    #: Substructure. A metric for binary vectors, only support :attr:`~milvus.IndexType.FLAT` index.\\n    #: See `Substructure <https://milvus.io/docs/v1.0.0/metric.md#Substructure>`_.\\n    SUPERSTRUCTURE = 7\\n    def __repr__(self):', 'partition_tags, params, timeout, **kwargs)\\n    @check_connect\\n    def search_in_segment(self, collection_name, file_ids, query_records, top_k,\\n                          params=None, timeout=None, **kwargs):\\n        \"\"\"\\n        Searches for vectors in specific segments of a collection.\\n        This API is not recommended for users.\\n        The Milvus server stores vector data into multiple files. Searching for vectors in specific', 'when the number of queries is small.\\nThe inserted and index-inbuilt vectors and index-dropped vectors are regard as built with FLAT.\\nbuilding parameters:\\nN/A\\n# FLAT\\nclient.create_index(collection_name, IndexType.FLAT)\\nsearch parameters:\\nN/A\\n# FLAT\\nclient.search(collection_name,\\n              1,\\n              query_vectors\\n)\\nIVF_FLAT¶\\nIVF (Inverted File) is an index type based on quantization. It divides the points in space into nlist', 'supported indexes.\\ntimeout (float) – An optional duration of time in seconds to allow for the RPC. When timeout\\nis set to None, client waits until server responses or error occurs.\\nkwargs – \\n_async (bool) –\\nIndicate if invoke asynchronously. When value is true, method returns a IndexFuture\\nobject; otherwise, method returns results from server.\\n_callback (function) –\\nThe callback function which is invoked after server response successfully. It only\\ntakes effect when _async is set to True.\\nReturns', \"index_file_size (int) – Segment size. See\\nStorage Concepts.\\nmetric_type (MetricType) – Distance Metrics type. Valued form\\nMetricType. See\\nDistance Metrics.\\nA demo is as follow:\\nparam={'collection_name': 'name',\\n   'dimension': 16,\\n   'index_file_size': 1024 # Optional, default 1024，\\n   'metric_type': MetricType.L2 # Optional, default MetricType.L2\\n  }\\ntimeout (float) – An optional duration of time in seconds to allow for the RPC. When timeout\", 'Returns\\nThe operation status and index info. Succeed if Status.OK() is True.\\nIf status is not OK, the returned index info is always None.\\nReturn type\\nStatus, IndexParam\\ndrop_index(collection_name, timeout=30)[source]¶\\nRemoves an index.\\nParameters\\ncollection_name (str) – target collection name.\\ntimeout (float) – An optional duration of time in seconds to allow for the RPC. When timeout\\nis set to None, client waits until server responses or error occurs.\\nReturns', 'Changelog¶\\nv1.0.2(Developing)\\nv1.0.1\\nRemove unused hybrid APIs\\nSection author: Bosszou@milvus', 'def __ne__(self, other):\\n        return self != other\\n    def OK(self):\\n        return self.code == Status.SUCCESS\\n[docs]class IndexType(IntEnum):\\n    \"\"\"Index type enum.\\n    \"\"\"\\n    #: Invalid index type.\\n    INVALID = 0\\n    #: FLAT index. See `FLAT <https://milvus.io/docs/v1.0.0/index.md#FLAT>`_.\\n    FLAT = 1\\n    #: IVF(Inverted File) FLAT index.\\n    #: See `IVF_FLAT <https://milvus.io/docs/v1.0.0/index.md#IVF_FLAT>`_.\\n    IVF_FLAT = 2', 'IVF_SQ8 = 3¶\\nIVF SQ8 index. See IVF_SQ8.\\nRNSG = 4¶\\nRNSG(Refined NSG) index. See RNSG.\\nIVF_SQ8H = 5¶\\nIVF SQ8 Hybrid index. See IVF_SQ8H.\\nIVF_PQ = 6¶\\nIVF PQ index. See IVF_PQ.\\nHNSW = 11¶\\nHNSW index. See HNSW.\\nANNOY = 12¶\\nANNOY index. See ANNOY.\\nIVFLAT = 2¶\\nAlternative name for IVF_FLAT. Reserved for compatibility.\\nIVF_SQ8_H = 5¶\\nAlternative name for IVF_SQ8H. Reserved for compatibility.\\nMetric Type¶\\nclass milvus.MetricType[source]¶\\nMetric type enum.\\nINVALID = 0¶\\nInvalid metric type.\\nL2 = 1¶', 'Deletes vectors in a collection by vector ID.\\nParameters\\ncollection_name (str) – Name of the collection.\\nid_array (list[int]) – list of vector id\\ntimeout (float) – An optional duration of time in seconds to allow for the RPC. When timeout\\nis set to None, client waits until server responses or error occurs.\\npartition_tag (str) – The partition tag of entity\\nReturns\\nThe operation status. If the specified ID doesn’t exist, Milvus server skip it', '\"\"\"\\n        Creates a collection.\\n        :type  param: dict\\n        :param param: Information needed to create a collection. It contains items:\\n            * *collection_name* (``str``) -- Collection name.\\n            * *dimension* (``int``) -- Dimension of embeddings stored in collection.\\n            * *index_file_size* (``int``) -- Segment size. See\\n              `Storage Concepts <https://milvus.io/docs/v1.0.0/storage_concept.md>`_.', 'partition_tags (list) – tags to search. None indicates to search in whole collection.\\nparams (dict) – Search params. The params is related to index type the collection is built.\\nSee index params for more detailed information.\\ntimeout (float) – An optional duration of time in seconds to allow for the RPC. When timeout\\nis set to None, client waits until server responses or error occurs.\\nkwargs – \\n_async (bool) –\\nIndicate if invoke asynchronously. When value is true, method returns a SearchFuture', 'Creates index for a collection.\\n        :param collection_name: Collection used to create index.\\n        :type collection_name: str\\n        :param index_type: index params. See `index params <param.html>`_ for supported indexes.\\n        :type index_type: IndexType\\n        :param params: Index param. See `index params <param.html>`_ for detailed index param of\\n                       supported indexes.\\n        :type params: dict', 'if \\'dimension\\' not in collection_param:\\n            raise ParamError(\\'dimension is required\\')\\n        dim = collection_param[\"dimension\"]\\n        collection_param.pop(\"dimension\")\\n        index_file_size = collection_param.get(\\'index_file_size\\', 1024)\\n        collection_param.pop(\\'index_file_size\\', None)\\n        metric_type = collection_param.get(\\'metric_type\\', MetricType.L2)\\n        collection_param.pop(\\'metric_type\\', None)\\n        check_pass_param(collection_name=collection_name, dimension=dim,', ':type  query_records: list[list[float]]\\n        :param top_k: how many similar vectors will be searched\\n        :type  top_k: int\\n        :param params: Search params. The params is related to index type the collection is built.\\n                       See <a></a> for more detailed information.\\n        :type  params: dict\\n        :param timeout: An optional duration of time in seconds to allow for the RPC. When timeout', 'raise ParamError(\"uri is illegal: {}\".format(e))\\n    else:\\n        raise ParamError(\"Param is not complete. Please invoke as follow:\\\\n\"\\n                         \"\\\\t(host = ${HOST}, port = ${PORT})\\\\n\"\\n                         \"\\\\t(uri = ${URI})\\\\n\")\\n    if not is_legal_host(_host) or not is_legal_port(_port):\\n        raise ParamError(\"host {} or port {} is illegal\".format(_host, _port))\\n    return \"{}://{}:{}\".format(str(_proto), str(_host), str(_port))\\n[docs]class Milvus:', '$ python3 -m http.server\\nThen open your browser to http://localhost:8000.\\nSection author: Bosszou@milvus', 'The returned results is a 2-D like structure, 1 for 1 entity querying, 2 for top 2. For more clarity, we obtain\\nthe film as below. If you want to know how to deal with search result in a better way, you can refer to\\nsearch result in PyMilvus doc.\\n>>> result = results[0]\\n>>> film_1 = result[0]\\n>>> film_2 = result[1]\\nThen how do we get ids, distances and fields? It’s as below.\\nNote\\nBecause vectors are randomly generated, so the retrieved vector id and distance may differ.\\n>>> film_1.id  # id', '\"\"\"\\n        check_pass_param(collection_name=collection_name, topk=top_k, records=query_records)\\n        if partition_tags is not None:\\n            check_pass_param(partition_tag_array=partition_tags)\\n        params = dict() if params is None else params\\n        if not isinstance(params, dict):\\n            raise ParamError(\"Params must be a dictionary type\")\\n        with self._connection() as handler:\\n            return handler.search(collection_name, top_k, query_records,', 'is set to None, client waits until server responses or error occurs.\\n        :type  timeout: float\\n        :return: The operation status and collection name list. Succeed if `Status.OK()` is `True`.\\n                 If status is not OK, the returned name list is always `[]`.\\n        :rtype: Status, list[str]\\n        \"\"\"\\n        with self._connection() as handler:\\n            return handler.show_collections(timeout)\\n[docs]    @check_connect', \">>> film_1.id  # id\\n1615279498011637002\\n>>> film_1.distance  # distance\\n1.0709768533706665\\nDeletion¶\\nFinally, let’s move on to deletion in Milvus.\\nWe can delete entities by ids, drop a whole partition, or drop the entire collection.\\nDelete Entities by id¶\\nYou can delete entities by their ids.\\n>>> client.delete_entity_by_id(collection_name, [0, 1615279498011637002])\\nStatus(code=0, message='OK')\\nNote\\nIf one entity corresponding to a specified id doesn’t exist, milvus ignore it and execute next deletion.\", 'Verifying installation¶\\nYour installation is correct if the following command in the Python shell doesn’t raise an exception.\\n(venv) $ python -c \"from milvus import Milvus, DataType\"\\nSection author: Yangxuan@milvus', 'index_file_size=index_file_size, metric_type=metric_type)\\n        with self._connection() as handler:\\n            return handler.create_collection(collection_name, dim, index_file_size,\\n                                             metric_type, collection_param, timeout)\\n[docs]    @check_connect\\n    def has_collection(self, collection_name, timeout=30):\\n        \"\"\"\\n        Checks whether a collection exists.\\n        :param collection_name: Name of the collection to check.', ':type collection_name: str\\n        :param collection_name: table name been queried\\n        :param timeout: An optional duration of time in seconds to allow for the RPC. When timeout\\n                        is set to None, client waits until server responses or error occurs.\\n        :type  timeout: float\\n        :return: The operation status and index info. Succeed if `Status.OK()` is `True`.\\n                 If status is not OK, the returned index info is always `None`.', ':rtype: Status, IndexParam\\n        \"\"\"\\n        check_pass_param(collection_name=collection_name)\\n        with self._connection() as handler:\\n            return handler.describe_index(collection_name, timeout)\\n[docs]    @check_connect\\n    def drop_index(self, collection_name, timeout=30):\\n        \"\"\"\\n        Removes an index.\\n        :param collection_name: target collection name.\\n        :type collection_name: str', 'so you can traverse the results like this:\\n>>> for ids, distances in zip(results.id_array, results.distance_array):\\n...     for id_, dis_ in zip(ids, distances):\\n...         print(f\"id = {id_}, distance = {dis_}\")\\nSection author: Bosszou@milvus', 'def __str__(self):\\n        return self._name_\\n[docs]class MetricType(IntEnum):\\n    \"\"\"Metric type enum.\\n    \"\"\"\\n    #: Invalid metric type.\\n    INVALID = 0\\n    #: Euclidean distance. A metric for float vectors.\\n    #: See `Euclidean distance <https://milvus.io/docs/v1.0.0/metric.md#Euclidean-distance-L2>`_.\\n    L2 = 1\\n    #: Inner product. A metric for float vectors.\\n    #: See `Inner Product <https://milvus.io/docs/v1.0.0/metric.md#Inner-product-IP>`_.\\n    IP = 2', 'ILLEGAL_TOPK = 10\\n    ILLEGAL_ROWRECORD = 11\\n    ILLEGAL_VECTOR_ID = 12\\n    ILLEGAL_SEARCH_RESULT = 13\\n    FILE_NOT_FOUND = 14\\n    META_FAILED = 15\\n    CACHE_FAILED = 16\\n    CANNOT_CREATE_FOLDER = 17\\n    CANNOT_CREATE_FILE = 18\\n    CANNOT_DELETE_FOLDER = 19\\n    CANNOT_DELETE_FILE = 20\\n    BUILD_INDEX_ERROR = 21\\n    ILLEGAL_NLIST = 22\\n    ILLEGAL_METRIC_TYPE = 23\\n    OUT_OF_MEMORY = 24\\n    def __init__(self, code=SUCCESS, message=\"Success\"):\\n        self.code = code\\n        self.message = message', 'Vector Index¶\\nFLAT\\nIVF_FLAT\\nIVF_SQ8\\nIVF_SQ8_H\\nIVF_PQ\\nHNSW\\nANNOY\\nRNSG\\nFLAT¶\\nIf FLAT index is used, the vectors are stored in an array of float/binary data without any compression. during\\nsearching vectors, all indexed vectors are decoded sequentially and compared to the query vectors.\\nFLAT index provides 100% query recall rate. Compared to other indexes, it is the most efficient indexing method\\nwhen the number of queries is small.', 'files is a method used in Mishards. Obtain more detail about Mishards, see\\n        `Mishards <https://github.com/milvus-io/milvus/tree/master/shards>`_.\\n        :param collection_name: table name been queried\\n        :type  collection_name: str\\n        :param file_ids: Specified files id array\\n        :type  file_ids: list[str] or list[int]\\n        :param query_records: all vectors going to be queried\\n        :type  query_records: list[list[float]]', 'If we think it’s a good improvement, we will make it a feature request and start to work on it. It’s\\nalso welcomed for you to open an issue with your PR as a solution.\\nFor a bugYou need to tell us as much information as possible, better start with our\\nbug report template.\\nWith information, we can reproduce the bug easily and solve it later.\\nFor a questionIt’s welcomed to ask any questions about PyMilvus and Milvus, we are pleased to communicate with you.\\nSubmit Pull Requests¶', 'collection_name (str) – Name of the collection\\nids (list) – list of vector id\\ntimeout (float) – An optional duration of time in seconds to allow for the RPC. When timeout\\nis set to None, client waits until server responses or error occurs.\\npartition_tag (str) – The partition tag of entity\\nReturns\\nThe operation status and entities. Succeed if Status.OK() is True.\\nIf status is not OK, the returned entities is always [].\\nReturn type\\nStatus, list[list[float]]', 'params={\\n                \"nprobe\": 8       # int. 1~nlist(cpu), 1~min[2048, nlist](gpu)\\n              }\\n)\\nANNOY¶\\nANNOY (Approximate Nearest Neighbors Oh Yeah) is an index that uses a hyperplane to divide a\\nhigh-dimensional space into multiple subspaces, and then stores them in a tree structure.\\nWhen searching for vectors, ANNOY follows the tree structure to find subspaces closer to the target vector,', 'default partition _default.) – Tag of a partition.\\nparams (dict) – Insert param. Reserved.\\ntimeout (float) – An optional duration of time in seconds to allow for the RPC. When timeout\\nis set to None, client waits until server responses or error occurs.\\nkwargs – \\n_async (bool) –\\nIndicate if invoke asynchronously. When value is true, method returns a InsertFuture\\nobject; otherwise, method returns results from server.\\n_callback (function) –', '\\'metric_type\\': MetricType.L2 # Optional, default MetricType.L2\\n                  }\\n        :param timeout: An optional duration of time in seconds to allow for the RPC. When timeout\\n                        is set to None, client waits until server responses or error occurs.\\n        :type  timeout: float\\n        :return: The operation status. Succeed if `Status.OK()` is `True`.\\n        :rtype: Status\\n        \"\"\"\\n        if not isinstance(param, dict):', 'object; otherwise, method returns results from server.\\n_callback (function) –\\nThe callback function which is invoked after server response successfully. It only\\ntakes effect when _async is set to True.\\nReturns\\nThe operation status. Succeed if Status.OK() is True.\\nReturn type\\nStatus\\nIndex Type¶\\nclass milvus.IndexType[source]¶\\nIndex type enum.\\nINVALID = 0¶\\nInvalid index type.\\nFLAT = 1¶\\nFLAT index. See FLAT.\\nIVF_FLAT = 2¶\\nIVF(Inverted File) FLAT index.\\nSee IVF_FLAT.\\nIVF_SQ8 = 3¶\\nIVF SQ8 index. See IVF_SQ8.', 'index file, and CPU handles the rest.\\nbuilding parameters:\\nnlist: Number of cluster units.\\n# IVF_SQ8_H\\nclient.create_index(collection_name,\\n                    IndexType.IVF_SQ8_H,\\n                    {\\n                      \"nlist\": 100      # int. 1~65536\\n                    }\\n)\\nsearch parameters:\\nnprobe: Number of inverted file cell to probe.\\n# IVF_SQ8_H\\nclient.search(collection_name,\\n              1,\\n              query_vectors,\\n              params={', 'params = dict() if params is None else params\\n        if not isinstance(params, dict):\\n            raise ParamError(\"Params must be a dictionary type\")\\n        with self._connection() as handler:\\n            return handler.search_in_files(collection_name, file_ids,\\n                                           query_records, top_k, params, timeout, **kwargs)\\n[docs]    @check_connect\\n    def delete_entity_by_id(self, collection_name, id_array, timeout=None, partition_tag=None):\\n        \"\"\"', '{\\n                      \"nlist\": 100,     # int. 1~65536\\n                      \"m\": 8            # int. 1~16. 8 by default\\n                    }\\n)\\nsearch parameters:\\nnprobe: Number of inverted file cell to probe.\\n# IVF_PQ\\nclient.search(collection_name,\\n              1,\\n              query_vectors,\\n              params={\\n                \"nprobe\": 8 # int. 1~nlist(cpu), 1~min[2048, nlist](gpu)\\n              }\\n)\\nIVF_SQ8¶', 'params=None, timeout=None, **kwargs):\\n        \"\"\"\\n        Insert vectors to a collection.\\n        :type  collection_name: str\\n        :param collection_name: Name of the collection to insert vectors to.\\n        :param ids: ID list. `None` indicates ID is generated by server system. Note that if the\\n                    first time when insert() is invoked ids is not passed into this method, each\\n                    of the rest time when inset() is invoked ids is not permitted to pass,', '\"\"\"\\n        Deletes vectors in a collection by vector ID.\\n        :param collection_name: Name of the collection.\\n        :type  collection_name: str\\n        :param id_array: list of vector id\\n        :type  id_array: list[int]\\n        :param timeout: An optional duration of time in seconds to allow for the RPC. When timeout\\n                        is set to None, client waits until server responses or error occurs.\\n        :type  timeout: float', 'all the dividing methods simultaneously to reduce the probability that the target vector is always at the edge of the subspace.\\nbuilding parameters:\\nn_trees:  The number of methods of space division.\\n# ANNOY\\nclient.create_index(collection_name,\\n                    IndexType.ANNOY,\\n                    {\\n                      \"n_trees\": 8      # int. 1~1024\\n                    }\\n)\\nsearch parameters:\\nsearch_k: The number of nodes to search. -1 means 5% of the whole data.\\n# ANNOY', 'is set to None, client waits until server responses or error occurs.\\n        :type  timeout: float\\n        :return: The operation status. Succeed if `Status.OK()` is `True`.\\n        :rtype: Status\\n        \"\"\"\\n        check_pass_param(collection_name=collection_name)\\n        with self._connection() as handler:\\n            return handler.preload_collection(collection_name, partition_tags, timeout)\\n[docs]    @check_connect', 'ids (list[int]) – ID list. None indicates ID is generated by server system. Note that if the\\nfirst time when insert() is invoked ids is not passed into this method, each\\nof the rest time when inset() is invoked ids is not permitted to pass,\\notherwise server will return an error and the insertion process will fail.\\nAnd vice versa.\\nrecords (list[list[float]]) – List of vectors to insert.\\npartition_tag (str or None. If partition_tag is None, vectors will be inserted to the', 'If status is not OK, the returned name list is always [].\\nReturn type\\nStatus, list[str]\\nget_collection_stats(collection_name, timeout=30)[source]¶\\nReturns collection statistics information.\\nParameters\\ncollection_name (str) – target table name.\\ntimeout (float) – An optional duration of time in seconds to allow for the RPC. When timeout\\nis set to None, client waits until server responses or error occurs.\\nReturns\\nThe operation status and collection statistics information. Succeed', '[docs]    @check_connect\\n    def get_collection_stats(self, collection_name, timeout=30):\\n        \"\"\"\\n        Returns collection statistics information.\\n        :type  collection_name: str\\n        :param collection_name: target table name.\\n        :param timeout: An optional duration of time in seconds to allow for the RPC. When timeout\\n                        is set to None, client waits until server responses or error occurs.\\n        :type  timeout: float', ':type  top_k: int\\n        :param query_records: vectors to query\\n        :type  query_records: list[list[float32]]\\n        :param partition_tags: tags to search. `None` indicates to search in whole collection.\\n        :type  partition_tags: list\\n        :param params: Search params. The params is related to index type the collection is built.\\n                       See `index params <param.html>`_ for more detailed information.\\n        :type  params: dict', '\"knng\": 50                   # int. 5~300\\n                    }\\n)\\nsearch parameters:\\nsearch_length: Number of query iterations\\n# RNSG\\nclient.search(collection_name,\\n              1,\\n              query_vectors,\\n              params={\\n                \"search_length\": 100  # int. 10~300\\n              }\\n)\\nSection author: Godchen@milvus', ':type collection_name: str\\n        :param timeout: An optional duration of time in seconds to allow for the RPC. When timeout\\n                        is set to None, client waits until server responses or error occurs.\\n        :type  timeout: float\\n        :return: The operation status. Succeed if `Status.OK()` is `True`.\\n        :rtype: Status\\n        \"\"\"\\n        check_pass_param(collection_name=collection_name)\\n        with self._connection() as handler:', ':type  collection_name: str\\n        :param timeout: An optional duration of time in seconds to allow for the RPC. When timeout\\n                        is set to None, client waits until server responses or error occurs.\\n        :type  timeout: float\\n        :return: The operation status and the flag indicating if collection exists. Succeed\\n                 if `Status.OK()` is `True`. If status is not OK, the flag is always `False`.\\n        :rtype: Status, bool\\n        \"\"\"', \"Search results¶\\nHow to deal with search results¶\\nThe invocation of search() is like this:\\n>>> results = client.search('demo', query_vectors, topk)\\nThe result object can be used as a 2-D array. results[i] (0 <= i < len(results)) represents topk results of i-th query\\nvector, and results[i][j] (0 <= j < len( results[i] )) represents j-th result of i-th query vector. To get result id and distance,\\nyou can invoke like this:\\n>>> id = results[i][j].id\\n>>> distance = results[i][j].distance\", ':type  timeout: float\\n        :return: The operation status and collection statistics information. Succeed\\n                 if `Status.OK()` is `True`. If status is not OK, the returned information\\n                 is always `[]`.\\n        :rtype: Status, dict\\n        \"\"\"\\n        check_pass_param(collection_name=collection_name)\\n        with self._connection() as handler:\\n            return handler.show_collection_info(collection_name, timeout)\\n[docs]    @check_connect', 'is set to None, client waits until server responses or error occurs.\\nReturns\\nThe operation status. Succeed if Status.OK() is True.\\nReturn type\\nStatus\\nsearch(collection_name, top_k, query_records, partition_tags=None, params=None, timeout=None, **kwargs)[source]¶\\nSearch vectors in a collection.\\nParameters\\ncollection_name (str) – Name of the collection.\\ntop_k (int) – number of vectors which is most similar with query vectors\\nquery_records (list[list[float32]]) – vectors to query', 'Installation¶\\nInstalling via pip¶\\nPyMilvus is in the Python Package Index.\\nPyMilvus only support python3(>= 3.6), usually, it’s ok to install PyMilvus like below.\\n$ python3 -m pip install pymilvus\\nInstalling in a virtual environment¶\\nIt’s recommended to use PyMilvus in a virtual environment, using virtual environment allows you to avoid\\ninstalling Python packages globally which could break system tools or other projects.', ':type  collection_name_array: list\\n        :param collection_name_array: Name of one or multiple collections to flush.\\n        :param timeout: An optional duration of time in seconds to allow for the RPC. When timeout\\n                        is set to None, client waits until server responses or error occurs.\\n        :type  timeout: float\\n        :param kwargs:\\n            * *_async* (``bool``) --\\n              Indicate if invoke asynchronously. When value is true, method returns a FlushFuture', 'with self._connection() as handler:\\n                return handler.flush([], timeout)\\n        if not isinstance(collection_name_array, list):\\n            raise ParamError(\"Collection name array must be type of list\")\\n        if len(collection_name_array) <= 0:\\n            raise ParamError(\"Collection name array is not allowed to be empty\")\\n        for name in collection_name_array:\\n            check_pass_param(collection_name=name)\\n        with self._connection() as handler:', 'Suitable PyMilvus version depends on Milvus version you are using. See install pymilvus for recommended pymilvus version.\\nIf you want to install a specific version of PyMilvus:\\n(venv) $ pip install pymilvus==1.1.0\\nIf you want to upgrade PyMilvus into the latest version published:\\n(venv) $ pip install --upgrade pymilvus\\nInstalling from source¶\\nThis will install the latest PyMilvus into your virtual environment.\\n(venv) $ pip install git+https://github.com/milvus-io/pymilvus.git\\nVerifying installation¶', 'is set to None, client waits until server responses or error occurs.\\n        :type  timeout: float\\n        :return: The operation status. Succeed if `Status.OK()` is `True`.\\n        :rtype: Status\\n        \"\"\"\\n        check_pass_param(collection_name=collection_name)\\n        with self._connection() as handler:\\n            return handler.drop_collection(collection_name, timeout)\\n[docs]    @check_connect\\n    def insert(self, collection_name, records, ids=None, partition_tag=None,', ':rtype: Status, int\\n        \"\"\"\\n        check_pass_param(collection_name=collection_name)\\n        with self._connection() as handler:\\n            return handler.count_collection(collection_name, timeout)\\n[docs]    @check_connect\\n    def list_collections(self, timeout=30):\\n        \"\"\"\\n        Returns collection list.\\n        :param timeout: An optional duration of time in seconds to allow for the RPC. When timeout', ':type  collection_name: str\\n        :param timeout: An optional duration of time in seconds to allow for the RPC. When timeout\\n                        is set to None, client waits until server responses or error occurs.\\n        :type  timeout: float\\n        :returns: The operation status and partition list. Succeed if `Status.OK()` is `True`.\\n                  If status is not OK, returned partition list is `[]`.\\n        :rtype: Status, list[PartitionParam]\\n        \"\"\"', '\"\"\"\\n        Deprecated\\n        \"\"\"\\n        # TODO: may remove it.\\n        if self._stub:\\n            self._stub.set_hook(**kwargs)\\n        else:\\n            self._hooks.update(kwargs)\\n    @property\\n    def name(self):\\n        return self._name\\n    @property\\n    def handler(self):\\n        return self._handler\\n    @deprecated\\n    def connect(self, host=None, port=None, uri=None, timeout=2):\\n        \"\"\"\\n        Deprecated\\n        \"\"\"\\n        if self.connected() and self._connected:', 'Please activate JavaScript to enable the search\\n      functionality.', ':param collection_name: target table name.\\n        :param timeout: An optional duration of time in seconds to allow for the RPC. When timeout\\n                        is set to None, client waits until server responses or error occurs.\\n        :type  timeout: float\\n        :return: The operation status and row count. Succeed if `Status.OK()` is `True`.\\n                 If status is not OK, the returned value of is always `None`.\\n        :rtype: Status, int\\n        \"\"\"', 'Returns\\nThe operation status and row count. Succeed if Status.OK() is True.\\nIf status is not OK, the returned value of is always None.\\nReturn type\\nStatus, int\\nlist_collections(timeout=30)[source]¶\\nReturns collection list.\\nParameters\\ntimeout (float) – An optional duration of time in seconds to allow for the RPC. When timeout\\nis set to None, client waits until server responses or error occurs.\\nReturns\\nThe operation status and collection name list. Succeed if Status.OK() is True.']\n",
      "{'source': 'https://pymilvus.readthedocs.io/en/latest/genindex.html'}\n",
      "{'source': 'https://pymilvus.readthedocs.io/en/latest/_modules/milvus/client/stub.html'}\n",
      "{'source': 'https://pymilvus.readthedocs.io/en/latest/param.html'}\n",
      "{'source': 'https://pymilvus.readthedocs.io/en/latest/genindex.html'}\n",
      "{'source': 'https://pymilvus.readthedocs.io/en/latest/_modules/milvus/client/types.html'}\n",
      "{'source': 'https://pymilvus.readthedocs.io/en/latest/tutorial.html'}\n",
      "{'source': 'https://pymilvus.readthedocs.io/en/latest/_modules/milvus/client/stub.html'}\n",
      "{'source': 'https://pymilvus.readthedocs.io/en/latest/tutorial.html'}\n",
      "{'source': 'https://pymilvus.readthedocs.io/en/latest/tutorial.html'}\n",
      "{'source': 'https://pymilvus.readthedocs.io/en/latest/tutorial.html'}\n",
      "{'source': 'https://pymilvus.readthedocs.io/en/latest/genindex.html'}\n",
      "{'source': 'https://pymilvus.readthedocs.io/en/latest/param.html'}\n",
      "{'source': 'https://pymilvus.readthedocs.io/en/latest/genindex.html'}\n",
      "{'source': 'https://pymilvus.readthedocs.io/en/latest/api.html'}\n",
      "{'source': 'https://pymilvus.readthedocs.io/en/latest/_modules/index.html'}\n",
      "{'source': 'https://pymilvus.readthedocs.io/en/latest/tutorial.html'}\n",
      "{'source': 'https://pymilvus.readthedocs.io/en/latest/_modules/milvus/client/stub.html'}\n",
      "{'source': 'https://pymilvus.readthedocs.io/en/latest/_modules/milvus/client/stub.html'}\n",
      "{'source': 'https://pymilvus.readthedocs.io/en/latest/_modules/milvus/client/stub.html'}\n",
      "{'source': 'https://pymilvus.readthedocs.io/en/latest/index.html'}\n",
      "{'source': 'https://pymilvus.readthedocs.io/en/latest/_modules/milvus/client/stub.html'}\n",
      "{'source': 'https://pymilvus.readthedocs.io/en/latest/tutorial.html'}\n",
      "{'source': 'https://pymilvus.readthedocs.io/en/latest/tutorial.html'}\n",
      "{'source': 'https://pymilvus.readthedocs.io/en/latest/_modules/milvus/client/stub.html'}\n",
      "{'source': 'https://pymilvus.readthedocs.io/en/latest/contribute.html'}\n",
      "{'source': 'https://pymilvus.readthedocs.io/en/latest/tutorial.html'}\n",
      "{'source': 'https://pymilvus.readthedocs.io/en/latest/tutorial.html'}\n",
      "{'source': 'https://pymilvus.readthedocs.io/en/latest/api.html'}\n",
      "{'source': 'https://pymilvus.readthedocs.io/en/latest/_modules/milvus/client/types.html'}\n",
      "{'source': 'https://pymilvus.readthedocs.io/en/latest/_modules/milvus/client/stub.html'}\n",
      "{'source': 'https://pymilvus.readthedocs.io/en/latest/param.html'}\n",
      "{'source': 'https://pymilvus.readthedocs.io/en/latest/api.html'}\n",
      "{'source': 'https://pymilvus.readthedocs.io/en/latest/tutorial.html'}\n",
      "{'source': 'https://pymilvus.readthedocs.io/en/latest/_modules/milvus/client/types.html'}\n",
      "{'source': 'https://pymilvus.readthedocs.io/en/latest/param.html'}\n",
      "{'source': 'https://pymilvus.readthedocs.io/en/latest/index.html'}\n",
      "{'source': 'https://pymilvus.readthedocs.io/en/latest/_modules/milvus/client/types.html'}\n",
      "{'source': 'https://pymilvus.readthedocs.io/en/latest/_modules/milvus/client/stub.html'}\n",
      "{'source': 'https://pymilvus.readthedocs.io/en/latest/param.html'}\n",
      "{'source': 'https://pymilvus.readthedocs.io/en/latest/api.html'}\n",
      "{'source': 'https://pymilvus.readthedocs.io/en/latest/api.html'}\n",
      "{'source': 'https://pymilvus.readthedocs.io/en/latest/api.html'}\n",
      "{'source': 'https://pymilvus.readthedocs.io/en/latest/changes.html'}\n",
      "{'source': 'https://pymilvus.readthedocs.io/en/latest/_modules/milvus/client/types.html'}\n",
      "{'source': 'https://pymilvus.readthedocs.io/en/latest/api.html'}\n",
      "{'source': 'https://pymilvus.readthedocs.io/en/latest/api.html'}\n",
      "{'source': 'https://pymilvus.readthedocs.io/en/latest/_modules/milvus/client/stub.html'}\n",
      "{'source': 'https://pymilvus.readthedocs.io/en/latest/api.html'}\n",
      "{'source': 'https://pymilvus.readthedocs.io/en/latest/_modules/milvus/client/stub.html'}\n",
      "{'source': 'https://pymilvus.readthedocs.io/en/latest/_modules/milvus/client/stub.html'}\n",
      "{'source': 'https://pymilvus.readthedocs.io/en/latest/_modules/milvus/client/stub.html'}\n",
      "{'source': 'https://pymilvus.readthedocs.io/en/latest/_modules/milvus/client/stub.html'}\n",
      "{'source': 'https://pymilvus.readthedocs.io/en/latest/about.html'}\n",
      "{'source': 'https://pymilvus.readthedocs.io/en/latest/tutorial.html'}\n",
      "{'source': 'https://pymilvus.readthedocs.io/en/latest/_modules/milvus/client/stub.html'}\n",
      "{'source': 'https://pymilvus.readthedocs.io/en/latest/_modules/milvus/client/stub.html'}\n",
      "{'source': 'https://pymilvus.readthedocs.io/en/latest/tutorial.html'}\n",
      "{'source': 'https://pymilvus.readthedocs.io/en/latest/install.html'}\n",
      "{'source': 'https://pymilvus.readthedocs.io/en/latest/_modules/milvus/client/stub.html'}\n",
      "{'source': 'https://pymilvus.readthedocs.io/en/latest/_modules/milvus/client/stub.html'}\n",
      "{'source': 'https://pymilvus.readthedocs.io/en/latest/_modules/milvus/client/stub.html'}\n",
      "{'source': 'https://pymilvus.readthedocs.io/en/latest/results.html'}\n",
      "{'source': 'https://pymilvus.readthedocs.io/en/latest/_modules/milvus/client/types.html'}\n",
      "{'source': 'https://pymilvus.readthedocs.io/en/latest/_modules/milvus/client/types.html'}\n",
      "{'source': 'https://pymilvus.readthedocs.io/en/latest/param.html'}\n",
      "{'source': 'https://pymilvus.readthedocs.io/en/latest/_modules/milvus/client/stub.html'}\n",
      "{'source': 'https://pymilvus.readthedocs.io/en/latest/contribute.html'}\n",
      "{'source': 'https://pymilvus.readthedocs.io/en/latest/api.html'}\n",
      "{'source': 'https://pymilvus.readthedocs.io/en/latest/param.html'}\n",
      "{'source': 'https://pymilvus.readthedocs.io/en/latest/api.html'}\n",
      "{'source': 'https://pymilvus.readthedocs.io/en/latest/_modules/milvus/client/stub.html'}\n",
      "{'source': 'https://pymilvus.readthedocs.io/en/latest/api.html'}\n",
      "{'source': 'https://pymilvus.readthedocs.io/en/latest/param.html'}\n",
      "{'source': 'https://pymilvus.readthedocs.io/en/latest/_modules/milvus/client/stub.html'}\n",
      "{'source': 'https://pymilvus.readthedocs.io/en/latest/param.html'}\n",
      "{'source': 'https://pymilvus.readthedocs.io/en/latest/_modules/milvus/client/stub.html'}\n",
      "{'source': 'https://pymilvus.readthedocs.io/en/latest/_modules/milvus/client/stub.html'}\n",
      "{'source': 'https://pymilvus.readthedocs.io/en/latest/param.html'}\n",
      "{'source': 'https://pymilvus.readthedocs.io/en/latest/_modules/milvus/client/stub.html'}\n",
      "{'source': 'https://pymilvus.readthedocs.io/en/latest/api.html'}\n",
      "{'source': 'https://pymilvus.readthedocs.io/en/latest/api.html'}\n",
      "{'source': 'https://pymilvus.readthedocs.io/en/latest/_modules/milvus/client/stub.html'}\n",
      "{'source': 'https://pymilvus.readthedocs.io/en/latest/_modules/milvus/client/stub.html'}\n",
      "{'source': 'https://pymilvus.readthedocs.io/en/latest/param.html'}\n",
      "{'source': 'https://pymilvus.readthedocs.io/en/latest/_modules/milvus/client/stub.html'}\n",
      "{'source': 'https://pymilvus.readthedocs.io/en/latest/_modules/milvus/client/stub.html'}\n",
      "{'source': 'https://pymilvus.readthedocs.io/en/latest/results.html'}\n",
      "{'source': 'https://pymilvus.readthedocs.io/en/latest/_modules/milvus/client/stub.html'}\n",
      "{'source': 'https://pymilvus.readthedocs.io/en/latest/api.html'}\n",
      "{'source': 'https://pymilvus.readthedocs.io/en/latest/install.html'}\n",
      "{'source': 'https://pymilvus.readthedocs.io/en/latest/_modules/milvus/client/stub.html'}\n",
      "{'source': 'https://pymilvus.readthedocs.io/en/latest/_modules/milvus/client/stub.html'}\n",
      "{'source': 'https://pymilvus.readthedocs.io/en/latest/install.html'}\n",
      "{'source': 'https://pymilvus.readthedocs.io/en/latest/_modules/milvus/client/stub.html'}\n",
      "{'source': 'https://pymilvus.readthedocs.io/en/latest/_modules/milvus/client/stub.html'}\n",
      "{'source': 'https://pymilvus.readthedocs.io/en/latest/_modules/milvus/client/stub.html'}\n",
      "{'source': 'https://pymilvus.readthedocs.io/en/latest/_modules/milvus/client/stub.html'}\n",
      "{'source': 'https://pymilvus.readthedocs.io/en/latest/search.html'}\n",
      "{'source': 'https://pymilvus.readthedocs.io/en/latest/_modules/milvus/client/stub.html'}\n",
      "{'source': 'https://pymilvus.readthedocs.io/en/latest/api.html'}\n"
     ]
    }
   ],
   "source": [
    "# RETRIEVAL USING MILVUS\n",
    "\n",
    "start_time = time.time()\n",
    "# Default search.\n",
    "# docs = vector_store.similarity_search(question, k=7)\n",
    "# MMR search.\n",
    "# docs = vector_store.max_marginal_relevance_search(question, k=7, fetch_k=100)\n",
    "# Search with metadata.  TODO: Add better filtering query!\n",
    "METADATA_URL = \"https://pymilvus.readthedocs.io/en/latest/_modules/milvus/client/stub.html\"\n",
    "docs = vector_store.similarity_search(\n",
    "    question,\n",
    "    k=100,\n",
    "    filter={\"source\": METADATA_URL},\n",
    "    verbose=True,\n",
    ")\n",
    "end_time = time.time()\n",
    "print(f\"Milvus query time: {end_time - start_time}\")\n",
    "\n",
    "# View the retrieval result.\n",
    "print(f\"source: {docs[0].metadata}\")\n",
    "print([doc.page_content for doc in docs])\n",
    "\n",
    "# default unique sources\n",
    "# https://pymilvus.readthedocs.io/en/latest/_modules/milvus/client/stub.html\n",
    "# https://pymilvus.readthedocs.io/en/latest/param.html\n",
    "# https://pymilvus.readthedocs.io/en/latest/genindex.html\n",
    "# https://pymilvus.readthedocs.io/en/latest/tutorial.html\n",
    "\n",
    "# MMR Unique Sources\n",
    "# https://pymilvus.readthedocs.io/en/latest/_modules/milvus/client/stub.html\n",
    "# https://pymilvus.readthedocs.io/en/latest/param.html\n",
    "\n",
    "for d in docs:\n",
    "    print(d.metadata)\n"
   ]
  },
  {
   "cell_type": "markdown",
   "id": "95f7e011",
   "metadata": {},
   "source": [
    "## Assemble and inspect the search result\n",
    "\n",
    "The search result is in the list variable `docs` of type `'pymilvus.orm.search.SearchResult'`.  "
   ]
  },
  {
   "cell_type": "code",
   "execution_count": 58,
   "id": "d3dfa33a",
   "metadata": {},
   "outputs": [
    {
     "name": "stdout",
     "output_type": "stream",
     "text": [
      "Count raw retrievals: 100\n",
      "Count unique texts: 37\n",
      "17084\n"
     ]
    }
   ],
   "source": [
    "print(f\"Count raw retrievals: {len(docs)}\")\n",
    "\n",
    "unique_sources = []\n",
    "unique_texts = []\n",
    "for doc in docs:\n",
    "    if doc.metadata['source'] == METADATA_URL:\n",
    "        if doc.page_content not in unique_texts:\n",
    "            unique_texts.append(doc.page_content)\n",
    "            unique_sources.append(doc.metadata['source'])\n",
    "print(f\"Count unique texts: {len(unique_texts)}\")\n",
    "# [ print(text) for text in unique_texts ]\n",
    "\n",
    "# Assemble all the results in a zipped list.\n",
    "formatted_context = list(zip(unique_sources, unique_texts))\n",
    "\n",
    "# Assemble the context as a stuffed string.\n",
    "context = \"\"\n",
    "for source, text in formatted_context:\n",
    "    context += f\"{text} \"\n",
    "print(len(context))"
   ]
  },
  {
   "cell_type": "markdown",
   "id": "bd6060ce",
   "metadata": {},
   "source": [
    "## Use an LLM to Generate a chat response to the user's question using the Retrieved Context."
   ]
  },
  {
   "cell_type": "code",
   "execution_count": 39,
   "id": "3e7fa0b6",
   "metadata": {},
   "outputs": [
    {
     "name": "stdout",
     "output_type": "stream",
     "text": [
      "Question: What is the default AUTOINDEX index type in Milvus Client?\n",
      "Answer: lazy dog\n"
     ]
    }
   ],
   "source": [
    "# BASELINING THE LLM: ASK A QUESTION WITHOUT ANY RETRIEVED CONTEXT.\n",
    "\n",
    "from transformers import AutoModelForQuestionAnswering, AutoTokenizer, pipeline\n",
    "\n",
    "# Load the Hugging Face auto-regressive LLM checkpoint.\n",
    "llm = \"deepset/tinyroberta-squad2\"\n",
    "tokenizer = AutoTokenizer.from_pretrained(llm)\n",
    "\n",
    "# context cannot be empty so just put random text in it.\n",
    "QA_input = {\n",
    "    'question': question,\n",
    "    'context': 'The quick brown fox jumped over the lazy dog'\n",
    "}\n",
    "\n",
    "nlp = pipeline('question-answering', \n",
    "               model=llm, \n",
    "               tokenizer=tokenizer)\n",
    "\n",
    "result = nlp(QA_input)\n",
    "print(f\"Question: {question}\")\n",
    "print(f\"Answer: {result['answer']}\")\n",
    "\n",
    "# The baseline LLM chat is not very helpful."
   ]
  },
  {
   "cell_type": "code",
   "execution_count": 57,
   "id": "a68e87b1",
   "metadata": {},
   "outputs": [
    {
     "name": "stdout",
     "output_type": "stream",
     "text": [
      "Question: What is the default AUTOINDEX in Milvus Client?\n",
      "Answer: MetricType.L2\n"
     ]
    }
   ],
   "source": [
    "# NOW ASK THE SAME LLM THE SAME QUESTION USING THE RETRIEVED CONTEXT.\n",
    "QA_input = {\n",
    "    'question': question,\n",
    "    'context': context,\n",
    "}\n",
    "\n",
    "nlp = pipeline('question-answering', \n",
    "               model=llm, \n",
    "               tokenizer=tokenizer)\n",
    "\n",
    "result = nlp(QA_input)\n",
    "print(f\"Question: {question}\")\n",
    "print(f\"Answer: {result['answer']}\")\n",
    "\n",
    "# That answer looks a little better!"
   ]
  },
  {
   "cell_type": "code",
   "execution_count": null,
   "id": "d0e81e68",
   "metadata": {},
   "outputs": [],
   "source": [
    "# # Shut down and cleanup the milvus server.\n",
    "default_server.stop()\n",
    "default_server.cleanup()"
   ]
  },
  {
   "cell_type": "code",
   "execution_count": null,
   "id": "c777937e",
   "metadata": {},
   "outputs": [],
   "source": [
    "# Props to Sebastian Raschka for this handy watermark.\n",
    "# !pip install watermark\n",
    "\n",
    "%load_ext watermark\n",
    "%watermark -a 'Christy Bergman' -v -p torch,transformers,milvus,pymilvus,langchain --conda"
   ]
  }
 ],
 "metadata": {
  "kernelspec": {
   "display_name": "Python 3 (ipykernel)",
   "language": "python",
   "name": "python3"
  },
  "language_info": {
   "codemirror_mode": {
    "name": "ipython",
    "version": 3
   },
   "file_extension": ".py",
   "mimetype": "text/x-python",
   "name": "python",
   "nbconvert_exporter": "python",
   "pygments_lexer": "ipython3",
   "version": "3.10.12"
  }
 },
 "nbformat": 4,
 "nbformat_minor": 5
}

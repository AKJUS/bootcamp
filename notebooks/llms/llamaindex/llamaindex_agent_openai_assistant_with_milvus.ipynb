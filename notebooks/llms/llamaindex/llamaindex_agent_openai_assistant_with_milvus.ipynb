{
 "cells": [
  {
   "cell_type": "markdown",
   "id": "91c0b9fd-213a-4da8-b84b-c766b424716c",
   "metadata": {},
   "source": [
    "# Milvus + Llama-Index: Enhancing OpenAI Assistant Agent with a Custom Retriever\n",
    "\n",
    "This shows how to enhance [Llama-Index](https://www.llamaindex.ai/)'s agent built on top of the [OpenAI Assistant API](https://platform.openai.com/docs/assistants/overview) with retriever tool customized by [Milvus](https://zilliz.com).\n",
    "\n",
    "## Preparation\n",
    "\n",
    "### 1. Install dependencies"
   ]
  },
  {
   "cell_type": "code",
   "execution_count": 1,
   "id": "b363b294",
   "metadata": {},
   "outputs": [],
   "source": [
    "! pip install -q llama-index 'milvus[client]' 'openai>=1.2.0' transformers"
   ]
  },
  {
   "cell_type": "markdown",
   "id": "958680bb",
   "metadata": {},
   "source": [
    "### 2. Start Milvus Service\n",
    "\n",
    "There are 2 options to start a Milvus service:\n",
    "\n",
    "- [Zilliz Cloud](https://zilliz.com/cloud): Zilliz provides cloud-native service for Milvus. It simplifies the process of deploying and scaling vector search applications by eliminating the need to create and maintain complex data infrastructure. [Get Started Free!](https://cloud.zilliz.com/signup)\n",
    "- [Open Source Milvus](https://milvus.io): You can install the open source Milvus using either Docker Compose or on Kubernetes.\n",
    "\n",
    "Here, we use [Milvus Lite](https://milvus.io/docs/milvus_lite.md) to start with a lightweight version of Milvus, which works seamlessly with Google Colab and Jupyter Notebook."
   ]
  },
  {
   "cell_type": "code",
   "execution_count": 2,
   "id": "2aaa83de",
   "metadata": {},
   "outputs": [],
   "source": [
    "from milvus import default_server\n",
    "\n",
    "\n",
    "# default_server.cleanup()  # Optional, run this line if you want to cleanup previous data\n",
    "default_server.start()"
   ]
  },
  {
   "cell_type": "markdown",
   "id": "b695901d",
   "metadata": {},
   "source": [
    "### 3. Download example data\n",
    "\n",
    "You can use any file(s) to build the knowledge base.\n",
    "We will use a SEC file [uber_2021.pdf](https://github.com/run-llama/llama_index/blob/main/docs/examples/data/10k/uber_2021.pdf) as an example."
   ]
  },
  {
   "cell_type": "code",
   "execution_count": 3,
   "id": "dbecdfda",
   "metadata": {},
   "outputs": [
    {
     "name": "stdout",
     "output_type": "stream",
     "text": [
      "--2023-11-16 14:40:44--  https://raw.githubusercontent.com/run-llama/llama_index/main/docs/examples/data/10k/uber_2021.pdf\n",
      "Resolving raw.githubusercontent.com (raw.githubusercontent.com)... 185.199.110.133, 185.199.109.133, 185.199.108.133, ...\n",
      "Connecting to raw.githubusercontent.com (raw.githubusercontent.com)|185.199.110.133|:443... connected.\n",
      "HTTP request sent, awaiting response... 200 OK\n",
      "Length: 1880483 (1.8M) [application/octet-stream]\n",
      "Saving to: ‘uber_2021.pdf’\n",
      "\n",
      "uber_2021.pdf       100%[===================>]   1.79M  26.1KB/s    in 23s     \n",
      "\n",
      "2023-11-16 14:41:08 (79.9 KB/s) - ‘uber_2021.pdf’ saved [1880483/1880483]\n",
      "\n"
     ]
    }
   ],
   "source": [
    "! wget 'https://raw.githubusercontent.com/run-llama/llama_index/main/docs/examples/data/10k/uber_2021.pdf' -O 'uber_2021.pdf'"
   ]
  },
  {
   "cell_type": "markdown",
   "id": "1661a1c6",
   "metadata": {},
   "source": [
    "## Getting Started\n",
    "\n",
    "### 1. Set up Environment\n",
    "\n",
    "You need to set up some environment variables, for example, passing your [OpenAI API Key](https://beta.openai.com/account/api-keys).\n",
    "Please note that your OpenAI account should have the accessibility and enough quota available for the model [GPT-4 Turbo](https://platform.openai.com/docs/models/gpt-4)."
   ]
  },
  {
   "cell_type": "code",
   "execution_count": 4,
   "id": "08081fca-0274-42ae-a777-4b66d36d691c",
   "metadata": {},
   "outputs": [],
   "source": [
    "import os\n",
    "from getpass import getpass\n",
    "\n",
    "os.environ['TOKENIZERS_PARALLELISM'] = 'false'\n",
    "os.environ['OPENAI_API_KEY'] = getpass('Enter OpenAI API Key:')"
   ]
  },
  {
   "cell_type": "markdown",
   "id": "124e19e5",
   "metadata": {},
   "source": [
    "### 2. Customize Strategies\n",
    "\n",
    "In this step, we will define some strategies to be used:\n",
    "\n",
    "- Chunking: configure the text splitter (e.g. `chunk_size`)\n",
    "- Embedding: choose embedding model (e.g. [`BAAI/bge-small-en`](https://huggingface.co/BAAI/bge-small-en)) and its provider (e.g. [HuggingFace](https://huggingface.co/models), [OpenAI](https://platform.openai.com/docs/guides/embeddings)).\n",
    "- LLM: select LLM model (e.g. `gpt-4-1106-preview`) and set up model parameters (e.g. `temperature`)."
   ]
  },
  {
   "cell_type": "code",
   "execution_count": 5,
   "id": "4712df4c",
   "metadata": {},
   "outputs": [
    {
     "name": "stderr",
     "output_type": "stream",
     "text": [
      "/home/mengjia.gu/anaconda3/envs/develop/lib/python3.8/site-packages/tqdm/auto.py:21: TqdmWarning: IProgress not found. Please update jupyter and ipywidgets. See https://ipywidgets.readthedocs.io/en/stable/user_install.html\n",
      "  from .autonotebook import tqdm as notebook_tqdm\n"
     ]
    }
   ],
   "source": [
    "from llama_index.embeddings import HuggingFaceEmbedding\n",
    "from llama_index.llms import OpenAI\n",
    "from llama_index.vector_stores import MilvusVectorStore\n",
    "from llama_index import StorageContext, ServiceContext\n",
    "\n",
    "\n",
    "llm = OpenAI(model='gpt-4-1106-preview')\n",
    "embed_model = HuggingFaceEmbedding(model_name='BAAI/bge-small-en', cache_folder='./tmp/models', device='cpu')\n",
    "service_context = ServiceContext.from_defaults(llm=llm, embed_model=embed_model, chunk_size=512)\n",
    "\n",
    "vector_store = MilvusVectorStore(\n",
    "    uri=f'http://localhost:{default_server.listen_port}',\n",
    "    # token='',  # required for Zilliz Cloud\n",
    "    dim=384,  # the value changes with embedding model\n",
    "    overwrite=True  # drop table if exist and then create\n",
    "    )\n",
    "storage_context = StorageContext.from_defaults(vector_store=vector_store)"
   ]
  },
  {
   "cell_type": "markdown",
   "id": "8f1147b1",
   "metadata": {},
   "source": [
    "### 3. Ingest Document(s)"
   ]
  },
  {
   "cell_type": "code",
   "execution_count": 6,
   "id": "c306c18a",
   "metadata": {},
   "outputs": [],
   "source": [
    "from llama_index import SimpleDirectoryReader, VectorStoreIndex\n",
    "\n",
    "# Load document(s)\n",
    "docs = SimpleDirectoryReader(input_files=['./uber_2021.pdf']).load_data()\n",
    "\n",
    "# Build index\n",
    "vector_index = VectorStoreIndex.from_documents(docs, storage_context=storage_context, service_context=service_context)"
   ]
  },
  {
   "cell_type": "markdown",
   "id": "1ee425a1",
   "metadata": {},
   "source": [
    "### 4. Define Agent & Tool(s)\n",
    "\n",
    "In order integrate the vector store index with agent, we need to define the index as a Retriever Tool.\n",
    "The agent will be able to recognize the retriever via the tool's name and description in metadata."
   ]
  },
  {
   "cell_type": "code",
   "execution_count": 7,
   "id": "612254fd",
   "metadata": {},
   "outputs": [],
   "source": [
    "from llama_index.tools import RetrieverTool, ToolMetadata\n",
    "\n",
    "milvus_tool = RetrieverTool(\n",
    "    retriever=vector_index.as_retriever(similarity_top_k=3),  # retrieve top_k results\n",
    "    metadata=ToolMetadata(\n",
    "        name=\"CustomRetriever\",\n",
    "        description='Retrieve relevant information from provided documents.'\n",
    "    ),\n",
    ")"
   ]
  },
  {
   "cell_type": "markdown",
   "id": "7d16e580",
   "metadata": {},
   "source": [
    "Then let's define the agent powered by OpenAI's Assistants API.\n",
    "To create a agent, we will define its role, give instructions, and provide tools.\n",
    "Here we will make LLM thinking itself a SEC analyst, with Milvus retriever as an available tool."
   ]
  },
  {
   "cell_type": "code",
   "execution_count": 8,
   "id": "dd27eee6",
   "metadata": {},
   "outputs": [],
   "source": [
    "from llama_index.agent import OpenAIAssistantAgent\n",
    "\n",
    "agent = OpenAIAssistantAgent.from_new(\n",
    "    name='SEC Analyst',\n",
    "    instructions='You are a QA assistant designed to analyze sec filings.',\n",
    "    tools=[milvus_tool],\n",
    "    verbose=True,\n",
    "    run_retrieve_sleep_time=1.0\n",
    ")"
   ]
  },
  {
   "cell_type": "markdown",
   "id": "22a35004",
   "metadata": {},
   "source": [
    "## Try it out!\n",
    "\n",
    "Now the agent is ready as a SEC analyst. It is able to respond to users based off documents loaded into Milvus.\n",
    "\n",
    "With `verbose=True`, you are able to what information are retrieved when the agent's answering your question."
   ]
  },
  {
   "cell_type": "code",
   "execution_count": 9,
   "id": "8f88c602",
   "metadata": {},
   "outputs": [
    {
     "name": "stdout",
     "output_type": "stream",
     "text": [
      "=== Calling Function ===\n",
      "Calling function: CustomRetriever with args: {\"input\":\"Uber's revenue growth in 2021\"}\n",
      "Got output: page_label = 57\n",
      "file_name = uber_2021.pdf\n",
      "file_path = uber_2021.pdf\n",
      "The following table sets forth the components of our consolidated statements of operations for each of the periods presented as a percentage of revenue : Year Ended December 31,\n",
      "2020\n",
      "2021 Revenue\n",
      "100 %100 %Costs and expenses\n",
      "Cost of revenue, exclusive of dep\n",
      "reciation and amortization shown separately below46 %54 %Operations and support\n",
      "16 %11 %Sales and marketing\n",
      "32 %27 %Research and development\n",
      "20 %12 %General and administrative\n",
      "24 %13 %Depreciation and amortization\n",
      "5 %5 %Total costs and expenses\n",
      "144 %122 %Loss from operations\n",
      "(44) %(22) %Interest expense\n",
      "(4) %(3) %Other income (expense), net\n",
      "(15) %19 %Loss before income taxes and loss from equity me\n",
      "thod investments(62) %(6) %Provision for (benefit fro\n",
      "m) income taxes(2) %(3) %Loss from equity method invest\n",
      "ments— %— %Net loss including non-controlling interests\n",
      "(61) %(3) %Less: net loss attributab\n",
      "le to non-controlling interests, net of tax— %— %Net loss attributable to Uber Technologies, Inc.\n",
      "(61) %(3) % Totals of percentage of \n",
      "revenues may not foot due to rounding.Comparison of the Years Ended December 31, 2020 and 2021\n",
      "Revenue\n",
      "Year Ended December 31,\n",
      "2020 to 2021 % Change\n",
      "(In millions, except percentages) 2020 2021 Revenue\n",
      "$ 11,139 $ 17,455 57 %2021\n",
      " Compared to 2020Revenue\n",
      " increased $6.3 billion, or 57%, primarily attributable to an increase in Gross Bookings of 56%, or 53% on a constant currency basis. The increase inGross\n",
      " Bookings was primarily driven by an increase in Delivery Gross Bookings of 71%, or 66% on a constant currency basis, due to an increase in food deliveryorders\n",
      " and  higher  basket  sizes  as  a  result  of  stay-at-home  order  demand  related  to  COVID-19,  as  well  as  continued  expansion  across  U.S.  and  internationalmarkets.\n",
      "\n",
      "page_label = 53\n",
      "file_name = uber_2021.pdf\n",
      "file_path = uber_2021.pdf\n",
      "Mobility Gross Bookings g\n",
      "rew 36%, on a constant currency basis, from 2020, due to increases in Trip volumes as the business recovers from theimpacts of COVID-19.\n",
      "Revenue\n",
      " was $17.5 billion, or up 57% year-over-year, reflecting the overall growth in our Delivery business and an increase in Freight revenue attributable tothe\n",
      " acquisition of Transplace in the fourth quarter of 2021 as well as growth in the number of shippers and carriers on the network combined with an increase involumes with our top shippers.\n",
      "Net\n",
      " loss attributable to Uber Technologies, Inc. was $496 million, a 93% improvement year-over-year, driven by a $1.6 billion pre-tax gain on the sale of ourATG\n",
      " Business to Aurora, a $1.6 billion pre-tax  net benefit relating to Uber’s equity investments, as  well as reductions in our fixed cost structure and increasedvariable cost effi\n",
      "ciencies. Net loss attributable to Uber Technologies, Inc. also included $1.2 billion of stock-based compensation expense.Adjusted\n",
      " EBITDA loss was $774 million, improving $1.8 billion from 2020 with Mobility Adjusted EBITDA profit of $1.6 billion. Additionally, DeliveryAdjusted\n",
      " EBITDA loss of $348 million, improved $525 million and Delivery Adjusted EBITDA margin as a percentage of Delivery Gross Bookings improved to(0.7)% from (2.9)%, compa\n",
      "red to 2020.We ended the year with $4.3 bil\n",
      "lion in cash and cash equivalents.Other Developments for 2021\n",
      "Acquisitions\n",
      "Remaining Interests in Cornershop\n",
      "In\n",
      " August 2021, we completed the acquisition of the remaining 45% ownership interest in Cornershop Cayman (“Cornershop”), or 47%, on a fully-dilutedbasis, in an all-stock tr\n",
      "ansaction.Drizly\n",
      "On\n",
      " October 12, 2021, we completed the acquisition of 100% ownership interest in The Drizly Group, Inc. (“Drizly”), an on-demand alcohol marketplace inNorth America, allowing us to expand \n",
      "alcohol offerings in our Delivery business.\n",
      "\n",
      "page_label = 98\n",
      "file_name = uber_2021.pdf\n",
      "file_path = uber_2021.pdf\n",
      "Note 2 – RevenueThe\n",
      " following  tables  present  our  revenues  disaggregated  by  offering  and  geographical  region.  Revenue  by  geographical  region  is  based  on  where  thetransaction\n",
      " occurred. This level of disaggregation takes into consideration how the nature, amount, timing, and uncertainty of revenue and cash flows are affectedby economic factors. Revenue \n",
      "is presented in the following tables for the years ended December 31, 2019, 2020 and 2021, respectively (in millions):Year Ended December 31,\n",
      "2019\n",
      "2020 2021 Mobility revenue \n",
      "$ 10,707 $ 6,089 $ 6,953 Delivery revenue \n",
      "1,401 3,904 8,362 Freight revenue\n",
      "731 1,011 2,132 All Other revenue\n",
      "161 135 8 Total revenue\n",
      "$ 13,000 $ 11,139 $ 17,455  We\n",
      " offer subscription memberships to end-users including Uber One, Uber Pass, Rides Pass, and Eats Pass (“Subscription”). We recognize Subscriptionfees\n",
      " ratably over the life of the pass. We allocate Subscription fees earned to Mobility and Delivery revenue on a proportional basis, based on usage for eachoffering during the respe\n",
      "ctive period.Year Ended December 31,\n",
      "2019\n",
      "2020 2021 United States and Canada\n",
      "$ 8,465 $ 6,611 $ 10,094 Latin America (\"LatAm\")\n",
      "1,862 1,295 1,417 Europe, Middle East and Africa \n",
      "(\"EMEA\")1,852 2,086 3,213 Asia Pacific (\"APAC\")\n",
      "821 1,147 2,731 Total revenue\n",
      "$ 13,000 $ 11,139 $ 17,455 Revenue\n",
      "Mobility Revenue\n",
      "We derive\n",
      " revenue primarily from fees paid by Mobility Drivers for the use of our platform(s) and related services to facilitate and complete Mobility servicesand,\n",
      " in certain markets, revenue from fees paid by end-users for connection services obtained via the platform. Mobility revenue also includes immaterial revenuestreams\n",
      " such as our financial partnerships products and Vehicle Solutions. Vehicle Solutions revenue is accounted for as an operating lease as defined under ASC842.\n",
      "\n",
      "\n",
      "========================\n"
     ]
    }
   ],
   "source": [
    "# print('Thread id:', agent.thread_id)\n",
    "response = agent.chat('''What was Uber's revenue growth in 2021?''')"
   ]
  },
  {
   "cell_type": "markdown",
   "id": "725e09bf",
   "metadata": {},
   "source": [
    "Check the agent's answer:"
   ]
  },
  {
   "cell_type": "code",
   "execution_count": 10,
   "id": "06dcf5dd",
   "metadata": {},
   "outputs": [
    {
     "name": "stdout",
     "output_type": "stream",
     "text": [
      "Uber's revenue grew by 57% in 2021. The total revenue for the year was $17.455 billion, up from $11.139 billion in 2020.\n"
     ]
    }
   ],
   "source": [
    "print(str(response))"
   ]
  },
  {
   "cell_type": "markdown",
   "id": "7e802f37",
   "metadata": {},
   "source": [
    "Furthermore, take a look at the references of its answer:"
   ]
  },
  {
   "cell_type": "code",
   "execution_count": 11,
   "id": "1287a90a",
   "metadata": {},
   "outputs": [
    {
     "data": {
      "text/plain": [
       "[ToolOutput(content='page_label = 57\\nfile_name = uber_2021.pdf\\nfile_path = uber_2021.pdf\\nThe following table sets forth the components of our consolidated statements of operations for each of the periods presented as a percentage of revenue : Year Ended December 31,\\n2020\\n2021 Revenue\\n100 %100 %Costs and expenses\\nCost of revenue, exclusive of dep\\nreciation and amortization shown separately below46 %54 %Operations and support\\n16 %11 %Sales and marketing\\n32 %27 %Research and development\\n20 %12 %General and administrative\\n24 %13 %Depreciation and amortization\\n5 %5 %Total costs and expenses\\n144 %122 %Loss from operations\\n(44) %(22) %Interest expense\\n(4) %(3) %Other income (expense), net\\n(15) %19 %Loss before income taxes and loss from equity me\\nthod investments(62) %(6) %Provision for (benefit fro\\nm) income taxes(2) %(3) %Loss from equity method invest\\nments— %— %Net loss including non-controlling interests\\n(61) %(3) %Less: net loss attributab\\nle to non-controlling interests, net of tax— %— %Net loss attributable to Uber Technologies, Inc.\\n(61) %(3) % Totals of percentage of \\nrevenues may not foot due to rounding.Comparison of the Years Ended December 31, 2020 and 2021\\nRevenue\\nYear Ended December 31,\\n2020 to 2021 % Change\\n(In millions, except percentages) 2020 2021 Revenue\\n$ 11,139 $ 17,455 57 %2021\\n Compared to 2020Revenue\\n increased $6.3 billion, or 57%, primarily attributable to an increase in Gross Bookings of 56%, or 53% on a constant currency basis. The increase inGross\\n Bookings was primarily driven by an increase in Delivery Gross Bookings of 71%, or 66% on a constant currency basis, due to an increase in food deliveryorders\\n and  higher  basket  sizes  as  a  result  of  stay-at-home  order  demand  related  to  COVID-19,  as  well  as  continued  expansion  across  U.S.  and  internationalmarkets.\\n\\npage_label = 53\\nfile_name = uber_2021.pdf\\nfile_path = uber_2021.pdf\\nMobility Gross Bookings g\\nrew 36%, on a constant currency basis, from 2020, due to increases in Trip volumes as the business recovers from theimpacts of COVID-19.\\nRevenue\\n was $17.5 billion, or up 57% year-over-year, reflecting the overall growth in our Delivery business and an increase in Freight revenue attributable tothe\\n acquisition of Transplace in the fourth quarter of 2021 as well as growth in the number of shippers and carriers on the network combined with an increase involumes with our top shippers.\\nNet\\n loss attributable to Uber Technologies, Inc. was $496 million, a 93% improvement year-over-year, driven by a $1.6 billion pre-tax gain on the sale of ourATG\\n Business to Aurora, a $1.6 billion pre-tax  net benefit relating to Uber’s equity investments, as  well as reductions in our fixed cost structure and increasedvariable cost effi\\nciencies. Net loss attributable to Uber Technologies, Inc. also included $1.2 billion of stock-based compensation expense.Adjusted\\n EBITDA loss was $774 million, improving $1.8 billion from 2020 with Mobility Adjusted EBITDA profit of $1.6 billion. Additionally, DeliveryAdjusted\\n EBITDA loss of $348 million, improved $525 million and Delivery Adjusted EBITDA margin as a percentage of Delivery Gross Bookings improved to(0.7)% from (2.9)%, compa\\nred to 2020.We ended the year with $4.3 bil\\nlion in cash and cash equivalents.Other Developments for 2021\\nAcquisitions\\nRemaining Interests in Cornershop\\nIn\\n August 2021, we completed the acquisition of the remaining 45% ownership interest in Cornershop Cayman (“Cornershop”), or 47%, on a fully-dilutedbasis, in an all-stock tr\\nansaction.Drizly\\nOn\\n October 12, 2021, we completed the acquisition of 100% ownership interest in The Drizly Group, Inc. (“Drizly”), an on-demand alcohol marketplace inNorth America, allowing us to expand \\nalcohol offerings in our Delivery business.\\n\\npage_label = 98\\nfile_name = uber_2021.pdf\\nfile_path = uber_2021.pdf\\nNote 2 – RevenueThe\\n following  tables  present  our  revenues  disaggregated  by  offering  and  geographical  region.  Revenue  by  geographical  region  is  based  on  where  thetransaction\\n occurred. This level of disaggregation takes into consideration how the nature, amount, timing, and uncertainty of revenue and cash flows are affectedby economic factors. Revenue \\nis presented in the following tables for the years ended December 31, 2019, 2020 and 2021, respectively (in millions):Year Ended December 31,\\n2019\\n2020 2021 Mobility revenue \\n$ 10,707 $ 6,089 $ 6,953 Delivery revenue \\n1,401 3,904 8,362 Freight revenue\\n731 1,011 2,132 All Other revenue\\n161 135 8 Total revenue\\n$ 13,000 $ 11,139 $ 17,455  We\\n offer subscription memberships to end-users including Uber One, Uber Pass, Rides Pass, and Eats Pass (“Subscription”). We recognize Subscriptionfees\\n ratably over the life of the pass. We allocate Subscription fees earned to Mobility and Delivery revenue on a proportional basis, based on usage for eachoffering during the respe\\nctive period.Year Ended December 31,\\n2019\\n2020 2021 United States and Canada\\n$ 8,465 $ 6,611 $ 10,094 Latin America (\"LatAm\")\\n1,862 1,295 1,417 Europe, Middle East and Africa \\n(\"EMEA\")1,852 2,086 3,213 Asia Pacific (\"APAC\")\\n821 1,147 2,731 Total revenue\\n$ 13,000 $ 11,139 $ 17,455 Revenue\\nMobility Revenue\\nWe derive\\n revenue primarily from fees paid by Mobility Drivers for the use of our platform(s) and related services to facilitate and complete Mobility servicesand,\\n in certain markets, revenue from fees paid by end-users for connection services obtained via the platform. Mobility revenue also includes immaterial revenuestreams\\n such as our financial partnerships products and Vehicle Solutions. Vehicle Solutions revenue is accounted for as an operating lease as defined under ASC842.\\n\\n', tool_name='CustomRetriever', raw_input={'input': <bound method Kernel.raw_input of <ipykernel.ipkernel.IPythonKernel object at 0x7f0a772e2880>>}, raw_output=[NodeWithScore(node=TextNode(id_='09551bda-df2f-4a3a-9749-67c336b55143', embedding=None, metadata={'page_label': '57', 'file_name': 'uber_2021.pdf', 'file_path': 'uber_2021.pdf', 'creation_date': '2023-11-16', 'last_modified_date': '2023-11-16', 'last_accessed_date': '2023-11-16'}, excluded_embed_metadata_keys=['creation_date', 'last_modified_date', 'last_accessed_date'], excluded_llm_metadata_keys=['creation_date', 'last_modified_date', 'last_accessed_date'], relationships={<NodeRelationship.SOURCE: '1'>: RelatedNodeInfo(node_id='f28843b4-e671-4bf0-97b6-66d141e36828', node_type=<ObjectType.DOCUMENT: '4'>, metadata={'page_label': '57', 'file_name': 'uber_2021.pdf', 'file_path': 'uber_2021.pdf', 'creation_date': '2023-11-16', 'last_modified_date': '2023-11-16', 'last_accessed_date': '2023-11-16'}, hash='6b921fc45ca57f6580fc228f560a55000000bd9d0c0a135b7e176c5c72b7d9d7'), <NodeRelationship.NEXT: '3'>: RelatedNodeInfo(node_id='e9b325ae-4eba-4bfa-939a-8428f75fa47e', node_type=<ObjectType.TEXT: '1'>, metadata={'page_label': '57', 'file_name': 'uber_2021.pdf', 'file_path': 'uber_2021.pdf', 'creation_date': '2023-11-16', 'last_modified_date': '2023-11-16', 'last_accessed_date': '2023-11-16'}, hash='e4fafae2e66097c06da02c770d8a195e56ad7185f58e142961978eee539a367e')}, hash='040873569bbc5845452c57bb438c01773145917e2d5cc72d8fb78915a02a98d8', text='The following table sets forth the components of our consolidated statements of operations for each of the periods presented as a percentage of revenue : Year Ended December 31,\\n2020\\n2021 Revenue\\n100 %100 %Costs and expenses\\nCost of revenue, exclusive of dep\\nreciation and amortization shown separately below46 %54 %Operations and support\\n16 %11 %Sales and marketing\\n32 %27 %Research and development\\n20 %12 %General and administrative\\n24 %13 %Depreciation and amortization\\n5 %5 %Total costs and expenses\\n144 %122 %Loss from operations\\n(44) %(22) %Interest expense\\n(4) %(3) %Other income (expense), net\\n(15) %19 %Loss before income taxes and loss from equity me\\nthod investments(62) %(6) %Provision for (benefit fro\\nm) income taxes(2) %(3) %Loss from equity method invest\\nments— %— %Net loss including non-controlling interests\\n(61) %(3) %Less: net loss attributab\\nle to non-controlling interests, net of tax— %— %Net loss attributable to Uber Technologies, Inc.\\n(61) %(3) % Totals of percentage of \\nrevenues may not foot due to rounding.Comparison of the Years Ended December 31, 2020 and 2021\\nRevenue\\nYear Ended December 31,\\n2020 to 2021 % Change\\n(In millions, except percentages) 2020 2021 Revenue\\n$ 11,139 $ 17,455 57 %2021\\n Compared to 2020Revenue\\n increased $6.3 billion, or 57%, primarily attributable to an increase in Gross Bookings of 56%, or 53% on a constant currency basis. The increase inGross\\n Bookings was primarily driven by an increase in Delivery Gross Bookings of 71%, or 66% on a constant currency basis, due to an increase in food deliveryorders\\n and  higher  basket  sizes  as  a  result  of  stay-at-home  order  demand  related  to  COVID-19,  as  well  as  continued  expansion  across  U.S.  and  internationalmarkets.', start_char_idx=None, end_char_idx=None, text_template='{metadata_str}\\n\\n{content}', metadata_template='{key}: {value}', metadata_seperator='\\n'), score=0.9075453877449036), NodeWithScore(node=TextNode(id_='e1fc4a81-e0e0-413a-9eab-77b44a665e7f', embedding=None, metadata={'page_label': '53', 'file_name': 'uber_2021.pdf', 'file_path': 'uber_2021.pdf', 'creation_date': '2023-11-16', 'last_modified_date': '2023-11-16', 'last_accessed_date': '2023-11-16'}, excluded_embed_metadata_keys=['creation_date', 'last_modified_date', 'last_accessed_date'], excluded_llm_metadata_keys=['creation_date', 'last_modified_date', 'last_accessed_date'], relationships={<NodeRelationship.SOURCE: '1'>: RelatedNodeInfo(node_id='b211a9de-e8b4-4d23-a26e-d4e1445b9239', node_type=<ObjectType.DOCUMENT: '4'>, metadata={'page_label': '53', 'file_name': 'uber_2021.pdf', 'file_path': 'uber_2021.pdf', 'creation_date': '2023-11-16', 'last_modified_date': '2023-11-16', 'last_accessed_date': '2023-11-16'}, hash='c6b092b5866821f1aa739f7df96e0b39eccc24d4752280233835a8ae9b75d533'), <NodeRelationship.PREVIOUS: '2'>: RelatedNodeInfo(node_id='b57b85be-a0dc-4c99-b12f-7aacc830076a', node_type=<ObjectType.TEXT: '1'>, metadata={'page_label': '53', 'file_name': 'uber_2021.pdf', 'file_path': 'uber_2021.pdf', 'creation_date': '2023-11-16', 'last_modified_date': '2023-11-16', 'last_accessed_date': '2023-11-16'}, hash='eea57768523f6c58b1e25f514f7713416ed8208a392071bc96d65a568529d408'), <NodeRelationship.NEXT: '3'>: RelatedNodeInfo(node_id='7a5dcee4-1676-4307-a074-476b8fa91ffc', node_type=<ObjectType.TEXT: '1'>, metadata={'page_label': '53', 'file_name': 'uber_2021.pdf', 'file_path': 'uber_2021.pdf', 'creation_date': '2023-11-16', 'last_modified_date': '2023-11-16', 'last_accessed_date': '2023-11-16'}, hash='f0797c9277294a0a98098982c60d89a162106ad5ab38c635f9bb9645ca3cba89')}, hash='08eab25a217eabd85377145f8dd4eff5752d1d1c915d2c76b712ffebfc17b32d', text='Mobility Gross Bookings g\\nrew 36%, on a constant currency basis, from 2020, due to increases in Trip volumes as the business recovers from theimpacts of COVID-19.\\nRevenue\\n was $17.5 billion, or up 57% year-over-year, reflecting the overall growth in our Delivery business and an increase in Freight revenue attributable tothe\\n acquisition of Transplace in the fourth quarter of 2021 as well as growth in the number of shippers and carriers on the network combined with an increase involumes with our top shippers.\\nNet\\n loss attributable to Uber Technologies, Inc. was $496 million, a 93% improvement year-over-year, driven by a $1.6 billion pre-tax gain on the sale of ourATG\\n Business to Aurora, a $1.6 billion pre-tax  net benefit relating to Uber’s equity investments, as  well as reductions in our fixed cost structure and increasedvariable cost effi\\nciencies. Net loss attributable to Uber Technologies, Inc. also included $1.2 billion of stock-based compensation expense.Adjusted\\n EBITDA loss was $774 million, improving $1.8 billion from 2020 with Mobility Adjusted EBITDA profit of $1.6 billion. Additionally, DeliveryAdjusted\\n EBITDA loss of $348 million, improved $525 million and Delivery Adjusted EBITDA margin as a percentage of Delivery Gross Bookings improved to(0.7)% from (2.9)%, compa\\nred to 2020.We ended the year with $4.3 bil\\nlion in cash and cash equivalents.Other Developments for 2021\\nAcquisitions\\nRemaining Interests in Cornershop\\nIn\\n August 2021, we completed the acquisition of the remaining 45% ownership interest in Cornershop Cayman (“Cornershop”), or 47%, on a fully-dilutedbasis, in an all-stock tr\\nansaction.Drizly\\nOn\\n October 12, 2021, we completed the acquisition of 100% ownership interest in The Drizly Group, Inc. (“Drizly”), an on-demand alcohol marketplace inNorth America, allowing us to expand \\nalcohol offerings in our Delivery business.', start_char_idx=None, end_char_idx=None, text_template='{metadata_str}\\n\\n{content}', metadata_template='{key}: {value}', metadata_seperator='\\n'), score=0.9060429334640503), NodeWithScore(node=TextNode(id_='a38bb893-6089-4f47-b999-7230a37d0f03', embedding=None, metadata={'page_label': '98', 'file_name': 'uber_2021.pdf', 'file_path': 'uber_2021.pdf', 'creation_date': '2023-11-16', 'last_modified_date': '2023-11-16', 'last_accessed_date': '2023-11-16'}, excluded_embed_metadata_keys=['creation_date', 'last_modified_date', 'last_accessed_date'], excluded_llm_metadata_keys=['creation_date', 'last_modified_date', 'last_accessed_date'], relationships={<NodeRelationship.SOURCE: '1'>: RelatedNodeInfo(node_id='a759266c-bec4-4fb8-8081-c2e59c4c2072', node_type=<ObjectType.DOCUMENT: '4'>, metadata={'page_label': '98', 'file_name': 'uber_2021.pdf', 'file_path': 'uber_2021.pdf', 'creation_date': '2023-11-16', 'last_modified_date': '2023-11-16', 'last_accessed_date': '2023-11-16'}, hash='441b3b3fc5ba93923511f76e0007e214672ad70971938a50d44c4860951fd317'), <NodeRelationship.NEXT: '3'>: RelatedNodeInfo(node_id='3444a681-6052-47b3-b155-26ba81e10fcf', node_type=<ObjectType.TEXT: '1'>, metadata={'page_label': '98', 'file_name': 'uber_2021.pdf', 'file_path': 'uber_2021.pdf', 'creation_date': '2023-11-16', 'last_modified_date': '2023-11-16', 'last_accessed_date': '2023-11-16'}, hash='8e04db55a525dfbf2632b2f248763fe41b0e66c6479909ed6b9e9683256bdc8c')}, hash='2ef1fa2070fbbf7454c45d4db09b57256c7ecc3d0e6bbb93d78a39b76a2d3b7a', text='Note 2 – RevenueThe\\n following  tables  present  our  revenues  disaggregated  by  offering  and  geographical  region.  Revenue  by  geographical  region  is  based  on  where  thetransaction\\n occurred. This level of disaggregation takes into consideration how the nature, amount, timing, and uncertainty of revenue and cash flows are affectedby economic factors. Revenue \\nis presented in the following tables for the years ended December 31, 2019, 2020 and 2021, respectively (in millions):Year Ended December 31,\\n2019\\n2020 2021 Mobility revenue \\n$ 10,707 $ 6,089 $ 6,953 Delivery revenue \\n1,401 3,904 8,362 Freight revenue\\n731 1,011 2,132 All Other revenue\\n161 135 8 Total revenue\\n$ 13,000 $ 11,139 $ 17,455  We\\n offer subscription memberships to end-users including Uber One, Uber Pass, Rides Pass, and Eats Pass (“Subscription”). We recognize Subscriptionfees\\n ratably over the life of the pass. We allocate Subscription fees earned to Mobility and Delivery revenue on a proportional basis, based on usage for eachoffering during the respe\\nctive period.Year Ended December 31,\\n2019\\n2020 2021 United States and Canada\\n$ 8,465 $ 6,611 $ 10,094 Latin America (\"LatAm\")\\n1,862 1,295 1,417 Europe, Middle East and Africa \\n(\"EMEA\")1,852 2,086 3,213 Asia Pacific (\"APAC\")\\n821 1,147 2,731 Total revenue\\n$ 13,000 $ 11,139 $ 17,455 Revenue\\nMobility Revenue\\nWe derive\\n revenue primarily from fees paid by Mobility Drivers for the use of our platform(s) and related services to facilitate and complete Mobility servicesand,\\n in certain markets, revenue from fees paid by end-users for connection services obtained via the platform. Mobility revenue also includes immaterial revenuestreams\\n such as our financial partnerships products and Vehicle Solutions. Vehicle Solutions revenue is accounted for as an operating lease as defined under ASC842.', start_char_idx=None, end_char_idx=None, text_template='{metadata_str}\\n\\n{content}', metadata_template='{key}: {value}', metadata_seperator='\\n'), score=0.9027172923088074)])]"
      ]
     },
     "execution_count": 11,
     "metadata": {},
     "output_type": "execute_result"
    }
   ],
   "source": [
    "response.sources"
   ]
  },
  {
   "cell_type": "markdown",
   "id": "fd183e6f",
   "metadata": {},
   "source": [
    "> Optional: for Milvus-Lite, stop the service at the end."
   ]
  },
  {
   "cell_type": "code",
   "execution_count": 12,
   "id": "4a32cd16",
   "metadata": {},
   "outputs": [],
   "source": [
    "default_server.stop()"
   ]
  }
 ],
 "metadata": {
  "kernelspec": {
   "display_name": "develop",
   "language": "python",
   "name": "python3"
  },
  "language_info": {
   "codemirror_mode": {
    "name": "ipython",
    "version": 3
   },
   "file_extension": ".py",
   "mimetype": "text/x-python",
   "name": "python",
   "nbconvert_exporter": "python",
   "pygments_lexer": "ipython3",
   "version": "3.8.18"
  }
 },
 "nbformat": 4,
 "nbformat_minor": 5
}
